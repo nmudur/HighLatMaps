{
 "cells": [
  {
   "cell_type": "markdown",
   "id": "7e5e5d59",
   "metadata": {},
   "source": [
    "* This version has within 2sigma ACC everywhere but is noisier"
   ]
  },
  {
   "cell_type": "code",
   "execution_count": 1,
   "id": "21e5a7ed",
   "metadata": {},
   "outputs": [
    {
     "data": {
      "text/plain": [
       "<module 'astro_cuts' from '/n/holylfs05/LABS/finkbeiner_lab/Everyone/highlat/notebooks_main1/../methods_code_Nresol/astro_cuts.py'>"
      ]
     },
     "execution_count": 1,
     "metadata": {},
     "output_type": "execute_result"
    }
   ],
   "source": [
    "import subprocess\n",
    "import numpy as np\n",
    "import healpy as hp\n",
    "import pickle\n",
    "from random import randint\n",
    "import joblib\n",
    "import sklearn\n",
    "import sys\n",
    "import importlib\n",
    "\n",
    "sys.path.append('../methods_code_Nresol/')\n",
    "sys.path.append('../utils/')\n",
    "from utils_circpatch import *\n",
    "from methods2 import *\n",
    "from vis_utils import *\n",
    "import astro_cuts\n",
    "importlib.reload(astro_cuts)"
   ]
  },
  {
   "cell_type": "code",
   "execution_count": 2,
   "id": "cf1c4ffc",
   "metadata": {},
   "outputs": [],
   "source": [
    "fullskypatch = get_testbed_dict('FullSky_Bayestar_babsgt20')"
   ]
  },
  {
   "cell_type": "code",
   "execution_count": 3,
   "id": "04aece50",
   "metadata": {},
   "outputs": [],
   "source": [
    "numtiles = np.unique(get_largepix_for_smallpix(fullskypatch['coords'], 2048, 32))"
   ]
  },
  {
   "cell_type": "code",
   "execution_count": 4,
   "id": "113e9806",
   "metadata": {},
   "outputs": [
    {
     "data": {
      "text/plain": [
       "(6620, 2.795608108108108)"
      ]
     },
     "execution_count": 4,
     "metadata": {},
     "output_type": "execute_result"
    }
   ],
   "source": [
    "len(numtiles), len(numtiles)/2368"
   ]
  },
  {
   "cell_type": "code",
   "execution_count": 5,
   "id": "43fa992f",
   "metadata": {},
   "outputs": [
    {
     "data": {
      "text/plain": [
       "0"
      ]
     },
     "execution_count": 5,
     "metadata": {},
     "output_type": "execute_result"
    }
   ],
   "source": [
    "b17map = get_bayestar2017_map()\n",
    "np.isnan(b17map[fullskypatch['coords']]).sum()"
   ]
  },
  {
   "cell_type": "code",
   "execution_count": 6,
   "id": "8d06bfcb",
   "metadata": {},
   "outputs": [],
   "source": [
    "runname = 'fullsky_runs/15e_fwhm-15_'\n",
    "wisemodel = joblib.load('spectra_matched/models/svm_panstarrs_quasarsep_balanced.joblib')\n",
    "smodel = joblib.load('spectra_matched/models/svm_sdss_quasarsep_unbalanced.joblib')\n",
    "\n",
    "cuts_list = [('distmod_median_cut', {'mindm': 8}), ('e_nonneg_cut_sigfac', {'sigfac': 5.0}),\n",
    "            ('bayestar_chisq_per_passband', {'maxchisq': 5.0}), \n",
    "            ('wise_svmnondetectioncombinedcut', {'model': wisemodel}), ('sdss_uvcut', {'model': smodel}),\n",
    "            ('dm_sigma_cut', {'maxsig': 1.5})]\n",
    "\n",
    "outer_kwargs = {'Nsidetile': 32, 'radius_deg_extra': 35/60, 'Nsideresol': 2048,\n",
    "               'stars_presaved': '/n/holylfs05/LABS/finkbeiner_lab/Everyone/highlat/data/lsdraw/stars_edr3/{}.fits'}\n",
    "recon_kwargs = {'length': np.deg2rad(15/(2.355*60)), 'scale': 1.0, 'no_invvar': False}\n",
    "kwargs_dict = {'outer_kwargs': outer_kwargs, 'recon_kwargs': recon_kwargs}\n",
    "recon_func_name = 'gaussiankernel_reconstruction_effective_spherical3_blocks'"
   ]
  },
  {
   "cell_type": "code",
   "execution_count": null,
   "id": "7244001e",
   "metadata": {},
   "outputs": [
    {
     "name": "stdout",
     "output_type": "stream",
     "text": [
      "Using Star Directory: /n/holylfs05/LABS/finkbeiner_lab/Everyone/highlat/data/lsdraw/stars_edr3/{}.fits\n"
     ]
    }
   ],
   "source": [
    "recondict = gnupartilewise_new(fullskypatch['coords'], recon_func_name, cuts_list, kwargs_dict, \n",
    "                               runname, sleep=7500, mem=8000, compile_pickle=True)"
   ]
  },
  {
   "cell_type": "code",
   "execution_count": 11,
   "id": "abc987d5",
   "metadata": {},
   "outputs": [],
   "source": [
    "missingtiles = []\n",
    "for tile in numtiles:\n",
    "    if not os.path.exists(runname+'_tmpdir/recon_{}.hdf5'.format(tile)):\n",
    "        missingtiles.append(tile)"
   ]
  },
  {
   "cell_type": "code",
   "execution_count": 14,
   "id": "2bb40904",
   "metadata": {},
   "outputs": [
    {
     "name": "stdout",
     "output_type": "stream",
     "text": [
      "Dir already exists\n",
      "Tiles file already exists\n",
      "Only reconstructing for missing 142 tiles\n",
      "Using Star Directory: /n/holylfs05/LABS/finkbeiner_lab/Everyone/highlat/data/lsdraw/stars_edr3/{}.fits\n",
      "Tmp pickle already exists\n",
      "Ckp\n",
      "Missing / Corrupted files:  [8131]\n"
     ]
    },
    {
     "ename": "TypeError",
     "evalue": "cannot unpack non-iterable NoneType object",
     "output_type": "error",
     "traceback": [
      "\u001b[0;31m---------------------------------------------------------------------------\u001b[0m",
      "\u001b[0;31mTypeError\u001b[0m                                 Traceback (most recent call last)",
      "Input \u001b[0;32mIn [14]\u001b[0m, in \u001b[0;36m<module>\u001b[0;34m\u001b[0m\n\u001b[0;32m----> 1\u001b[0m recondict \u001b[38;5;241m=\u001b[39m \u001b[43mgnupartilewise_new\u001b[49m\u001b[43m(\u001b[49m\u001b[43mfullskypatch\u001b[49m\u001b[43m[\u001b[49m\u001b[38;5;124;43m'\u001b[39;49m\u001b[38;5;124;43mcoords\u001b[39;49m\u001b[38;5;124;43m'\u001b[39;49m\u001b[43m]\u001b[49m\u001b[43m,\u001b[49m\u001b[43m \u001b[49m\u001b[43mrecon_func_name\u001b[49m\u001b[43m,\u001b[49m\u001b[43m \u001b[49m\u001b[43mcuts_list\u001b[49m\u001b[43m,\u001b[49m\u001b[43m \u001b[49m\u001b[43mkwargs_dict\u001b[49m\u001b[43m,\u001b[49m\u001b[43m \u001b[49m\n\u001b[1;32m      2\u001b[0m \u001b[43m                               \u001b[49m\u001b[43mrunname\u001b[49m\u001b[43m,\u001b[49m\u001b[43m \u001b[49m\u001b[43msleep\u001b[49m\u001b[38;5;241;43m=\u001b[39;49m\u001b[38;5;241;43m1500\u001b[39;49m\u001b[43m,\u001b[49m\u001b[43m \u001b[49m\u001b[43mmem\u001b[49m\u001b[38;5;241;43m=\u001b[39;49m\u001b[38;5;241;43m16000\u001b[39;49m\u001b[43m,\u001b[49m\u001b[43m \u001b[49m\u001b[43mcompile_pickle\u001b[49m\u001b[38;5;241;43m=\u001b[39;49m\u001b[38;5;28;43;01mTrue\u001b[39;49;00m\u001b[43m)\u001b[49m\n",
      "File \u001b[0;32m/n/holylfs05/LABS/finkbeiner_lab/Everyone/highlat/notebooks_main1/../methods_code_Nresol/methods2.py:159\u001b[0m, in \u001b[0;36mgnupartilewise_new\u001b[0;34m(coords, recon_func_name, cuts_list, kwargs_dict, runname, sleep, mem, compile_pickle)\u001b[0m\n\u001b[1;32m    157\u001b[0m \u001b[38;5;28;01mif\u001b[39;00m compile_pickle:\n\u001b[1;32m    158\u001b[0m     time\u001b[38;5;241m.\u001b[39msleep(sleep)\n\u001b[0;32m--> 159\u001b[0m     reconmap, varmap, reconpix \u001b[38;5;241m=\u001b[39m get_Nsideresol_healpix_map_from_gnuparpatches_safe(tmpdir, Nsideresol\u001b[38;5;241m=\u001b[39mkwargs_dict[\u001b[38;5;124m'\u001b[39m\u001b[38;5;124mouter_kwargs\u001b[39m\u001b[38;5;124m'\u001b[39m][\u001b[38;5;124m'\u001b[39m\u001b[38;5;124mNsideresol\u001b[39m\u001b[38;5;124m'\u001b[39m], tiles\u001b[38;5;241m=\u001b[39mtiles)\n\u001b[1;32m    160\u001b[0m     result_dict \u001b[38;5;241m=\u001b[39m {\u001b[38;5;124m'\u001b[39m\u001b[38;5;124mdustmap\u001b[39m\u001b[38;5;124m'\u001b[39m: reconmap, \u001b[38;5;124m'\u001b[39m\u001b[38;5;124mvariancemap\u001b[39m\u001b[38;5;124m'\u001b[39m: varmap, \u001b[38;5;124m'\u001b[39m\u001b[38;5;124mreconpix\u001b[39m\u001b[38;5;124m'\u001b[39m: reconpix,\n\u001b[1;32m    161\u001b[0m                    \u001b[38;5;124m'\u001b[39m\u001b[38;5;124mfunc\u001b[39m\u001b[38;5;124m'\u001b[39m: \u001b[38;5;124m'\u001b[39m\u001b[38;5;124mgnupartilewise_new\u001b[39m\u001b[38;5;124m'\u001b[39m,\n\u001b[1;32m    162\u001b[0m                    \u001b[38;5;124m'\u001b[39m\u001b[38;5;124mcuts_list\u001b[39m\u001b[38;5;124m'\u001b[39m: cuts_list, \u001b[38;5;124m'\u001b[39m\u001b[38;5;124mrecon_func_name\u001b[39m\u001b[38;5;124m'\u001b[39m: recon_func_name,\n\u001b[1;32m    163\u001b[0m                    \u001b[38;5;124m'\u001b[39m\u001b[38;5;124mkwargs_dict\u001b[39m\u001b[38;5;124m'\u001b[39m: kwargs_dict}\n\u001b[1;32m    164\u001b[0m     pickle\u001b[38;5;241m.\u001b[39mdump(result_dict, \u001b[38;5;28mopen\u001b[39m(runname \u001b[38;5;241m+\u001b[39m \u001b[38;5;124m'\u001b[39m\u001b[38;5;124m.pkl\u001b[39m\u001b[38;5;124m'\u001b[39m, \u001b[38;5;124m'\u001b[39m\u001b[38;5;124mwb\u001b[39m\u001b[38;5;124m'\u001b[39m))\n",
      "\u001b[0;31mTypeError\u001b[0m: cannot unpack non-iterable NoneType object"
     ]
    }
   ],
   "source": [
    "recondict = gnupartilewise_new(fullskypatch['coords'], recon_func_name, cuts_list, kwargs_dict, \n",
    "                               runname, sleep=1500, mem=16000, compile_pickle=True)"
   ]
  },
  {
   "cell_type": "code",
   "execution_count": 15,
   "id": "89748774",
   "metadata": {},
   "outputs": [],
   "source": [
    "missingtiles = []\n",
    "for tile in numtiles:\n",
    "    if not os.path.exists(runname+'_tmpdir/recon_{}.hdf5'.format(tile)):\n",
    "        missingtiles.append(tile)"
   ]
  },
  {
   "cell_type": "code",
   "execution_count": 16,
   "id": "88b53b26",
   "metadata": {},
   "outputs": [
    {
     "data": {
      "text/plain": [
       "[8131]"
      ]
     },
     "execution_count": 16,
     "metadata": {},
     "output_type": "execute_result"
    }
   ],
   "source": [
    "missingtiles"
   ]
  },
  {
   "cell_type": "code",
   "execution_count": 17,
   "id": "1837850e",
   "metadata": {},
   "outputs": [],
   "source": [
    "missing_coords = []\n",
    "for t32 in missingtiles:\n",
    "    missing_coords.append(get_smallpix_in_tilepix(outer_kwargs['Nsidetile'], t32, 2048))\n",
    "missing_coords = np.hstack(missing_coords)"
   ]
  },
  {
   "cell_type": "code",
   "execution_count": 18,
   "id": "13c66a91",
   "metadata": {},
   "outputs": [
    {
     "data": {
      "text/plain": [
       "4096"
      ]
     },
     "execution_count": 18,
     "metadata": {},
     "output_type": "execute_result"
    }
   ],
   "source": [
    "len(missing_coords)"
   ]
  },
  {
   "cell_type": "code",
   "execution_count": 19,
   "id": "c0e201fe",
   "metadata": {},
   "outputs": [
    {
     "name": "stdout",
     "output_type": "stream",
     "text": [
      "Looping over 1 tiles\n",
      "Using dir  /n/holylfs05/LABS/finkbeiner_lab/Everyone/highlat/data/lsdraw/stars_edr3/{}.fits\n",
      "Region for tile8131\n"
     ]
    },
    {
     "name": "stderr",
     "output_type": "stream",
     "text": [
      "/n/holylfs05/LABS/finkbeiner_lab/Everyone/highlat/notebooks_main1/../methods_code_Nresol/do_recon_tilewise.py:44: RuntimeWarning: divide by zero encountered in true_divide\n",
      "  df['reduced_chisq'] = df['chisq'].to_numpy() * n_passbands / (n_passbands - 4)\n",
      "/n/holylfs05/LABS/finkbeiner_lab/Everyone/highlat/notebooks_main1/../methods_code_Nresol/do_recon_tilewise.py:49: RuntimeWarning: divide by zero encountered in power\n",
      "  sdss_flux_sig = np.power(np.array(dat['sdss_dr14_starsweep.psfflux_ivar']), -0.5)\n",
      "/n/holylfs05/LABS/finkbeiner_lab/Everyone/highlat/notebooks_main1/../methods_code_Nresol/do_recon_tilewise.py:51: RuntimeWarning: divide by zero encountered in log10\n",
      "  df['sdss.pmag_'+b] = 22.5 - 2.5*np.clip(np.log10(np.array(dat['sdss_dr14_starsweep.psfflux'])[:, ib]), 0.0, np.inf)\n",
      "/n/holylfs05/LABS/finkbeiner_lab/Everyone/highlat/notebooks_main1/../methods_code_Nresol/do_recon_tilewise.py:56: RuntimeWarning: divide by zero encountered in log10\n",
      "  df['ps.psfmagmean_'+b] = -2.5*np.log10(np.array(dat['ucal_fluxqz.mean'][:, ib]))\n",
      "/n/holylfs05/LABS/finkbeiner_lab/Everyone/highlat/notebooks_main1/../methods_code_Nresol/do_recon_tilewise.py:57: RuntimeWarning: invalid value encountered in true_divide\n",
      "  df['ps.psfmagstdev_' + b] = (2.5/np.log(10))*(np.array(dat['ucal_fluxqz.stdev'][:, ib])/np.array(dat['ucal_fluxqz.mean'][:, ib]))\n",
      "/n/holylfs05/LABS/finkbeiner_lab/Everyone/highlat/notebooks_main1/../methods_code_Nresol/do_recon_tilewise.py:58: RuntimeWarning: divide by zero encountered in log10\n",
      "  df['ps.apmagmean_'+b] = -2.5*np.log10(np.array(dat['ucal_fluxqz.mean_ap'][:, ib]))\n",
      "/n/holylfs05/LABS/finkbeiner_lab/Everyone/highlat/notebooks_main1/../methods_code_Nresol/do_recon_tilewise.py:59: RuntimeWarning: invalid value encountered in true_divide\n",
      "  df['ps.apmagstdev_' + b] = (2.5/np.log(10))*(np.array(dat['ucal_fluxqz.stdev_ap'][:, ib])/np.array(dat['ucal_fluxqz.mean_ap'][:, ib]))\n",
      "/n/holylfs05/LABS/finkbeiner_lab/Everyone/highlat/notebooks_main1/../methods_code_Nresol/do_recon_tilewise.py:60: RuntimeWarning: invalid value encountered in subtract\n",
      "  df['ps.psf-apmag_'+b] = df['ps.psfmagmean_'+b].to_numpy() - df['ps.apmagmean_'+b].to_numpy()\n"
     ]
    },
    {
     "name": "stdout",
     "output_type": "stream",
     "text": [
      "Cut0 598227 0.9954257740741727\n",
      "Cut1 596087 0.9918648997630521\n",
      "Cut2 598048 0.995127925241607\n",
      "Cut3 589906 0.9815799632597642\n",
      "Cut4 600976 1.0\n",
      "Cut5 590399 0.9824002955192886\n",
      "Cuts_All 570588 0.9494355847820878\n",
      "Tile 8131, NumPixels=4096, NumStars=570588, Star/Pix ratio = 139.3037109375\n",
      "SigRef 0.19747676285489194\n",
      "No stars for pix 0.0\n",
      "Stars Contributing >1sigma/N(pixel) of the weight matrix: Min stars = 1204, 16%ile = 1302.0, median stars = 1372.0, 84%ile = 1454.0, max stars = 1594\n",
      "No stars for pix 0.0\n",
      "Stars Contributing >1sigma/N(pixel) of the weight matrix: Min stars = 1242, 16%ile = 1430.0, median stars = 1496.0, 84%ile = 1555.0, max stars = 1641\n",
      "No stars for pix 0.0\n",
      "Stars Contributing >1sigma/N(pixel) of the weight matrix: Min stars = 1110, 16%ile = 1221.0, median stars = 1373.0, 84%ile = 1468.0, max stars = 1743\n",
      "No stars for pix 0.0\n",
      "Stars Contributing >1sigma/N(pixel) of the weight matrix: Min stars = 1357, 16%ile = 1559.0, median stars = 1674.0, 84%ile = 1769.0, max stars = 1846\n"
     ]
    }
   ],
   "source": [
    "looptilewise(missing_coords, recon_func_name, cuts_list, kwargs_dict, runname, save_tilewise=True, compile_pickle=False)"
   ]
  },
  {
   "cell_type": "code",
   "execution_count": 20,
   "id": "38ac9c23",
   "metadata": {},
   "outputs": [
    {
     "name": "stdout",
     "output_type": "stream",
     "text": [
      "Ckp\n"
     ]
    }
   ],
   "source": [
    "reconmap, varmap, reconpix = get_Nsideresol_healpix_map_from_gnuparpatches_safe(runname+'_tmpdir/', Nsideresol=kwargs_dict['outer_kwargs']['Nsideresol'], tiles = numtiles)\n",
    "result_dict = {'dustmap': reconmap, 'variancemap': varmap, 'reconpix': reconpix,\n",
    "               'func': 'gnupartilewise_new',\n",
    "               'cuts_list': cuts_list, 'recon_func_name': recon_func_name,\n",
    "               'kwargs_dict': kwargs_dict}\n",
    "pickle.dump(result_dict, open(runname + '_babsgt20.pkl', 'wb'))"
   ]
  },
  {
   "cell_type": "code",
   "execution_count": null,
   "id": "076be2a5",
   "metadata": {},
   "outputs": [],
   "source": []
  }
 ],
 "metadata": {
  "kernelspec": {
   "display_name": "Python 3",
   "language": "python",
   "name": "python3"
  },
  "language_info": {
   "codemirror_mode": {
    "name": "ipython",
    "version": 3
   },
   "file_extension": ".py",
   "mimetype": "text/x-python",
   "name": "python",
   "nbconvert_exporter": "python",
   "pygments_lexer": "ipython3",
   "version": "3.8.12"
  }
 },
 "nbformat": 4,
 "nbformat_minor": 5
}
