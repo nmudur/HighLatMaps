{
 "cells": [
  {
   "cell_type": "code",
   "execution_count": 1,
   "id": "eb253d22-c152-4e53-abe0-d717c8d2dd5f",
   "metadata": {},
   "outputs": [],
   "source": [
    "import healpy as hp\n",
    "from dustmaps.bayestar import BayestarQuery\n",
    "from astropy.coordinates import SkyCoord\n",
    "import astropy.units as u\n",
    "import numpy as np"
   ]
  },
  {
   "cell_type": "markdown",
   "id": "8f066b10-649b-49f5-b09e-334d08fbcc4c",
   "metadata": {},
   "source": [
    "##### 2019"
   ]
  },
  {
   "cell_type": "code",
   "execution_count": 2,
   "id": "d9d0e9a8-6223-45b8-958c-502276e374c1",
   "metadata": {},
   "outputs": [
    {
     "name": "stdout",
     "output_type": "stream",
     "text": [
      "Loading pixel_info ...\n",
      "Loading samples ...\n",
      "Loading best_fit ...\n",
      "Replacing NaNs in reliable distance estimates ...\n",
      "Sorting pixel_info ...\n",
      "Extracting hp_idx_sorted and data_idx at each nside ...\n",
      "  nside = 64\n",
      "  nside = 128\n",
      "  nside = 256\n",
      "  nside = 512\n",
      "  nside = 1024\n",
      "t = 41.586 s\n",
      "  pix_info:   0.596 s\n",
      "   samples:  26.292 s\n",
      "      best:   4.285 s\n",
      "       nan:   0.075 s\n",
      "      sort:  10.167 s\n",
      "       idx:   0.170 s\n",
      "59.56621435290109 kpc\n"
     ]
    }
   ],
   "source": [
    "import healpy as hp\n",
    "from dustmaps.bayestar import BayestarQuery\n",
    "from astropy.coordinates import SkyCoord\n",
    "import astropy.units as u\n",
    "import numpy as np\n",
    "import gc\n",
    "import h5py\n",
    "\n",
    "b19 = BayestarQuery(version='bayestar2019')\n",
    "mindist = b19.distances[-1]\n",
    "print(mindist)\n",
    "\n",
    "b19map = np.zeros(hp.pixelfunc.nside2npix(2048))\n",
    "allpix2048 = np.arange(hp.pixelfunc.nside2npix(2048))\n",
    "lb2048 = hp.pixelfunc.pix2ang(2048, allpix2048, lonlat=True)\n",
    "coords2048 = SkyCoord(l=lb2048[0]*u.deg, b=lb2048[1]*u.deg, distance = mindist, frame='galactic')\n",
    "b19map = b19(coords2048, mode='mean')\n",
    "del b19\n",
    "gc.collect()\n",
    "with h5py.File('../reference_maps/bayestar2019.hdf5', 'w') as f:\n",
    "    dset = f.create_dataset(\"mean\", data = b19map)\n",
    "    dset = f.create_dataset(\"coords_lb\", data = np.vstack(lb2048).T)"
   ]
  },
  {
   "cell_type": "code",
   "execution_count": null,
   "id": "3c612777-66e3-4b53-b93a-0dd266935e04",
   "metadata": {},
   "outputs": [],
   "source": []
  }
 ],
 "metadata": {
  "kernelspec": {
   "display_name": "Python 3",
   "language": "python",
   "name": "python3"
  },
  "language_info": {
   "codemirror_mode": {
    "name": "ipython",
    "version": 3
   },
   "file_extension": ".py",
   "mimetype": "text/x-python",
   "name": "python",
   "nbconvert_exporter": "python",
   "pygments_lexer": "ipython3",
   "version": "3.8.12"
  }
 },
 "nbformat": 4,
 "nbformat_minor": 5
}
