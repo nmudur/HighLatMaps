{
 "cells": [
  {
   "cell_type": "code",
   "execution_count": 1,
   "id": "89b5e66f",
   "metadata": {},
   "outputs": [],
   "source": [
    "import numpy as np\n",
    "import pandas as pd\n",
    "import sys\n",
    "import os\n",
    "import matplotlib.pyplot as plt\n",
    "import joblib\n",
    "\n",
    "from astropy.io import fits\n",
    "from functools import reduce\n",
    "from astropy.table import Table\n",
    "\n",
    "sys.path.append('../../methods_code_Nresol/')\n",
    "sys.path.append('../../utils/')\n",
    "import astro_cuts\n",
    "import importlib\n",
    "import spec_utils"
   ]
  },
  {
   "cell_type": "code",
   "execution_count": 2,
   "id": "5a70dfcb",
   "metadata": {},
   "outputs": [],
   "source": [
    "from sklearn.preprocessing import StandardScaler\n",
    "from sklearn.svm import SVC"
   ]
  },
  {
   "cell_type": "code",
   "execution_count": 3,
   "id": "167c3ece",
   "metadata": {},
   "outputs": [
    {
     "name": "stderr",
     "output_type": "stream",
     "text": [
      "/n/holylfs05/LABS/finkbeiner_lab/Everyone/highlat/notebooks_main1/spectra_matched/spec_utils.py:36: RuntimeWarning: divide by zero encountered in true_divide\n",
      "  df['reduced_chisq'] = df['chisq'].to_numpy() * n_passbands / (n_passbands - 4)\n",
      "/n/holylfs05/LABS/finkbeiner_lab/Everyone/highlat/notebooks_main1/spectra_matched/spec_utils.py:40: RuntimeWarning: divide by zero encountered in power\n",
      "  sdss_flux_sig = np.power(np.array(dat['sdss_dr14_starsweep.psfflux_ivar']), -0.5)\n",
      "/n/holylfs05/LABS/finkbeiner_lab/Everyone/highlat/notebooks_main1/spectra_matched/spec_utils.py:42: RuntimeWarning: divide by zero encountered in log10\n",
      "  df['sdss.pmag_'+b] = 22.5 - 2.5*np.clip(np.log10(np.array(dat['sdss_dr14_starsweep.psfflux'])[:, ib]), 0.0, np.inf)\n",
      "/n/holylfs05/LABS/finkbeiner_lab/Everyone/highlat/notebooks_main1/spectra_matched/spec_utils.py:42: RuntimeWarning: invalid value encountered in log10\n",
      "  df['sdss.pmag_'+b] = 22.5 - 2.5*np.clip(np.log10(np.array(dat['sdss_dr14_starsweep.psfflux'])[:, ib]), 0.0, np.inf)\n"
     ]
    },
    {
     "name": "stdout",
     "output_type": "stream",
     "text": [
      "Number of objects before / after 182367 65377\n",
      "c1 = 0.875, c2 = 0.995, c3 = 0.454\n",
      "Fraction left = 0.358\n"
     ]
    }
   ],
   "source": [
    "fname = 'lsd_scripts/spectrain_south_r50.fits'\n",
    "df_allspec = spec_utils.convert_to_dataframe_specmatched(fname)\n",
    "df_goodspec = spec_utils.return_goodspec(df_allspec)"
   ]
  },
  {
   "cell_type": "code",
   "execution_count": 5,
   "id": "1b357055",
   "metadata": {},
   "outputs": [
    {
     "name": "stdout",
     "output_type": "stream",
     "text": [
      "Number of Stars = 55474, Fraction(%) = 84.8525, Ratio(obj:star)*100 = 100\n",
      "Number of Galaxies = 87, Fraction(%) = 0.1331, Ratio(obj:star)*100 = 0.1568\n",
      "Number of QSOs = 9816, Fraction(%) = 15.0145, Ratio(obj:star)*100 = 17.6948\n"
     ]
    }
   ],
   "source": [
    "spec_utils.print_obj_distribution(df_goodspec['sdss_dr17_specobj.CLASS'])"
   ]
  },
  {
   "cell_type": "code",
   "execution_count": 6,
   "id": "f7145557",
   "metadata": {},
   "outputs": [],
   "source": [
    "nbtest_dir = '../../notebooks_test/'\n",
    "\n",
    "def combine_cuts(df_input, cuts_list):\n",
    "    cutfuncs = [getattr(astro_cuts, ctup[0]) for ctup in cuts_list]\n",
    "    masklist = []\n",
    "    for c, ctup in enumerate(cuts_list):\n",
    "        if len(ctup)==1:\n",
    "            masklist.append(cutfuncs[c](df_input))\n",
    "        else:\n",
    "            masklist.append(cutfuncs[c](df_input, **ctup[1]))\n",
    "        print('Cut{} {} {}'.format(c, np.sum(masklist[c]), np.sum(masklist[c])/len(masklist[c])))\n",
    "    final_cut = reduce(np.logical_and, masklist) #intersection of all cuts\n",
    "    print('Effective Cut = {:.3f}'.format(np.sum(final_cut)/len(final_cut)))\n",
    "    return final_cut"
   ]
  },
  {
   "cell_type": "code",
   "execution_count": 7,
   "id": "c2e37dbc",
   "metadata": {},
   "outputs": [
    {
     "name": "stdout",
     "output_type": "stream",
     "text": [
      "Cut0 63756 0.9752053474463497\n",
      "Cut1 61712 0.9439405295440293\n",
      "Cut2 55865 0.8545054071003564\n",
      "Cut3 65092 0.9956406687367116\n",
      "Cut4 55658 0.8513391559722838\n",
      "Cut5 52118 0.7971916729124922\n",
      "Effective Cut = 0.710\n",
      "Number of Stars = 46373, Fraction(%) = 99.8923, Ratio(obj:star)*100 = 100\n",
      "Number of Galaxies = 31, Fraction(%) = 0.0668, Ratio(obj:star)*100 = 0.0668\n",
      "Number of QSOs = 19, Fraction(%) = 0.0409, Ratio(obj:star)*100 = 0.0410\n"
     ]
    }
   ],
   "source": [
    "wisemodel = joblib.load('models/svm_panstarrs_quasarsep_balanced.joblib')\n",
    "smodel = joblib.load('models/svm_sdss_quasarsep_unbalanced.joblib')\n",
    "\n",
    "cuts_list = [('distmod_median_cut', {'mindm': 8}), ('dm_sigma_cut', {'maxsig': 1.5}), \n",
    "             ('wise_svmnondetectioncombinedcut', {'model': wisemodel}), ('parallax_nan_edr3',),\n",
    "             ('sdss_uvcut', {'model': smodel}), ('bayestar_chisq', {'maxchisq': 3.0})]\n",
    "\n",
    "final_cut = combine_cuts(df_goodspec, cuts_list) #intersection of all cuts\n",
    "df16a = df_goodspec.iloc[final_cut, :]\n",
    "spec_utils.print_obj_distribution(df16a['sdss_dr17_specobj.CLASS'])"
   ]
  },
  {
   "cell_type": "code",
   "execution_count": null,
   "id": "4bc5a5ef",
   "metadata": {},
   "outputs": [],
   "source": []
  }
 ],
 "metadata": {
  "kernelspec": {
   "display_name": "Python 3",
   "language": "python",
   "name": "python3"
  },
  "language_info": {
   "codemirror_mode": {
    "name": "ipython",
    "version": 3
   },
   "file_extension": ".py",
   "mimetype": "text/x-python",
   "name": "python",
   "nbconvert_exporter": "python",
   "pygments_lexer": "ipython3",
   "version": "3.8.12"
  }
 },
 "nbformat": 4,
 "nbformat_minor": 5
}
