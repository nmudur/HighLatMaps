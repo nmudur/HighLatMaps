{
 "cells": [
  {
   "cell_type": "markdown",
   "id": "79e786d9",
   "metadata": {},
   "source": [
    "* Main: This notebook contains the file that has tests on how different cuts remove objects on goodspec.\n",
    "* Updated with 16a "
   ]
  },
  {
   "cell_type": "code",
   "execution_count": 1,
   "id": "6d505162",
   "metadata": {},
   "outputs": [],
   "source": [
    "import numpy as np\n",
    "import pandas as pd\n",
    "import sys\n",
    "import os\n",
    "import matplotlib.pyplot as plt\n",
    "import joblib\n",
    "\n",
    "from astropy.io import fits\n",
    "from functools import reduce\n",
    "from astropy.table import Table\n",
    "\n",
    "sys.path.append('../../methods_code_Nresol/')\n",
    "sys.path.append('../../utils/')\n",
    "import astro_cuts\n",
    "import importlib\n",
    "import spec_utils"
   ]
  },
  {
   "cell_type": "code",
   "execution_count": 2,
   "id": "994771db",
   "metadata": {},
   "outputs": [],
   "source": [
    "dat = Table.read('lsd_scripts/spectrain_2_11_r50.fits', format='fits')"
   ]
  },
  {
   "cell_type": "code",
   "execution_count": 3,
   "id": "bf4268fd",
   "metadata": {},
   "outputs": [
    {
     "data": {
      "text/plain": [
       "array([b'GALAXY', b'QSO', b'STAR'], dtype='|S6')"
      ]
     },
     "execution_count": 3,
     "metadata": {},
     "output_type": "execute_result"
    }
   ],
   "source": [
    "np.unique(np.array(dat['sdss_dr17_specobj.CLASS']))"
   ]
  },
  {
   "cell_type": "code",
   "execution_count": 4,
   "id": "5ab5cf66",
   "metadata": {
    "scrolled": true
   },
   "outputs": [
    {
     "name": "stderr",
     "output_type": "stream",
     "text": [
      "/n/holylfs05/LABS/finkbeiner_lab/Everyone/highlat/notebooks_main1/spectra_matched/spec_utils.py:36: RuntimeWarning: divide by zero encountered in true_divide\n",
      "  df['reduced_chisq'] = df['chisq'].to_numpy() * n_passbands / (n_passbands - 4)\n",
      "/n/holylfs05/LABS/finkbeiner_lab/Everyone/highlat/notebooks_main1/spectra_matched/spec_utils.py:40: RuntimeWarning: divide by zero encountered in power\n",
      "  sdss_flux_sig = np.power(np.array(dat['sdss_dr14_starsweep.psfflux_ivar']), -0.5)\n",
      "/n/holylfs05/LABS/finkbeiner_lab/Everyone/highlat/notebooks_main1/spectra_matched/spec_utils.py:42: RuntimeWarning: divide by zero encountered in log10\n",
      "  df['sdss.pmag_'+b] = 22.5 - 2.5*np.clip(np.log10(np.array(dat['sdss_dr14_starsweep.psfflux'])[:, ib]), 0.0, np.inf)\n",
      "/n/holylfs05/LABS/finkbeiner_lab/Everyone/highlat/notebooks_main1/spectra_matched/spec_utils.py:42: RuntimeWarning: invalid value encountered in log10\n",
      "  df['sdss.pmag_'+b] = 22.5 - 2.5*np.clip(np.log10(np.array(dat['sdss_dr14_starsweep.psfflux'])[:, ib]), 0.0, np.inf)\n"
     ]
    }
   ],
   "source": [
    "fname = 'lsd_scripts/spectrain_2_11_r50.fits'\n",
    "df_allspec = spec_utils.convert_to_dataframe_specmatched(fname)"
   ]
  },
  {
   "cell_type": "code",
   "execution_count": 5,
   "id": "e319c3bb",
   "metadata": {},
   "outputs": [
    {
     "data": {
      "text/plain": [
       "<module 'spec_utils' from '/n/holylfs05/LABS/finkbeiner_lab/Everyone/highlat/notebooks_main1/spectra_matched/spec_utils.py'>"
      ]
     },
     "execution_count": 5,
     "metadata": {},
     "output_type": "execute_result"
    }
   ],
   "source": [
    "importlib.reload(spec_utils)"
   ]
  },
  {
   "cell_type": "code",
   "execution_count": 6,
   "id": "d022b945",
   "metadata": {},
   "outputs": [
    {
     "name": "stdout",
     "output_type": "stream",
     "text": [
      "Number of objects before / after 596315 210713\n",
      "c1 = 0.873, c2 = 0.995, c3 = 0.445\n",
      "Fraction left = 0.353\n"
     ]
    }
   ],
   "source": [
    "df_goodspec = spec_utils.return_goodspec(df_allspec)"
   ]
  },
  {
   "cell_type": "markdown",
   "id": "413e8e45",
   "metadata": {},
   "source": [
    "## Section 1: \n",
    "### How many objects are not stars before cuts?"
   ]
  },
  {
   "cell_type": "code",
   "execution_count": 7,
   "id": "15232674",
   "metadata": {},
   "outputs": [
    {
     "data": {
      "text/plain": [
       "<module 'spec_utils' from '/n/holylfs05/LABS/finkbeiner_lab/Everyone/highlat/notebooks_main1/spectra_matched/spec_utils.py'>"
      ]
     },
     "execution_count": 7,
     "metadata": {},
     "output_type": "execute_result"
    }
   ],
   "source": [
    "importlib.reload(spec_utils)\n",
    "#make a table for this instead"
   ]
  },
  {
   "cell_type": "code",
   "execution_count": 8,
   "id": "dd8b3d99",
   "metadata": {},
   "outputs": [
    {
     "name": "stdout",
     "output_type": "stream",
     "text": [
      "Number of Stars = 175597, Fraction(%) = 83.3347, Ratio(obj:star)*100 = 100\n",
      "Number of Galaxies = 299, Fraction(%) = 0.1419, Ratio(obj:star)*100 = 0.1703\n",
      "Number of QSOs = 34817, Fraction(%) = 16.5234, Ratio(obj:star)*100 = 19.8278\n"
     ]
    }
   ],
   "source": [
    "spec_utils.print_obj_distribution(df_goodspec['sdss_dr17_specobj.CLASS'])"
   ]
  },
  {
   "cell_type": "markdown",
   "id": "83eb71ed",
   "metadata": {},
   "source": [
    "### After cuts: 16a"
   ]
  },
  {
   "cell_type": "code",
   "execution_count": 9,
   "id": "6b9d83e6",
   "metadata": {},
   "outputs": [],
   "source": [
    "nbtest_dir = '../../notebooks_test/'\n",
    "\n",
    "def combine_cuts(df_input, cuts_list):\n",
    "    cutfuncs = [getattr(astro_cuts, ctup[0]) for ctup in cuts_list]\n",
    "    masklist = []\n",
    "    for c, ctup in enumerate(cuts_list):\n",
    "        if len(ctup)==1:\n",
    "            masklist.append(cutfuncs[c](df_input))\n",
    "        else:\n",
    "            masklist.append(cutfuncs[c](df_input, **ctup[1]))\n",
    "        print('Cut{} {} {}'.format(c, np.sum(masklist[c]), np.sum(masklist[c])/len(masklist[c])))\n",
    "    final_cut = reduce(np.logical_and, masklist) #intersection of all cuts\n",
    "    print('Effective Cut = {:.3f}'.format(np.sum(final_cut)/len(final_cut)))\n",
    "    return final_cut"
   ]
  },
  {
   "cell_type": "code",
   "execution_count": 10,
   "id": "3e0ccf13",
   "metadata": {},
   "outputs": [
    {
     "data": {
      "text/plain": [
       "['.ipynb_checkpoints',\n",
       " 'svm_sdss_quasarsep_unbalanced.joblib',\n",
       " 'svm_panstarrs_quasarsep_balanced.joblib',\n",
       " 'svm_sdss_quasarsep_balanced.joblib']"
      ]
     },
     "execution_count": 10,
     "metadata": {},
     "output_type": "execute_result"
    }
   ],
   "source": [
    "os.listdir('models')"
   ]
  },
  {
   "cell_type": "code",
   "execution_count": 11,
   "id": "348dab58",
   "metadata": {},
   "outputs": [
    {
     "name": "stdout",
     "output_type": "stream",
     "text": [
      "Cut0 206622 0.9805849662811502\n",
      "Cut1 200235 0.9502735948897315\n",
      "Cut2 176656 0.8383725731207852\n",
      "Cut3 210106 0.997119304456773\n",
      "Cut4 175386 0.8323454177008538\n",
      "Cut5 156011 0.740395704109381\n",
      "Effective Cut = 0.667\n",
      "Number of Stars = 140519, Fraction(%) = 99.9232, Ratio(obj:star)*100 = 100\n",
      "Number of Galaxies = 55, Fraction(%) = 0.0391, Ratio(obj:star)*100 = 0.0391\n",
      "Number of QSOs = 53, Fraction(%) = 0.0377, Ratio(obj:star)*100 = 0.0377\n"
     ]
    }
   ],
   "source": [
    "wisemodel = joblib.load('models/svm_panstarrs_quasarsep_balanced.joblib')\n",
    "smodel = joblib.load('models/svm_sdss_quasarsep_unbalanced.joblib')\n",
    "\n",
    "cuts_list = [('distmod_median_cut', {'mindm': 8}), ('dm_sigma_cut', {'maxsig': 1.5}), \n",
    "             ('wise_svmnondetectioncombinedcut', {'model': wisemodel}), ('parallax_nan_edr3',),\n",
    "             ('sdss_uvcut', {'model': smodel}), ('bayestar_chisq', {'maxchisq': 3.0})]\n",
    "\n",
    "final_cut = combine_cuts(df_goodspec, cuts_list) #intersection of all cuts\n",
    "df15k = df_goodspec.iloc[final_cut, :]\n",
    "spec_utils.print_obj_distribution(df15k['sdss_dr17_specobj.CLASS'])"
   ]
  },
  {
   "cell_type": "code",
   "execution_count": 12,
   "id": "a917b011",
   "metadata": {},
   "outputs": [
    {
     "name": "stdout",
     "output_type": "stream",
     "text": [
      "StarFracChange = 16.589 (%)\n",
      "GalFracChange = -0.103 (%)\n",
      "QSOFracChange = -16.486 (%)\n",
      "Stars thrown out = -35078\n"
     ]
    }
   ],
   "source": [
    "spec_utils.print_delta_obj_distribution(df_goodspec['sdss_dr17_specobj.CLASS'], df15k['sdss_dr17_specobj.CLASS'])"
   ]
  },
  {
   "cell_type": "code",
   "execution_count": 13,
   "id": "5b62b638",
   "metadata": {},
   "outputs": [
    {
     "data": {
      "text/plain": [
       "'../../notebooks_test/'"
      ]
     },
     "execution_count": 13,
     "metadata": {},
     "output_type": "execute_result"
    }
   ],
   "source": [
    "nbtest_dir"
   ]
  },
  {
   "cell_type": "markdown",
   "id": "5125c7c7",
   "metadata": {},
   "source": [
    "### Ablation Tests: which cut is doing what?"
   ]
  },
  {
   "cell_type": "code",
   "execution_count": 14,
   "id": "f24d3589",
   "metadata": {},
   "outputs": [
    {
     "name": "stdout",
     "output_type": "stream",
     "text": [
      "Cut0 206622 0.9805849662811502\n",
      "Cut1 200235 0.9502735948897315\n",
      "Effective Cut = 0.931\n",
      "Number of Stars = 164022, Fraction(%) = 83.6224, Ratio(obj:star)*100 = 100\n",
      "Number of Galaxies = 282, Fraction(%) = 0.1438, Ratio(obj:star)*100 = 0.1719\n",
      "Number of QSOs = 31842, Fraction(%) = 16.2338, Ratio(obj:star)*100 = 19.4132\n",
      "StarFracChange = 0.288 (%)\n",
      "GalFracChange = 0.002 (%)\n",
      "QSOFracChange = -0.290 (%)\n",
      "Stars thrown out = -11575\n"
     ]
    }
   ],
   "source": [
    "cuts_list = [('distmod_median_cut', {'mindm': 8}), ('dm_sigma_cut', {'maxsig': 1.5})]\n",
    "\n",
    "final_cut = combine_cuts(df_goodspec, cuts_list)\n",
    "dfalt = df_goodspec.iloc[final_cut, :]\n",
    "spec_utils.print_obj_distribution(dfalt['sdss_dr17_specobj.CLASS'])\n",
    "spec_utils.print_delta_obj_distribution(df_goodspec['sdss_dr17_specobj.CLASS'], dfalt['sdss_dr17_specobj.CLASS'])"
   ]
  },
  {
   "cell_type": "code",
   "execution_count": 15,
   "id": "919b7627",
   "metadata": {},
   "outputs": [
    {
     "name": "stdout",
     "output_type": "stream",
     "text": [
      "Cut0 206622 0.9805849662811502\n",
      "Cut1 200235 0.9502735948897315\n",
      "Cut2 176656 0.8383725731207852\n",
      "Effective Cut = 0.783\n",
      "Number of Stars = 162841, Fraction(%) = 98.6527, Ratio(obj:star)*100 = 100\n",
      "Number of Galaxies = 208, Fraction(%) = 0.1260, Ratio(obj:star)*100 = 0.1277\n",
      "Number of QSOs = 2016, Fraction(%) = 1.2213, Ratio(obj:star)*100 = 1.2380\n",
      "StarFracChange = 15.318 (%)\n",
      "GalFracChange = -0.016 (%)\n",
      "QSOFracChange = -15.302 (%)\n",
      "Stars thrown out = -12756\n"
     ]
    }
   ],
   "source": [
    "cuts_list = [('distmod_median_cut', {'mindm': 8}), ('dm_sigma_cut', {'maxsig': 1.5}), ('wise_svmnondetectioncombinedcut', {'model': wisemodel})]\n",
    "\n",
    "final_cut = combine_cuts(df_goodspec, cuts_list)\n",
    "dfalt = df_goodspec.iloc[final_cut, :]\n",
    "spec_utils.print_obj_distribution(dfalt['sdss_dr17_specobj.CLASS'])\n",
    "spec_utils.print_delta_obj_distribution(df_goodspec['sdss_dr17_specobj.CLASS'], dfalt['sdss_dr17_specobj.CLASS'])"
   ]
  },
  {
   "cell_type": "code",
   "execution_count": 16,
   "id": "db322ad8",
   "metadata": {},
   "outputs": [
    {
     "name": "stdout",
     "output_type": "stream",
     "text": [
      "Cut0 206622 0.9805849662811502\n",
      "Cut1 200235 0.9502735948897315\n",
      "Cut2 176656 0.8383725731207852\n",
      "Cut3 210106 0.997119304456773\n",
      "Effective Cut = 0.781\n",
      "Number of Stars = 162500, Fraction(%) = 98.6822, Ratio(obj:star)*100 = 100\n",
      "Number of Galaxies = 154, Fraction(%) = 0.0935, Ratio(obj:star)*100 = 0.0948\n",
      "Number of QSOs = 2016, Fraction(%) = 1.2243, Ratio(obj:star)*100 = 1.2406\n",
      "StarFracChange = 15.348 (%)\n",
      "GalFracChange = -0.048 (%)\n",
      "QSOFracChange = -15.299 (%)\n",
      "Stars thrown out = -13097\n"
     ]
    }
   ],
   "source": [
    "cuts_list = [('distmod_median_cut', {'mindm': 8}), ('dm_sigma_cut', {'maxsig': 1.5}), ('wise_svmnondetectioncombinedcut', {'model': wisemodel}), ('parallax_nan_edr3',)]\n",
    "\n",
    "final_cut = combine_cuts(df_goodspec, cuts_list)\n",
    "dfalt = df_goodspec.iloc[final_cut, :]\n",
    "spec_utils.print_obj_distribution(dfalt['sdss_dr17_specobj.CLASS'])\n",
    "spec_utils.print_delta_obj_distribution(df_goodspec['sdss_dr17_specobj.CLASS'], dfalt['sdss_dr17_specobj.CLASS'])"
   ]
  },
  {
   "cell_type": "code",
   "execution_count": 17,
   "id": "a03e114a",
   "metadata": {},
   "outputs": [
    {
     "name": "stdout",
     "output_type": "stream",
     "text": [
      "Cut0 206622 0.9805849662811502\n",
      "Cut1 200235 0.9502735948897315\n",
      "Cut2 176656 0.8383725731207852\n",
      "Cut3 210106 0.997119304456773\n",
      "Cut4 175386 0.8323454177008538\n",
      "Effective Cut = 0.765\n",
      "Number of Stars = 160589, Fraction(%) = 99.6661, Ratio(obj:star)*100 = 100\n",
      "Number of Galaxies = 119, Fraction(%) = 0.0739, Ratio(obj:star)*100 = 0.0741\n",
      "Number of QSOs = 419, Fraction(%) = 0.2600, Ratio(obj:star)*100 = 0.2609\n",
      "StarFracChange = 16.331 (%)\n",
      "GalFracChange = -0.068 (%)\n",
      "QSOFracChange = -16.263 (%)\n",
      "Stars thrown out = -15008\n"
     ]
    }
   ],
   "source": [
    "cuts_list = [('distmod_median_cut', {'mindm': 8}), ('dm_sigma_cut', {'maxsig': 1.5}), \n",
    "             ('wise_svmnondetectioncombinedcut', {'model': wisemodel}), ('parallax_nan_edr3',),\n",
    "             ('sdss_uvcut', {'model': smodel})]\n",
    "\n",
    "final_cut = combine_cuts(df_goodspec, cuts_list)\n",
    "dfalt = df_goodspec.iloc[final_cut, :]\n",
    "spec_utils.print_obj_distribution(dfalt['sdss_dr17_specobj.CLASS'])\n",
    "spec_utils.print_delta_obj_distribution(df_goodspec['sdss_dr17_specobj.CLASS'], dfalt['sdss_dr17_specobj.CLASS'])"
   ]
  },
  {
   "cell_type": "code",
   "execution_count": 18,
   "id": "39aff980",
   "metadata": {},
   "outputs": [
    {
     "name": "stdout",
     "output_type": "stream",
     "text": [
      "Cut0 206622 0.9805849662811502\n",
      "Cut1 200235 0.9502735948897315\n",
      "Cut2 176656 0.8383725731207852\n",
      "Cut3 210106 0.997119304456773\n",
      "Cut4 175386 0.8323454177008538\n",
      "Cut5 156011 0.740395704109381\n",
      "Effective Cut = 0.667\n",
      "Number of Stars = 140519, Fraction(%) = 99.9232, Ratio(obj:star)*100 = 100\n",
      "Number of Galaxies = 55, Fraction(%) = 0.0391, Ratio(obj:star)*100 = 0.0391\n",
      "Number of QSOs = 53, Fraction(%) = 0.0377, Ratio(obj:star)*100 = 0.0377\n",
      "StarFracChange = 16.589 (%)\n",
      "GalFracChange = -0.103 (%)\n",
      "QSOFracChange = -16.486 (%)\n",
      "Stars thrown out = -35078\n"
     ]
    }
   ],
   "source": [
    "cuts_list = [('distmod_median_cut', {'mindm': 8}), ('dm_sigma_cut', {'maxsig': 1.5}), \n",
    "             ('wise_svmnondetectioncombinedcut', {'model': wisemodel}), ('parallax_nan_edr3',),\n",
    "             ('sdss_uvcut', {'model': smodel}), ('bayestar_chisq', {'maxchisq': 3.0})]\n",
    "\n",
    "final_cut = combine_cuts(df_goodspec, cuts_list)\n",
    "dfalt = df_goodspec.iloc[final_cut, :]\n",
    "spec_utils.print_obj_distribution(dfalt['sdss_dr17_specobj.CLASS'])\n",
    "spec_utils.print_delta_obj_distribution(df_goodspec['sdss_dr17_specobj.CLASS'], dfalt['sdss_dr17_specobj.CLASS'])"
   ]
  }
 ],
 "metadata": {
  "kernelspec": {
   "display_name": "Python 3",
   "language": "python",
   "name": "python3"
  },
  "language_info": {
   "codemirror_mode": {
    "name": "ipython",
    "version": 3
   },
   "file_extension": ".py",
   "mimetype": "text/x-python",
   "name": "python",
   "nbconvert_exporter": "python",
   "pygments_lexer": "ipython3",
   "version": "3.8.12"
  }
 },
 "nbformat": 4,
 "nbformat_minor": 5
}
