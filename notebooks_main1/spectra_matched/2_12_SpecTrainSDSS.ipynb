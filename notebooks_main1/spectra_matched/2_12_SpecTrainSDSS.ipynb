{
 "cells": [
  {
   "cell_type": "code",
   "execution_count": 1,
   "id": "2d4518c4",
   "metadata": {},
   "outputs": [],
   "source": [
    "import numpy as np\n",
    "import pandas as pd\n",
    "import sys\n",
    "import os\n",
    "import matplotlib.pyplot as plt\n",
    "import joblib\n",
    "\n",
    "from astropy.io import fits\n",
    "from functools import reduce\n",
    "from astropy.table import Table\n",
    "\n",
    "sys.path.append('../../methods_code_Nresol/')\n",
    "sys.path.append('../../utils/')\n",
    "import astro_cuts\n",
    "import importlib\n",
    "import spec_utils"
   ]
  },
  {
   "cell_type": "code",
   "execution_count": 2,
   "id": "6e16c20f",
   "metadata": {},
   "outputs": [],
   "source": [
    "from sklearn.preprocessing import StandardScaler\n",
    "from sklearn.svm import SVC"
   ]
  },
  {
   "cell_type": "code",
   "execution_count": 3,
   "id": "568553b6",
   "metadata": {},
   "outputs": [
    {
     "name": "stderr",
     "output_type": "stream",
     "text": [
      "/n/holylfs05/LABS/finkbeiner_lab/Everyone/highlat/notebooks_main1/spectra_matched/spec_utils.py:36: RuntimeWarning: divide by zero encountered in true_divide\n",
      "  df['reduced_chisq'] = df['chisq'].to_numpy() * n_passbands / (n_passbands - 4)\n",
      "/n/holylfs05/LABS/finkbeiner_lab/Everyone/highlat/notebooks_main1/spectra_matched/spec_utils.py:40: RuntimeWarning: divide by zero encountered in power\n",
      "  sdss_flux_sig = np.power(np.array(dat['sdss_dr14_starsweep.psfflux_ivar']), -0.5)\n",
      "/n/holylfs05/LABS/finkbeiner_lab/Everyone/highlat/notebooks_main1/spectra_matched/spec_utils.py:42: RuntimeWarning: divide by zero encountered in log10\n",
      "  df['sdss.pmag_'+b] = 22.5 - 2.5*np.clip(np.log10(np.array(dat['sdss_dr14_starsweep.psfflux'])[:, ib]), 0.0, np.inf)\n",
      "/n/holylfs05/LABS/finkbeiner_lab/Everyone/highlat/notebooks_main1/spectra_matched/spec_utils.py:42: RuntimeWarning: invalid value encountered in log10\n",
      "  df['sdss.pmag_'+b] = 22.5 - 2.5*np.clip(np.log10(np.array(dat['sdss_dr14_starsweep.psfflux'])[:, ib]), 0.0, np.inf)\n"
     ]
    },
    {
     "name": "stdout",
     "output_type": "stream",
     "text": [
      "Number of objects before / after 596315 210713\n",
      "c1 = 0.873, c2 = 0.995, c3 = 0.445\n",
      "Fraction left = 0.353\n"
     ]
    }
   ],
   "source": [
    "fname = 'lsd_scripts/spectrain_2_11_r50.fits'\n",
    "df_allspec = spec_utils.convert_to_dataframe_specmatched(fname)\n",
    "df_goodspec = spec_utils.return_goodspec(df_allspec)"
   ]
  },
  {
   "cell_type": "code",
   "execution_count": 4,
   "id": "badc6240",
   "metadata": {},
   "outputs": [
    {
     "data": {
      "text/plain": [
       "210713"
      ]
     },
     "execution_count": 4,
     "metadata": {},
     "output_type": "execute_result"
    }
   ],
   "source": [
    "len(df_goodspec)"
   ]
  },
  {
   "cell_type": "markdown",
   "id": "e6bd2c50",
   "metadata": {},
   "source": [
    "#### Cuts on SDSS"
   ]
  },
  {
   "cell_type": "code",
   "execution_count": 7,
   "id": "acbde29c",
   "metadata": {},
   "outputs": [
    {
     "data": {
      "text/plain": [
       "Index(['sdss.pmag_err_u', 'sdss.pmag_err_g', 'sdss.pmag_err_r',\n",
       "       'sdss.pmag_err_i', 'sdss.pmag_err_z'],\n",
       "      dtype='object')"
      ]
     },
     "execution_count": 7,
     "metadata": {},
     "output_type": "execute_result"
    }
   ],
   "source": [
    "df_goodspec.columns[[c.startswith('sdss.pmag_err_') for c in df_goodspec.columns]]"
   ]
  },
  {
   "cell_type": "code",
   "execution_count": 8,
   "id": "7b11aa85",
   "metadata": {},
   "outputs": [
    {
     "data": {
      "text/html": [
       "<div>\n",
       "<style scoped>\n",
       "    .dataframe tbody tr th:only-of-type {\n",
       "        vertical-align: middle;\n",
       "    }\n",
       "\n",
       "    .dataframe tbody tr th {\n",
       "        vertical-align: top;\n",
       "    }\n",
       "\n",
       "    .dataframe thead th {\n",
       "        text-align: right;\n",
       "    }\n",
       "</style>\n",
       "<table border=\"1\" class=\"dataframe\">\n",
       "  <thead>\n",
       "    <tr style=\"text-align: right;\">\n",
       "      <th></th>\n",
       "      <th>sdss.pmag_err_u</th>\n",
       "      <th>sdss.pmag_err_g</th>\n",
       "      <th>sdss.pmag_err_r</th>\n",
       "    </tr>\n",
       "  </thead>\n",
       "  <tbody>\n",
       "    <tr>\n",
       "      <th>2</th>\n",
       "      <td>0.031511</td>\n",
       "      <td>0.026992</td>\n",
       "      <td>0.031721</td>\n",
       "    </tr>\n",
       "    <tr>\n",
       "      <th>3</th>\n",
       "      <td>0.022445</td>\n",
       "      <td>0.033421</td>\n",
       "      <td>0.017240</td>\n",
       "    </tr>\n",
       "    <tr>\n",
       "      <th>7</th>\n",
       "      <td>0.022401</td>\n",
       "      <td>0.018154</td>\n",
       "      <td>0.018323</td>\n",
       "    </tr>\n",
       "    <tr>\n",
       "      <th>9</th>\n",
       "      <td>0.018438</td>\n",
       "      <td>0.020665</td>\n",
       "      <td>0.020655</td>\n",
       "    </tr>\n",
       "    <tr>\n",
       "      <th>10</th>\n",
       "      <td>0.059673</td>\n",
       "      <td>0.023163</td>\n",
       "      <td>0.022950</td>\n",
       "    </tr>\n",
       "    <tr>\n",
       "      <th>...</th>\n",
       "      <td>...</td>\n",
       "      <td>...</td>\n",
       "      <td>...</td>\n",
       "    </tr>\n",
       "    <tr>\n",
       "      <th>596290</th>\n",
       "      <td>0.023549</td>\n",
       "      <td>0.015549</td>\n",
       "      <td>0.014748</td>\n",
       "    </tr>\n",
       "    <tr>\n",
       "      <th>596291</th>\n",
       "      <td>0.033583</td>\n",
       "      <td>0.033470</td>\n",
       "      <td>0.018102</td>\n",
       "    </tr>\n",
       "    <tr>\n",
       "      <th>596296</th>\n",
       "      <td>0.025078</td>\n",
       "      <td>0.013106</td>\n",
       "      <td>0.014309</td>\n",
       "    </tr>\n",
       "    <tr>\n",
       "      <th>596298</th>\n",
       "      <td>0.017442</td>\n",
       "      <td>0.019180</td>\n",
       "      <td>0.015096</td>\n",
       "    </tr>\n",
       "    <tr>\n",
       "      <th>596305</th>\n",
       "      <td>0.033026</td>\n",
       "      <td>0.015782</td>\n",
       "      <td>0.009700</td>\n",
       "    </tr>\n",
       "  </tbody>\n",
       "</table>\n",
       "<p>210713 rows × 3 columns</p>\n",
       "</div>"
      ],
      "text/plain": [
       "        sdss.pmag_err_u  sdss.pmag_err_g  sdss.pmag_err_r\n",
       "2              0.031511         0.026992         0.031721\n",
       "3              0.022445         0.033421         0.017240\n",
       "7              0.022401         0.018154         0.018323\n",
       "9              0.018438         0.020665         0.020655\n",
       "10             0.059673         0.023163         0.022950\n",
       "...                 ...              ...              ...\n",
       "596290         0.023549         0.015549         0.014748\n",
       "596291         0.033583         0.033470         0.018102\n",
       "596296         0.025078         0.013106         0.014309\n",
       "596298         0.017442         0.019180         0.015096\n",
       "596305         0.033026         0.015782         0.009700\n",
       "\n",
       "[210713 rows x 3 columns]"
      ]
     },
     "execution_count": 8,
     "metadata": {},
     "output_type": "execute_result"
    }
   ],
   "source": [
    "df_goodspec[['sdss.pmag_err_u', 'sdss.pmag_err_g', 'sdss.pmag_err_r']]"
   ]
  },
  {
   "cell_type": "code",
   "execution_count": 11,
   "id": "32f548e2",
   "metadata": {},
   "outputs": [],
   "source": [
    "def sdss_cuts(df_input):\n",
    "    #ugr < 0.2\n",
    "    sdss_magcols = ['sdss.pmag_u', 'sdss.pmag_g', 'sdss.pmag_r']\n",
    "    sdss_magerrs = ['sdss.pmag_err_u', 'sdss.pmag_err_g', 'sdss.pmag_err_r']\n",
    "    sdss_pmag_err = df_input[sdss_magerrs].to_numpy()\n",
    "    cut1 = np.all(sdss_pmag_err <0.2, axis=1)\n",
    "    \n",
    "    #ugr arent nan\n",
    "    cut2 = ~(np.isnan(df_input['sdss.pmag_u'].to_numpy()) + np.isnan(df_input['sdss.pmag_g'].to_numpy()) + np.isnan(df_input['sdss.pmag_r'].to_numpy()))\n",
    "    \n",
    "    #negative errs\n",
    "    cut3 = ~np.any(df_input[sdss_magerrs].iloc[:, :3].to_numpy() < 0, axis=1)\n",
    "    \n",
    "    #saturated on faint end\n",
    "    cut4 = ~np.any(df_input[sdss_magcols].iloc[:, :3].to_numpy() == 22.5, axis=1)\n",
    "    print('C1: {:.2f} C2: {:.2f} C3: {:.2f} C4: {:.2f}'.format(np.sum(cut1)/len(cut1), np.sum(cut2)/len(cut2), np.sum(cut3)/len(cut3), np.sum(cut4)/len(cut4)))\n",
    "    \n",
    "    effcut = cut1 * cut2 * cut3 * cut4\n",
    "    \n",
    "    return effcut"
   ]
  },
  {
   "cell_type": "code",
   "execution_count": 12,
   "id": "58bc3745",
   "metadata": {},
   "outputs": [
    {
     "name": "stdout",
     "output_type": "stream",
     "text": [
      "C1: 0.97 C2: 1.00 C3: 1.00 C4: 0.98\n"
     ]
    },
    {
     "data": {
      "text/plain": [
       "0.9657306383564375"
      ]
     },
     "execution_count": 12,
     "metadata": {},
     "output_type": "execute_result"
    }
   ],
   "source": [
    "cleanphot = sdss_cuts(df_goodspec)\n",
    "df_sdss = df_goodspec.iloc[cleanphot, :]\n",
    "np.sum(cleanphot)/len(cleanphot)"
   ]
  },
  {
   "cell_type": "code",
   "execution_count": 14,
   "id": "9c6c88c3",
   "metadata": {},
   "outputs": [
    {
     "data": {
      "text/plain": [
       "203492"
      ]
     },
     "execution_count": 14,
     "metadata": {},
     "output_type": "execute_result"
    }
   ],
   "source": [
    "len(df_sdss)"
   ]
  },
  {
   "cell_type": "code",
   "execution_count": 20,
   "id": "12f5753e",
   "metadata": {},
   "outputs": [
    {
     "name": "stdout",
     "output_type": "stream",
     "text": [
      "NumTrain, NumTest =  142443 61049\n",
      "Train Class Fraction: Q = 0.17049626868291176\n",
      "Test Class Fraction: Q = 0.1705023833314223\n"
     ]
    }
   ],
   "source": [
    "train_x, train_y, test_x, test_y = spec_utils.return_train_test_subset(df_sdss, ['u-g_sdss', 'g-r_sdss'], balance_train=False)"
   ]
  },
  {
   "cell_type": "code",
   "execution_count": 21,
   "id": "d3b62287",
   "metadata": {},
   "outputs": [
    {
     "data": {
      "text/plain": [
       "(0.9828984225269055, 0.9823092925355043)"
      ]
     },
     "execution_count": 21,
     "metadata": {},
     "output_type": "execute_result"
    }
   ],
   "source": [
    "from sklearn.svm import SVC\n",
    "model = SVC(kernel='rbf')\n",
    "model.fit(train_x, train_y)\n",
    "model.score(train_x, train_y), model.score(test_x, test_y)"
   ]
  },
  {
   "cell_type": "code",
   "execution_count": 22,
   "id": "402ad0f2",
   "metadata": {},
   "outputs": [
    {
     "data": {
      "text/plain": [
       "['models/svm_sdss_quasarsep_unbalanced.joblib']"
      ]
     },
     "execution_count": 22,
     "metadata": {},
     "output_type": "execute_result"
    }
   ],
   "source": [
    "'''import joblib\n",
    "joblib.dump(model, 'models/svm_sdss_quasarsep_unbalanced.joblib')'''"
   ]
  },
  {
   "cell_type": "code",
   "execution_count": 23,
   "id": "643e57e4",
   "metadata": {},
   "outputs": [],
   "source": [
    "plt.rcParams.update({'font.family':'serif'})"
   ]
  },
  {
   "cell_type": "code",
   "execution_count": 24,
   "id": "72b1d3ac",
   "metadata": {},
   "outputs": [
    {
     "data": {
      "image/png": "[encoded data removed]",
      "text/plain": [
       "<Figure size 640x480 with 1 Axes>"
      ]
     },
     "metadata": {},
     "output_type": "display_data"
    }
   ],
   "source": [
    "plt.figure()\n",
    "h=0.05\n",
    "x_min, x_max = train_x[:, 0].min() - 1, train_x[:, 0].max() + 1\n",
    "y_min, y_max = train_x[:, 1].min() - 1, train_x[:, 1].max() + 1\n",
    "xx, yy = np.meshgrid(np.arange(x_min, x_max, h),\n",
    "                     np.arange(y_min, y_max, h))\n",
    "Z = model.predict(np.vstack([xx.ravel(), yy.ravel()]).T)\n",
    "Z = Z.reshape(xx.shape)\n",
    "\n",
    "plt.scatter(train_x[train_y==1, 0], train_x[train_y==1, 1], label='Star', s=1, c='b')\n",
    "plt.scatter(train_x[train_y==0, 0], train_x[train_y==0, 1], label='Gal / QSO', s=1, c='r')\n",
    "plt.contourf(xx, yy, Z, cmap=plt.cm.RdBu, alpha=0.3)\n",
    "\n",
    "\n",
    "plt.xlabel('u-g')\n",
    "plt.ylabel('g-r')\n",
    "plt.xlim(-2, 4)\n",
    "plt.ylim(-2, 4)\n",
    "plt.legend()\n",
    "plt.show()"
   ]
  },
  {
   "cell_type": "code",
   "execution_count": null,
   "id": "1db463b7",
   "metadata": {},
   "outputs": [],
   "source": []
  }
 ],
 "metadata": {
  "kernelspec": {
   "display_name": "Python 3",
   "language": "python",
   "name": "python3"
  },
  "language_info": {
   "codemirror_mode": {
    "name": "ipython",
    "version": 3
   },
   "file_extension": ".py",
   "mimetype": "text/x-python",
   "name": "python",
   "nbconvert_exporter": "python",
   "pygments_lexer": "ipython3",
   "version": "3.8.12"
  }
 },
 "nbformat": 4,
 "nbformat_minor": 5
}
