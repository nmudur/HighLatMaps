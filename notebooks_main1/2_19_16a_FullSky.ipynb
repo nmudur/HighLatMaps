{
 "cells": [
  {
   "cell_type": "code",
   "execution_count": 1,
   "id": "21e5a7ed",
   "metadata": {},
   "outputs": [
    {
     "data": {
      "text/plain": [
       "<module 'astro_cuts' from '/n/holylfs05/LABS/finkbeiner_lab/Everyone/highlat/notebooks_main1/../methods_code_Nresol/astro_cuts.py'>"
      ]
     },
     "execution_count": 1,
     "metadata": {},
     "output_type": "execute_result"
    }
   ],
   "source": [
    "import subprocess\n",
    "import numpy as np\n",
    "import healpy as hp\n",
    "import pickle\n",
    "from random import randint\n",
    "import joblib\n",
    "import sklearn\n",
    "import sys\n",
    "import importlib\n",
    "\n",
    "sys.path.append('../methods_code_Nresol/')\n",
    "sys.path.append('../utils/')\n",
    "from utils_circpatch import *\n",
    "from methods2 import *\n",
    "from vis_utils import *\n",
    "import astro_cuts\n",
    "importlib.reload(astro_cuts)"
   ]
  },
  {
   "cell_type": "code",
   "execution_count": 2,
   "id": "cf1c4ffc",
   "metadata": {},
   "outputs": [],
   "source": [
    "fullskycoords = get_testbed_dict('FullSky_Bayestar')"
   ]
  },
  {
   "cell_type": "code",
   "execution_count": 3,
   "id": "04aece50",
   "metadata": {},
   "outputs": [],
   "source": [
    "numtiles = np.unique(get_largepix_for_smallpix(fullskycoords['coords'], 2048, 32))"
   ]
  },
  {
   "cell_type": "code",
   "execution_count": 4,
   "id": "113e9806",
   "metadata": {},
   "outputs": [
    {
     "data": {
      "text/plain": [
       "(9447, 3.9894425675675675)"
      ]
     },
     "execution_count": 4,
     "metadata": {},
     "output_type": "execute_result"
    }
   ],
   "source": [
    "len(numtiles), len(numtiles)/2368"
   ]
  },
  {
   "cell_type": "code",
   "execution_count": 5,
   "id": "43fa992f",
   "metadata": {},
   "outputs": [
    {
     "data": {
      "text/plain": [
       "0"
      ]
     },
     "execution_count": 5,
     "metadata": {},
     "output_type": "execute_result"
    }
   ],
   "source": [
    "b17map = get_bayestar2017_map()\n",
    "np.isnan(b17map[fullskycoords['coords']]).sum()"
   ]
  },
  {
   "cell_type": "code",
   "execution_count": 6,
   "id": "8d06bfcb",
   "metadata": {},
   "outputs": [],
   "source": [
    "runname = 'fullsky_runs/16a_fwhm-6-1_'\n",
    "wisemodel = joblib.load('spectra_matched/models/svm_panstarrs_quasarsep_balanced.joblib')\n",
    "smodel = joblib.load('spectra_matched/models/svm_sdss_quasarsep_unbalanced.joblib')\n",
    "\n",
    "cuts_list = [('distmod_median_cut', {'mindm': 8}), ('dm_sigma_cut', {'maxsig': 1.5}), \n",
    "             ('wise_svmnondetectioncombinedcut', {'model': wisemodel}), ('parallax_nan_edr3',),\n",
    "             ('sdss_uvcut', {'model': smodel}), ('bayestar_chisq', {'maxchisq': 3.0})]\n",
    "outer_kwargs = {'Nsidetile': 32, 'radius_deg_extra': 25/60, 'Nsideresol': 2048,\n",
    "               'stars_presaved': '/n/holylfs05/LABS/finkbeiner_lab/Everyone/highlat/data/lsdraw/stars_edr3/{}.fits'}\n",
    "recon_kwargs = {'length': np.deg2rad(6.1/(2.355*60)), 'scale': 1.0, 'no_invvar': False}\n",
    "kwargs_dict = {'outer_kwargs': outer_kwargs, 'recon_kwargs': recon_kwargs}\n",
    "recon_func_name = 'gaussiankernel_reconstruction_effective_spherical3_blocks'"
   ]
  },
  {
   "cell_type": "code",
   "execution_count": 7,
   "id": "56ba2de7",
   "metadata": {},
   "outputs": [
    {
     "name": "stdout",
     "output_type": "stream",
     "text": [
      "Using Star Directory: /n/holylfs05/LABS/finkbeiner_lab/Everyone/highlat/data/lsdraw/stars_edr3/{}.fits\n",
      "Ckp\n",
      "Missing / Corrupted files:  [3142, 3143, 3144, 3146, 3260, 3269, 3270, 3271, 3272, 3273, 3274, 3275, 3385, 3386, 3387, 3388, 3389, 3390, 3391, 3392, 3393, 3394, 3395, 3397, 3398, 3399, 3400, 3401, 3402, 3403, 3404, 3405, 3406, 3407, 3408, 3511, 3512, 3513, 3514, 3515, 3516, 3517, 3518, 3519, 3520, 3521, 3522, 3523, 3524, 3525, 3526, 3527, 3528, 3529, 3530, 3531, 3532, 3533, 3534, 3535, 3536, 3537, 3639, 3640, 3641, 3642, 3643, 3644, 3645, 3646, 3647, 3648, 3649, 3650, 3651, 3652, 3653, 3654, 3655, 3656, 3657, 3658, 3659, 3660, 3661, 3662, 3663, 3664, 3665, 3666, 3668, 3769, 3770, 3771, 3772, 3773, 3774, 3775, 3776, 3777, 3778, 3779, 3780, 3781, 3782, 3783, 3784, 3785, 3786, 3787, 3788, 3789, 3790, 3791, 3792, 3793, 3794, 3795, 3796, 3797, 3798, 3897, 3898, 3899, 3900, 3901, 3902, 3903, 3904, 3905, 3906, 3907, 3908, 3909, 3910, 3911, 3912, 3913, 3914, 3915, 3916, 3917, 3918, 3919, 3920, 3921, 3922, 3923, 3924, 3925, 3926, 3927, 3928, 3929, 4025, 4026, 4027, 4028, 4029, 4030, 4031, 4032, 4033, 4034, 4035, 4036, 4037, 4038, 4039, 4040, 4041, 4042, 4043, 4044, 4045, 4046, 4047, 4048, 4049, 4050, 4051, 4052, 4053, 4054, 4055, 4056, 4057, 4058, 4059, 4060, 4061, 4153, 4154, 4155, 4156, 4157, 4158, 4159, 4160, 4161, 4162, 4163, 4164, 4165, 4166, 4167, 4168, 4169, 4170, 4171, 4172, 4173, 4174, 4175, 4176, 4177, 4178, 4179, 4180, 4181, 4182, 4183, 4184, 4185, 4186, 4187, 4188, 4189, 4190, 4191, 4192, 4194, 4282, 4283, 4284, 4285, 4286, 4287, 4288, 4289, 4290, 4291, 4292, 4293, 4294, 4295, 4296, 4297, 4298, 4299, 4300, 4301, 4302, 4303, 4304, 4305, 4306, 4307, 4308, 4309, 4310, 4311, 4312, 4313, 4314, 4315, 4316, 4317, 4318, 4319, 4320, 4321, 4322, 4410, 4411, 4412, 4413, 4414, 4415, 4416, 4417, 4418, 4419, 4420, 4421, 4422, 4423, 4424, 4425, 4426, 4427, 4428, 4429, 4430, 4431, 4432, 4433, 4434, 4435, 4436, 4437, 4438, 4439, 4440, 4441, 4442, 4443, 4444, 4445, 4446, 4447, 4448, 4449, 4450, 4451, 4539, 4540, 4541, 4542, 4543, 4544, 4545, 4546, 4547, 4548, 4549, 4550, 4551, 4552, 4553, 4554, 4555, 4556, 4557, 4558, 4559, 4560, 4561, 4562, 4563, 4564, 4565, 4566, 4567, 4568, 4569, 4570, 4571, 4572, 4573, 4574, 4575, 4576, 4577, 4578, 4579, 4585, 4586, 4587, 4622, 4623, 4624, 4625, 4626, 4627, 4628, 4629, 4630, 4631, 4632, 4633, 4634, 4666, 4667, 4668, 4669, 4670, 4671, 4672, 4673, 4674, 4675, 4676, 4677, 4678, 4679, 4680, 4681, 4682, 4683, 4684, 4685, 4686, 4687, 4688, 4689, 4690, 4691, 4692, 4693, 4694, 4695, 4696, 4697, 4698, 4699, 4700, 4701, 4702, 4703, 4704, 4705, 4706, 4707, 4708, 4709, 4710, 4712, 4713, 4714, 4715, 4716, 4720, 4722, 4724, 4728, 4729, 4730, 4731, 4732, 4733, 4734, 4735, 4736, 4737, 4738, 4739, 4740, 4742, 4744, 4745, 4746, 4747, 4748, 4749, 4750, 4751, 4752, 4753, 4754, 4755, 4756, 4757, 4758, 4759, 4760, 4761, 4762, 4763, 4795, 4796, 4797, 4798, 4799, 4800, 4801, 4802, 4803, 4804, 4805, 4806, 4807, 4808, 4809, 4810, 4811, 4812, 4813, 4814, 4815, 4816, 4817, 4818, 4819, 4820, 4821, 4822, 4823, 4824, 4825, 4826, 4827, 4828, 4829, 4830, 4831, 4832, 4833, 4834, 4835, 4836, 4837, 4838, 4839, 4840, 4841, 4842, 4843, 4844, 4845, 4846, 4847, 4848, 4849, 4850, 4851, 4852, 4853, 4854, 4855, 4856, 4857, 4858, 4859, 4860, 4861, 4862, 4863, 4864, 4865, 4866, 4867, 4868, 4869, 4870, 4871, 4872, 4873, 4874, 4875, 4876, 4877, 4878, 4879, 4880, 4881, 4882, 4883, 4884, 4885, 4886, 4887, 4888, 4889, 4890, 4923, 4924, 4925, 4926, 4927, 4928, 4929, 4930, 4931, 4932, 4933, 4934, 4935, 4936, 4937, 4938, 4939, 4940, 4941, 4942, 4943, 4944, 4945, 4946, 4947, 4948, 4949, 4950, 4951, 4952, 4953, 4954, 4955, 4956, 4957, 4958, 4959, 4960, 4961, 4962, 4963, 4964, 4965, 4966, 4967, 4968, 4969, 4970, 4971, 4972, 4973, 4974, 4975, 4976, 4977, 4979, 4980, 4981, 4982, 4983, 4984, 4985, 4986, 4987, 4988, 4989, 4990, 4991, 4992, 4993, 4994, 4995, 4996, 4997, 4998, 4999, 5000, 5001, 5002, 5003, 5004, 5005, 5006, 5007, 5008, 5009, 5010, 5011, 5012, 5013, 5014, 5015, 5016, 5017, 5018, 5052, 5053, 5054, 5055, 5056, 5057, 5058, 5059, 5060, 5061, 5062, 5063, 5064, 5065, 5066, 5067, 5068, 5069, 5070, 5071, 5072, 5073, 5074, 5075, 5076, 5077, 5078, 5079, 5080, 5081, 5082, 5083, 5084, 5085, 5086, 5087, 5088, 5089, 5090, 5091, 5092, 5093, 5094, 5095, 5096, 5097, 5098, 5099, 5100, 5101, 5102, 5103, 5104, 5105, 5106, 5107, 5108, 5109, 5110, 5111, 5112, 5113, 5114, 5115, 5116, 5117, 5118, 5119, 5120, 5121, 5122, 5123, 5124, 5125, 5126, 5127, 5128, 5129, 5130, 5131, 5132, 5133, 5134, 5135, 5136, 5137, 5138, 5139, 5140, 5141, 5142, 5143, 5144, 5145, 5146, 5180, 5181, 5182, 5183, 5184, 5185, 5186, 5187, 5188, 5189, 5190, 5191, 5192, 5193, 5194, 5195, 5196, 5197, 5198, 5199, 5200, 5201, 5202, 5203, 5204, 5205, 5206, 5207, 5208, 5209, 5210, 5211, 5212, 5213, 5214, 5215, 5216, 5217, 5218, 5219, 5220, 5221, 5222, 5223, 5224, 5225, 5226, 5227, 5228, 5229, 5230, 5231, 5232, 5233, 5234, 5235, 5236, 5237, 5238, 5239, 5240, 5241, 5242, 5243, 5244, 5245, 5246, 5247, 5248, 5249, 5250, 5251, 5252, 5253, 5254, 5255, 5256, 5257, 5258, 5259, 5260, 5261, 5262, 5263, 5264, 5265, 5266, 5267, 5268, 5269, 5270, 5271, 5272, 5273, 5274, 5309, 5310, 5311, 5312, 5313, 5314, 5315, 5316, 5317, 5318, 5319, 5320, 5321, 5322, 5323, 5324, 5325, 5326, 5327, 5328, 5329, 5330, 5331, 5332, 5333, 5334, 5335, 5336, 5337, 5338, 5339, 5340, 5341, 5342, 5343, 5344, 5345, 5346, 5347, 5348, 5349, 5350, 5351, 5352, 5353, 5354, 5355, 5356, 5357, 5358, 5359, 5360, 5361, 5362, 5363, 5364, 5365, 5366, 5367, 5368, 5369, 5370, 5371, 5372, 5373, 5374, 5375, 5376, 5377, 5378, 5379, 5380, 5381, 5382, 5383, 5384, 5385, 5386, 5387, 5388, 5389, 5390, 5391, 5392, 5393, 5394, 5395, 5396, 5397, 5398, 5399, 5400, 5401, 5437, 5438, 5439, 5440, 5441, 5442, 5443, 5444, 5445, 5446, 5447, 5448, 5449, 5450, 5451, 5452, 5453, 5454, 5455, 5456, 5457, 5458, 5459, 5460, 5461, 5462, 5463, 5464, 5465, 5466, 5467, 5468, 5469, 5470, 5471, 5472, 5473, 5474, 5475, 5476, 5477, 5478, 5479, 5480, 5481, 5482, 5483, 5484, 5485, 5486, 5487, 5488, 5489, 5490, 5491, 5492, 5493, 5494, 5495, 5496, 5497, 5498, 5499, 5500, 5501, 5502, 5503, 5504, 5505, 5506, 5507, 5508, 5509, 5510, 5511, 5512, 5513, 5514, 5515, 5516, 5517, 5518, 5519, 5520, 5521, 5522, 5523, 5524, 5525, 5526, 5527, 5528, 5529, 5566, 5567, 5568, 5569, 5570, 5571, 5572, 5573, 5574, 5575, 5576, 5577, 5578, 5579, 5580, 5581, 5582, 5583, 5584, 5585, 5586, 5587, 5588, 5589, 5590, 5591, 5592, 5593, 5594, 5595, 5596, 5597, 5598, 5599, 5600, 5601, 5602, 5603, 5604, 5605, 5606, 5607, 5608, 5609, 5610, 5611, 5612, 5613, 5614, 5615, 5616, 5617, 5618, 5619, 5620, 5621, 5622, 5623, 5624, 5625, 5626, 5627, 5628, 5629, 5630, 5631, 5632, 5633, 5634, 5635, 5636, 5637, 5638, 5639, 5640, 5641, 5642, 5643, 5644, 5645, 5646, 5647, 5648, 5649, 5650, 5651, 5652, 5653, 5654, 5655, 5656, 5657, 5693, 5694, 5695, 5696, 5697, 5698, 5699, 5700, 5701, 5702, 5703, 5704, 5705, 5706, 5707, 5708, 5709, 5710, 5711, 5712, 5713, 5714, 5715, 5716, 5717, 5718, 5719, 5720, 5721, 5722, 5723, 5724, 5725, 5726, 5727, 5728, 5729, 5730, 5731, 5732, 5733, 5734, 5735, 5736, 5737, 5738, 5739, 5740, 5741, 5742, 5743, 5744, 5745, 5746, 5747, 5748, 5749, 5750, 5751, 5752, 5753, 5754, 5755, 5756, 5757, 5758, 5759, 5760, 5761, 5762, 5763, 5764, 5765, 5766, 5767, 5768, 5769, 5770, 5771, 5772, 5773, 5774, 5775, 5776, 5777, 5778, 5779, 5780, 5781, 5782, 5783, 5784, 5785, 5822, 5823, 5824, 5825, 5826, 5827, 5828, 5829, 5830, 5831, 5832, 5833, 5834, 5835, 5836, 5837, 5838, 5839, 5840, 5841, 5842, 5843, 5844, 5845, 5846, 5847, 5848, 5849, 5850, 5851, 5852, 5853, 5854, 5855, 5856, 5857, 5858, 5859, 5860, 5861, 5862, 5863, 5864, 5865, 5866, 5867, 5868, 5869, 5870, 5871, 5872, 5873, 5874, 5875, 5876, 5877, 5878, 5879, 5880, 5881, 5882, 5883, 5884, 5885, 5886, 5887, 5888, 5889, 5890, 5891, 5892, 5893, 5894, 5895, 5896, 5897, 5898, 5899, 5900, 5901, 5902, 5903, 5904, 5905, 5906, 5907, 5908, 5909, 5910, 5911, 5912, 5950, 5951, 5952, 5953, 5954, 5955, 5956, 5957, 5958, 5959, 5960, 5961, 5962, 5963, 5964, 5965, 5966, 5967, 5968, 5969, 5970, 5971, 5972, 5973, 5974, 5975, 5976, 5977, 5978, 5979, 5980, 5981, 5982, 5983, 5984, 5985, 5986, 5987, 5988, 5989, 5990, 5991, 5992, 5993, 5994, 5995, 5996, 5997, 5998, 5999, 6000, 6001, 6002, 6003, 6004, 6005, 6006, 6007, 6008, 6009, 6010, 6011, 6012, 6013, 6014, 6015, 6016, 6017, 6018, 6019, 6020, 6021, 6022, 6023, 6024, 6025, 6026, 6027, 6028, 6029, 6030, 6031, 6032, 6033, 6034, 6035, 6036, 6037, 6038, 6039, 6040, 6079, 6080, 6081, 6082, 6083, 6084, 6085, 6086, 6087, 6088, 6089, 6090, 6091, 6092, 6093, 6094, 6095, 6096, 6097, 6098, 6099, 6100, 6101, 6102, 6103, 6104, 6105, 6106, 6107, 6108, 6109, 6110, 6111, 6112, 6113, 6114, 6115, 6116, 6117, 6118, 6119, 6120, 6121, 6122, 6123, 6124, 6125, 6126, 6127, 6128, 6129, 6130, 6131, 6132, 6133, 6134, 6135, 6136, 6137, 6138, 6139, 6140, 6141, 6142, 6143, 6144, 6145, 6146, 6147, 6148, 6149, 6150, 6151, 6152, 6153, 6154, 6155, 6156, 6157, 6158, 6159, 6160, 6161, 6162, 6163, 6164, 6165, 6166, 6167, 6207, 6208, 6209, 6210, 6211, 6212, 6213, 6214, 6215, 6216, 6217, 6218, 6219, 6220, 6221, 6222, 6223, 6224, 6225, 6226, 6227, 6228, 6229, 6230, 6231, 6232, 6233, 6234, 6235, 6236, 6237, 6238, 6239, 6240, 6241, 6242, 6243, 6244, 6245, 6246, 6247, 6248, 6249, 6250, 6251, 6252, 6253, 6254, 6255, 6256, 6257, 6258, 6259, 6260, 6261, 6262, 6263, 6264, 6265, 6266, 6267, 6268, 6269, 6270, 6271, 6272, 6273, 6274, 6275, 6276, 6277, 6278, 6279, 6280, 6281, 6282, 6283, 6284, 6285, 6286, 6287, 6288, 6289, 6290, 6291, 6292, 6293, 6294, 6295, 6296, 6335, 6336, 6337, 6338, 6339, 6340, 6341, 6342, 6343, 6344, 6345, 6346, 6347, 6348, 6349, 6350, 6351, 6352, 6353, 6354, 6355, 6356, 6357, 6358, 6359, 6360, 6361, 6362, 6363, 6364, 6365, 6366, 6367, 6368, 6369, 6370, 6371, 6372, 6373, 6374, 6375, 6376, 6377, 6378, 6379, 6380, 6381, 6382, 6383, 6384, 6385, 6386, 6387, 6388, 6389, 6390, 6391, 6392, 6393, 6394, 6395, 6396, 6397, 6398, 6399, 6400, 6401, 6402, 6403, 6404, 6405, 6406, 6407, 6408, 6409, 6410, 6411, 6412, 6413, 6414, 6415, 6416, 6417, 6418, 6419, 6420, 6421, 6422, 6423, 6463, 6464, 6465, 6466, 6467, 6468, 6469, 6470, 6471, 6472, 6473, 6474, 6475, 6476, 6477, 6478, 6479, 6480, 6481, 6482, 6483, 6484, 6485, 6486, 6487, 6488, 6489, 6490, 6491, 6492, 6493, 6494, 6495, 6496, 6497, 6498, 6499, 6500, 6501, 6502, 6503, 6504, 6505, 6506, 6507, 6508, 6509, 6510, 6511, 6512, 6513, 6514, 6515, 6516, 6517, 6518, 6519, 6520, 6521, 6522, 6523, 6524, 6525, 6526, 6527, 6528, 6529, 6530, 6531, 6532, 6533, 6534, 6535, 6536, 6537, 6538, 6539, 6540, 6541, 6542, 6543, 6544, 6545, 6546, 6547, 6548, 6549, 6550, 6551, 6552, 6592, 6593, 6594, 6595, 6596, 6597, 6598, 6599, 6600, 6601, 6602, 6603, 6604, 6605, 6606, 6607, 6608, 6609, 6610, 6611, 6612, 6613, 6614, 6615, 6616, 6617, 6618, 6619, 6620, 6621, 6622, 6623, 6624, 6625, 6626, 6627, 6628, 6629, 6630, 6631, 6632, 6633, 6634, 6635, 6636, 6637, 6638, 6639, 6640, 6641, 6642, 6643, 6644, 6645, 6646, 6647, 6648, 6649, 6650, 6651, 6652, 6653, 6654, 6655, 6656, 6657, 6658, 6659, 6660, 6661, 6662, 6663, 6664, 6665, 6666, 6667, 6668, 6669, 6670, 6671, 6672, 6673, 6674, 6675, 6676, 6677, 6678, 6679, 6721, 6722, 6723, 6724, 6725, 6726, 6727, 6728, 6729, 6730, 6731, 6732, 6733, 6734, 6735, 6736, 6737, 6738, 6739, 6740, 6741, 6742, 6743, 6744, 6745, 6746, 6747, 6748, 6749, 6750, 6751, 6752, 6753, 6754, 6755, 6756, 6757, 6758, 6759, 6760, 6761, 6762, 6763, 6764, 6765, 6766, 6767, 6768, 6769, 6770, 6771, 6772, 6773, 6774, 6775, 6776, 6777, 6778, 6779, 6780, 6781, 6782, 6783, 6784, 6785, 6786, 6787, 6788, 6789, 6790, 6791, 6792, 6793, 6794, 6795, 6796, 6797, 6798, 6799, 6800, 6801, 6802, 6803, 6804, 6805, 6806, 6807, 6849, 6850, 6851, 6852, 6853, 6854, 6855, 6856, 6857, 6858, 6859, 6860, 6861, 6862, 6863, 6864, 6865, 6866, 6867, 6868, 6869, 6870, 6871, 6872, 6873, 6874, 6875, 6876, 6877, 6878, 6879, 6880, 6881, 6882, 6883, 6884, 6885, 6886, 6887, 6888, 6889, 6890, 6891, 6892, 6893, 6894, 6895, 6896, 6897, 6898, 6899, 6900, 6901, 6902, 6903, 6904, 6905, 6906, 6907, 6908, 6909, 6910, 6911, 6912, 6913, 6914, 6915, 6916, 6917, 6918, 6919, 6920, 6921, 6922, 6923, 6924, 6925, 6926, 6927, 6928, 6929, 6930, 6931, 6932, 6933, 6934, 6977, 6978, 6979, 6980, 6981, 6982, 6983, 6984, 6985, 6986, 6987, 6988, 6989, 6990, 6991, 6992, 6993, 6994, 6995, 6996, 6997, 6998, 6999, 7000, 7001, 7002, 7003, 7004, 7005, 7006, 7007, 7008, 7009, 7010, 7011, 7012, 7013, 7014, 7015, 7016, 7017, 7018, 7019, 7020, 7021, 7022, 7023, 7024, 7025, 7026, 7027, 7028, 7029, 7030, 7031, 7032, 7036, 7037, 7038, 7039, 7040, 7041, 7042, 7043, 7044, 7045, 7046, 7047, 7048, 7049, 7050, 7051, 7052, 7053, 7054, 7055, 7056, 7057, 7058, 7059, 7060, 7061, 7062, 7105, 7106, 7107, 7108, 7109, 7110, 7111, 7112, 7113, 7114, 7115, 7116, 7117, 7118, 7119, 7120, 7121, 7122, 7123, 7124, 7125, 7126, 7127, 7128, 7129, 7130, 7131, 7132, 7133, 7134, 7135, 7136, 7137, 7138, 7139, 7140, 7141, 7142, 7143, 7144, 7145, 7146, 7147, 7148, 7149, 7150, 7151, 7152, 7153, 7154, 7155, 7156, 7157, 7158, 7159, 7163, 7165, 7166, 7167, 7168, 7169, 7170, 7171, 7172, 7173, 7174, 7175, 7176, 7177, 7178, 7179, 7180, 7181, 7182, 7183, 7184, 7185, 7186, 7187, 7188, 7189, 7233, 7234, 7235, 7236, 7237, 7238, 7239, 7240, 7241, 7242, 7243, 7244, 7245, 7246, 7247, 7248, 7249, 7250, 7251, 7252, 7253, 7254, 7255, 7256, 7257, 7258, 7259, 7260, 7261, 7262, 7263, 7264, 7265, 7266, 7267, 7268, 7269, 7270, 7271, 7272, 7273, 7274, 7275, 7276, 7277, 7278, 7279, 7280, 7281, 7282, 7283, 7284, 7285, 7286, 7287, 7290, 7291, 7296, 7297, 7298, 7299, 7300, 7301, 7302, 7303, 7305, 7306, 7307, 7308, 7309, 7310, 7311, 7312, 7313, 7314, 7315, 7316, 7317, 7361, 7362, 7363, 7364, 7365, 7366, 7367, 7368, 7369, 7370, 7371, 7372, 7373, 7374, 7375, 7376, 7377, 7378, 7379, 7380, 7381, 7382, 7383, 7384, 7385, 7386, 7387, 7388, 7389, 7390, 7391, 7392, 7393, 7394, 7395, 7396, 7397, 7398, 7399, 7400, 7401, 7402, 7403, 7404, 7405, 7406, 7407, 7408, 7409, 7410, 7411, 7412, 7413, 7414, 7415, 7417, 7418, 7419, 7423, 7424, 7425, 7426, 7427, 7429, 7430, 7434, 7435, 7436, 7437, 7438, 7439, 7440, 7441, 7442, 7443, 7444, 7445, 7490, 7491, 7492, 7493, 7494, 7495, 7496, 7497, 7498, 7499, 7500, 7501, 7502, 7503, 7504, 7505, 7506, 7507, 7508, 7509, 7510, 7511, 7512, 7513, 7514, 7515, 7516, 7517, 7518, 7519, 7520, 7521, 7522, 7523, 7524, 7525, 7526, 7527, 7528, 7529, 7530, 7531, 7532, 7533, 7534, 7535, 7536, 7537, 7538, 7539, 7540, 7541, 7542, 7543, 7546, 7554, 7558, 7565, 7566, 7567, 7568, 7569, 7570, 7571, 7572, 7573, 7617, 7618, 7619, 7620, 7621, 7622, 7623, 7624, 7625, 7626, 7627, 7628, 7629, 7630, 7631, 7632, 7633, 7634, 7635, 7636, 7637, 7638, 7639, 7640, 7641, 7642, 7643, 7644, 7645, 7646, 7647, 7648, 7649, 7650, 7651, 7652, 7653, 7654, 7655, 7656, 7657, 7658, 7659, 7660, 7661, 7662, 7663, 7664, 7665, 7666, 7667, 7668, 7694, 7695, 7696, 7697, 7698, 7699, 7700, 7746, 7747, 7748, 7749, 7750, 7751, 7752, 7753, 7754, 7755, 7756, 7757, 7758, 7759, 7760, 7761, 7762, 7763, 7764, 7765, 7766, 7767, 7768, 7769, 7770, 7771, 7772, 7773, 7774, 7775, 7776, 7777, 7778, 7779, 7780, 7781, 7783, 7784, 7785, 7786, 7787, 7789, 7791, 7824, 7825, 7826, 7827, 7828, 7873, 7874, 7875, 7876, 7877, 7878, 7879, 7880, 7881, 7882, 7883, 7884, 7885, 7886, 7887, 7888, 7889, 7890, 7891, 7892, 7893, 7894, 7895, 7896, 7897, 7898, 7899, 7900, 7901, 7902, 7903, 8002, 8003, 8004, 8005, 8006, 8007, 8008, 8009, 8010, 8011, 8012, 8013, 8014, 8015, 8016, 8017, 8018, 8019, 8020, 8021, 8022, 8023, 8024, 8025, 8026, 8130, 8131, 8132, 8133, 8134, 8135, 8136, 8137, 8138, 8139, 8140, 8141, 8142, 8143, 8144, 8145, 8146, 8147, 8148, 8149, 8150, 8151, 8259, 8260, 8261, 8262, 8263, 8264, 8265, 8266, 8267, 8268, 8269, 8270, 8271, 8272, 8273, 8274, 8275, 8276, 8277, 8278, 8279, 8387, 8388, 8389, 8390, 8391, 8392, 8393, 8394, 8395, 8396, 8397, 8398, 8399, 8400, 8401, 8402, 8403, 8404, 8516, 8517, 8518, 8519, 8520, 8521, 8522, 8523, 8524, 8525, 8526, 8527, 8528, 8530, 8644, 8645, 8646, 8647, 8648, 8649, 8650, 8651, 8652, 8653, 8654, 8655, 8772, 8773, 8774, 8775, 8776, 8777, 8778, 8779, 8780, 8781, 8782, 8783, 8900, 8901, 8902, 8903, 8904, 8906, 8907, 9030, 9032, 12094]\n"
     ]
    },
    {
     "ename": "TypeError",
     "evalue": "cannot unpack non-iterable NoneType object",
     "output_type": "error",
     "traceback": [
      "\u001b[0;31m---------------------------------------------------------------------------\u001b[0m",
      "\u001b[0;31mTypeError\u001b[0m                                 Traceback (most recent call last)",
      "Input \u001b[0;32mIn [7]\u001b[0m, in \u001b[0;36m<module>\u001b[0;34m\u001b[0m\n\u001b[0;32m----> 1\u001b[0m recondict \u001b[38;5;241m=\u001b[39m \u001b[43mgnupartilewise_new\u001b[49m\u001b[43m(\u001b[49m\u001b[43mfullskycoords\u001b[49m\u001b[43m[\u001b[49m\u001b[38;5;124;43m'\u001b[39;49m\u001b[38;5;124;43mcoords\u001b[39;49m\u001b[38;5;124;43m'\u001b[39;49m\u001b[43m]\u001b[49m\u001b[43m,\u001b[49m\u001b[43m \u001b[49m\u001b[43mrecon_func_name\u001b[49m\u001b[43m,\u001b[49m\u001b[43m \u001b[49m\u001b[43mcuts_list\u001b[49m\u001b[43m,\u001b[49m\u001b[43m \u001b[49m\u001b[43mkwargs_dict\u001b[49m\u001b[43m,\u001b[49m\u001b[43m \u001b[49m\n\u001b[1;32m      2\u001b[0m \u001b[43m                               \u001b[49m\u001b[43mrunname\u001b[49m\u001b[43m,\u001b[49m\u001b[43m \u001b[49m\u001b[43msleep\u001b[49m\u001b[38;5;241;43m=\u001b[39;49m\u001b[38;5;241;43m7500\u001b[39;49m\u001b[43m,\u001b[49m\u001b[43m \u001b[49m\u001b[43mmem\u001b[49m\u001b[38;5;241;43m=\u001b[39;49m\u001b[38;5;241;43m4000\u001b[39;49m\u001b[43m,\u001b[49m\u001b[43m \u001b[49m\u001b[43mcompile_pickle\u001b[49m\u001b[38;5;241;43m=\u001b[39;49m\u001b[38;5;28;43;01mTrue\u001b[39;49;00m\u001b[43m)\u001b[49m\n",
      "File \u001b[0;32m/n/holylfs05/LABS/finkbeiner_lab/Everyone/highlat/notebooks_main1/../methods_code_Nresol/methods2.py:159\u001b[0m, in \u001b[0;36mgnupartilewise_new\u001b[0;34m(coords, recon_func_name, cuts_list, kwargs_dict, runname, sleep, mem, compile_pickle)\u001b[0m\n\u001b[1;32m    157\u001b[0m \u001b[38;5;28;01mif\u001b[39;00m compile_pickle:\n\u001b[1;32m    158\u001b[0m     time\u001b[38;5;241m.\u001b[39msleep(sleep)\n\u001b[0;32m--> 159\u001b[0m     reconmap, varmap, reconpix \u001b[38;5;241m=\u001b[39m get_Nsideresol_healpix_map_from_gnuparpatches_safe(tmpdir, Nsideresol\u001b[38;5;241m=\u001b[39mkwargs_dict[\u001b[38;5;124m'\u001b[39m\u001b[38;5;124mouter_kwargs\u001b[39m\u001b[38;5;124m'\u001b[39m][\u001b[38;5;124m'\u001b[39m\u001b[38;5;124mNsideresol\u001b[39m\u001b[38;5;124m'\u001b[39m], tiles\u001b[38;5;241m=\u001b[39mtiles)\n\u001b[1;32m    160\u001b[0m     result_dict \u001b[38;5;241m=\u001b[39m {\u001b[38;5;124m'\u001b[39m\u001b[38;5;124mdustmap\u001b[39m\u001b[38;5;124m'\u001b[39m: reconmap, \u001b[38;5;124m'\u001b[39m\u001b[38;5;124mvariancemap\u001b[39m\u001b[38;5;124m'\u001b[39m: varmap, \u001b[38;5;124m'\u001b[39m\u001b[38;5;124mreconpix\u001b[39m\u001b[38;5;124m'\u001b[39m: reconpix,\n\u001b[1;32m    161\u001b[0m                    \u001b[38;5;124m'\u001b[39m\u001b[38;5;124mfunc\u001b[39m\u001b[38;5;124m'\u001b[39m: \u001b[38;5;124m'\u001b[39m\u001b[38;5;124mgnupartilewise_new\u001b[39m\u001b[38;5;124m'\u001b[39m,\n\u001b[1;32m    162\u001b[0m                    \u001b[38;5;124m'\u001b[39m\u001b[38;5;124mcuts_list\u001b[39m\u001b[38;5;124m'\u001b[39m: cuts_list, \u001b[38;5;124m'\u001b[39m\u001b[38;5;124mrecon_func_name\u001b[39m\u001b[38;5;124m'\u001b[39m: recon_func_name,\n\u001b[1;32m    163\u001b[0m                    \u001b[38;5;124m'\u001b[39m\u001b[38;5;124mkwargs_dict\u001b[39m\u001b[38;5;124m'\u001b[39m: kwargs_dict}\n\u001b[1;32m    164\u001b[0m     pickle\u001b[38;5;241m.\u001b[39mdump(result_dict, \u001b[38;5;28mopen\u001b[39m(runname \u001b[38;5;241m+\u001b[39m \u001b[38;5;124m'\u001b[39m\u001b[38;5;124m.pkl\u001b[39m\u001b[38;5;124m'\u001b[39m, \u001b[38;5;124m'\u001b[39m\u001b[38;5;124mwb\u001b[39m\u001b[38;5;124m'\u001b[39m))\n",
      "\u001b[0;31mTypeError\u001b[0m: cannot unpack non-iterable NoneType object"
     ]
    }
   ],
   "source": [
    "recondict = gnupartilewise_new(fullskycoords['coords'], recon_func_name, cuts_list, kwargs_dict, \n",
    "                               runname, sleep=7500, mem=4000, compile_pickle=True)"
   ]
  },
  {
   "cell_type": "code",
   "execution_count": 9,
   "id": "481fe87a",
   "metadata": {},
   "outputs": [],
   "source": [
    "missing_tiles = []\n",
    "for tile in numtiles:\n",
    "    if not os.path.exists(runname+'_tmpdir/recon_{}.hdf5'.format(tile)):\n",
    "        missing_tiles.append(tile)"
   ]
  },
  {
   "cell_type": "code",
   "execution_count": null,
   "id": "058b623e",
   "metadata": {},
   "outputs": [
    {
     "name": "stdout",
     "output_type": "stream",
     "text": [
      "Dir already exists\n",
      "Tiles file already exists\n",
      "Only reconstructing for missing 2669 tiles\n",
      "Using Star Directory: /n/holylfs05/LABS/finkbeiner_lab/Everyone/highlat/data/lsdraw/stars_edr3/{}.fits\n",
      "Tmp pickle already exists\n"
     ]
    }
   ],
   "source": [
    "gnupartilewise_new(fullskycoords['coords'], recon_func_name, cuts_list, kwargs_dict, \n",
    "                               runname, sleep=3000, mem=8000, compile_pickle=True)"
   ]
  },
  {
   "cell_type": "code",
   "execution_count": 15,
   "id": "e1b35f38",
   "metadata": {},
   "outputs": [],
   "source": [
    "missing_tiles = []\n",
    "for tile in numtiles:\n",
    "    if not os.path.exists(runname+'_tmpdir/recon_{}.hdf5'.format(tile)):\n",
    "        missing_tiles.append(tile)"
   ]
  },
  {
   "cell_type": "code",
   "execution_count": 16,
   "id": "1fd57ffd",
   "metadata": {},
   "outputs": [
    {
     "data": {
      "text/plain": [
       "1466"
      ]
     },
     "execution_count": 16,
     "metadata": {},
     "output_type": "execute_result"
    }
   ],
   "source": [
    "len(missing_tiles)"
   ]
  },
  {
   "cell_type": "code",
   "execution_count": null,
   "id": "eeddc49f",
   "metadata": {},
   "outputs": [
    {
     "name": "stdout",
     "output_type": "stream",
     "text": [
      "Dir already exists\n",
      "Tiles file already exists\n",
      "Only reconstructing for missing 1466 tiles\n",
      "Using Star Directory: /n/holylfs05/LABS/finkbeiner_lab/Everyone/highlat/data/lsdraw/stars_edr3/{}.fits\n",
      "Tmp pickle already exists\n"
     ]
    }
   ],
   "source": [
    "recondict = gnupartilewise_new(fullskycoords['coords'], recon_func_name, cuts_list, kwargs_dict, \n",
    "                               runname, sleep=2000, mem=16000, compile_pickle=True)"
   ]
  },
  {
   "cell_type": "code",
   "execution_count": 30,
   "id": "adcf76eb",
   "metadata": {},
   "outputs": [
    {
     "data": {
      "text/plain": [
       "784"
      ]
     },
     "execution_count": 30,
     "metadata": {},
     "output_type": "execute_result"
    }
   ],
   "source": [
    "missing_tiles = []\n",
    "for tile in numtiles:\n",
    "    if not os.path.exists(runname+'_tmpdir/recon_{}.hdf5'.format(tile)):\n",
    "        missing_tiles.append(tile)\n",
    "len(missing_tiles)"
   ]
  },
  {
   "cell_type": "code",
   "execution_count": 37,
   "id": "33f5e462",
   "metadata": {},
   "outputs": [],
   "source": [
    "missing_coords = []\n",
    "for t32 in missing_tiles:\n",
    "    missing_coords.append(get_smallpix_in_tilepix(outer_kwargs['Nsidetile'], t32, 2048))\n",
    "missing_coords = np.hstack(missing_coords)"
   ]
  },
  {
   "cell_type": "code",
   "execution_count": 43,
   "id": "0deec784",
   "metadata": {},
   "outputs": [
    {
     "data": {
      "text/plain": [
       "True"
      ]
     },
     "execution_count": 43,
     "metadata": {},
     "output_type": "execute_result"
    }
   ],
   "source": [
    "np.all(np.unique(get_largepix_for_smallpix(missing_coords, 2048, outer_kwargs['Nsidetile'])) == missing_tiles)"
   ]
  },
  {
   "cell_type": "code",
   "execution_count": null,
   "id": "03f9d08a",
   "metadata": {},
   "outputs": [
    {
     "name": "stdout",
     "output_type": "stream",
     "text": [
      "Looping over 784 tiles\n",
      "Using dir  /n/holylfs05/LABS/finkbeiner_lab/Everyone/highlat/data/lsdraw/stars_edr3/{}.fits\n",
      "Region for tile4545\n",
      "Cut0 990532 0.9971320168193272\n",
      "Cut1 968233 0.9746844362837622\n",
      "Cut2 975556 0.9820562301876118\n",
      "Cut3 887953 0.8938695223685574\n",
      "Cut4 993381 1.0\n",
      "Cut5 670199 0.6746646050206315\n",
      "Cuts_All 615997 0.6201014515075284\n",
      "Tile 4545, NumPixels=4096, NumStars=615997, Star/Pix ratio = 150.389892578125\n",
      "SigRef 0.1822883907996713\n",
      "No stars for pix 0.0\n",
      "Stars Contributing >1sigma/N(pixel) of the weight matrix: Min stars = 180, 16%ile = 265.7, median stars = 304.0, 84%ile = 346.0, max stars = 403\n",
      "No stars for pix 0.0\n",
      "Stars Contributing >1sigma/N(pixel) of the weight matrix: Min stars = 141, 16%ile = 240.0, median stars = 276.0, 84%ile = 311.0, max stars = 366\n",
      "No stars for pix 0.0\n",
      "Stars Contributing >1sigma/N(pixel) of the weight matrix: Min stars = 204, 16%ile = 268.0, median stars = 292.0, 84%ile = 315.0, max stars = 362\n",
      "No stars for pix 0.0\n",
      "Stars Contributing >1sigma/N(pixel) of the weight matrix: Min stars = 102, 16%ile = 221.7, median stars = 256.0, 84%ile = 283.3, max stars = 342\n",
      "Region for tile4546\n"
     ]
    },
    {
     "name": "stderr",
     "output_type": "stream",
     "text": [
      "/n/holylfs05/LABS/finkbeiner_lab/Everyone/highlat/notebooks_main1/../methods_code_Nresol/do_recon_tilewise.py:51: RuntimeWarning: invalid value encountered in log10\n",
      "  df['sdss.pmag_'+b] = 22.5 - 2.5*np.clip(np.log10(np.array(dat['sdss_dr14_starsweep.psfflux'])[:, ib]), 0.0, np.inf)\n",
      "/n/holylfs05/LABS/finkbeiner_lab/Everyone/highlat/notebooks_main1/../methods_code_Nresol/do_recon_tilewise.py:52: RuntimeWarning: divide by zero encountered in true_divide\n",
      "  df['sdss.pmag_err_'+b] = (2.5/np.log(10)) * (sdss_flux_sig[:, ib]/np.array(dat['sdss_dr14_starsweep.psfflux'])[:, ib])\n"
     ]
    },
    {
     "name": "stdout",
     "output_type": "stream",
     "text": [
      "Cut0 851040 0.9965724670859647\n",
      "Cut1 822040 0.9626133094135956\n",
      "Cut2 829834 0.971740125789404\n",
      "Cut3 754433 0.8834451448358075\n",
      "Cut4 853962 0.9999941449728151\n",
      "Cut5 613462 0.7183673373795475\n",
      "Cuts_All 535600 0.6271905120455474\n",
      "Tile 4546, NumPixels=4096, NumStars=535600, Star/Pix ratio = 130.76171875\n",
      "SigRef 0.18143293986049897\n",
      "No stars for pix 0.0\n",
      "Stars Contributing >1sigma/N(pixel) of the weight matrix: Min stars = 45, 16%ile = 248.0, median stars = 288.0, 84%ile = 318.0, max stars = 364\n",
      "No stars for pix 0.0\n",
      "Stars Contributing >1sigma/N(pixel) of the weight matrix: Min stars = 172, 16%ile = 220.0, median stars = 245.0, 84%ile = 274.0, max stars = 350\n",
      "No stars for pix 0.0\n",
      "Stars Contributing >1sigma/N(pixel) of the weight matrix: Min stars = 124, 16%ile = 251.0, median stars = 283.0, 84%ile = 311.0, max stars = 363\n",
      "No stars for pix 0.0\n",
      "Stars Contributing >1sigma/N(pixel) of the weight matrix: Min stars = 138, 16%ile = 191.7, median stars = 218.0, 84%ile = 252.0, max stars = 315\n",
      "Region for tile4672\n"
     ]
    },
    {
     "name": "stderr",
     "output_type": "stream",
     "text": [
      "/n/holylfs05/LABS/finkbeiner_lab/Everyone/highlat/notebooks_main1/../methods_code_Nresol/do_recon_tilewise.py:44: RuntimeWarning: divide by zero encountered in true_divide\n",
      "  df['reduced_chisq'] = df['chisq'].to_numpy() * n_passbands / (n_passbands - 4)\n",
      "/n/holylfs05/LABS/finkbeiner_lab/Everyone/highlat/notebooks_main1/../methods_code_Nresol/do_recon_tilewise.py:49: RuntimeWarning: divide by zero encountered in power\n",
      "  sdss_flux_sig = np.power(np.array(dat['sdss_dr14_starsweep.psfflux_ivar']), -0.5)\n",
      "/n/holylfs05/LABS/finkbeiner_lab/Everyone/highlat/notebooks_main1/../methods_code_Nresol/do_recon_tilewise.py:51: RuntimeWarning: divide by zero encountered in log10\n",
      "  df['sdss.pmag_'+b] = 22.5 - 2.5*np.clip(np.log10(np.array(dat['sdss_dr14_starsweep.psfflux'])[:, ib]), 0.0, np.inf)\n",
      "/n/holylfs05/LABS/finkbeiner_lab/Everyone/highlat/notebooks_main1/../methods_code_Nresol/do_recon_tilewise.py:56: RuntimeWarning: divide by zero encountered in log10\n",
      "  df['ps.psfmagmean_'+b] = -2.5*np.log10(np.array(dat['ucal_fluxqz.mean'][:, ib]))\n",
      "/n/holylfs05/LABS/finkbeiner_lab/Everyone/highlat/notebooks_main1/../methods_code_Nresol/do_recon_tilewise.py:57: RuntimeWarning: invalid value encountered in true_divide\n",
      "  df['ps.psfmagstdev_' + b] = (2.5/np.log(10))*(np.array(dat['ucal_fluxqz.stdev'][:, ib])/np.array(dat['ucal_fluxqz.mean'][:, ib]))\n",
      "/n/holylfs05/LABS/finkbeiner_lab/Everyone/highlat/notebooks_main1/../methods_code_Nresol/do_recon_tilewise.py:58: RuntimeWarning: divide by zero encountered in log10\n",
      "  df['ps.apmagmean_'+b] = -2.5*np.log10(np.array(dat['ucal_fluxqz.mean_ap'][:, ib]))\n",
      "/n/holylfs05/LABS/finkbeiner_lab/Everyone/highlat/notebooks_main1/../methods_code_Nresol/do_recon_tilewise.py:59: RuntimeWarning: invalid value encountered in true_divide\n",
      "  df['ps.apmagstdev_' + b] = (2.5/np.log(10))*(np.array(dat['ucal_fluxqz.stdev_ap'][:, ib])/np.array(dat['ucal_fluxqz.mean_ap'][:, ib]))\n",
      "/n/holylfs05/LABS/finkbeiner_lab/Everyone/highlat/notebooks_main1/../methods_code_Nresol/do_recon_tilewise.py:60: RuntimeWarning: invalid value encountered in subtract\n",
      "  df['ps.psf-apmag_'+b] = df['ps.psfmagmean_'+b].to_numpy() - df['ps.apmagmean_'+b].to_numpy()\n"
     ]
    },
    {
     "name": "stdout",
     "output_type": "stream",
     "text": [
      "Cut0 1190659 0.9977215936610194\n",
      "Cut1 1159855 0.9719091520038077\n",
      "Cut2 1165553 0.9766838336218701\n",
      "Cut3 1060349 0.8885273567972596\n",
      "Cut4 1193378 1.0\n",
      "Cut5 724711 0.60727699019087\n",
      "Cuts_All 672637 0.5636411933184624\n",
      "Tile 4672, NumPixels=4096, NumStars=672637, Star/Pix ratio = 164.218017578125\n",
      "SigRef 0.17803743721710752\n",
      "No stars for pix 0.0\n",
      "Stars Contributing >1sigma/N(pixel) of the weight matrix: Min stars = 251, 16%ile = 333.7, median stars = 372.5, 84%ile = 412.0, max stars = 483\n",
      "No stars for pix 0.0\n",
      "Stars Contributing >1sigma/N(pixel) of the weight matrix: Min stars = 259, 16%ile = 333.0, median stars = 362.0, 84%ile = 394.0, max stars = 451\n",
      "No stars for pix 0.0\n",
      "Stars Contributing >1sigma/N(pixel) of the weight matrix: Min stars = 166, 16%ile = 286.0, median stars = 325.0, 84%ile = 365.0, max stars = 419\n",
      "No stars for pix 0.0\n",
      "Stars Contributing >1sigma/N(pixel) of the weight matrix: Min stars = 197, 16%ile = 261.0, median stars = 314.0, 84%ile = 358.0, max stars = 424\n",
      "Region for tile4673\n",
      "Cut0 1313686 0.997923913282929\n",
      "Cut1 1285343 0.9763935342774603\n",
      "Cut2 1294664 0.9834741066484152\n",
      "Cut3 1209245 0.9185867113738103\n",
      "Cut4 1316419 1.0\n",
      "Cut5 839955 0.6380605263217866\n",
      "Cuts_All 789635 0.5998356146485275\n",
      "Tile 4673, NumPixels=4096, NumStars=789635, Star/Pix ratio = 192.781982421875\n",
      "SigRef 0.18172288892696428\n",
      "No stars for pix 0.0\n",
      "Stars Contributing >1sigma/N(pixel) of the weight matrix: Min stars = 217, 16%ile = 330.0, median stars = 407.0, 84%ile = 475.3, max stars = 579\n",
      "No stars for pix 0.0\n",
      "Stars Contributing >1sigma/N(pixel) of the weight matrix: Min stars = 253, 16%ile = 346.0, median stars = 389.0, 84%ile = 442.3, max stars = 521\n",
      "No stars for pix 0.0\n",
      "Stars Contributing >1sigma/N(pixel) of the weight matrix: Min stars = 199, 16%ile = 306.0, median stars = 357.5, 84%ile = 399.0, max stars = 470\n",
      "No stars for pix 0.0\n",
      "Stars Contributing >1sigma/N(pixel) of the weight matrix: Min stars = 169, 16%ile = 291.7, median stars = 339.0, 84%ile = 396.3, max stars = 510\n",
      "Region for tile4674\n"
     ]
    },
    {
     "name": "stderr",
     "output_type": "stream",
     "text": [
      "/n/holylfs05/LABS/finkbeiner_lab/Everyone/highlat/notebooks_main1/../methods_code_Nresol/do_recon_tilewise.py:51: RuntimeWarning: invalid value encountered in log10\n",
      "  df['sdss.pmag_'+b] = 22.5 - 2.5*np.clip(np.log10(np.array(dat['sdss_dr14_starsweep.psfflux'])[:, ib]), 0.0, np.inf)\n"
     ]
    },
    {
     "name": "stdout",
     "output_type": "stream",
     "text": [
      "Cut0 1280490 0.9977209242528722\n",
      "Cut1 1250377 0.9742577420397923\n",
      "Cut2 1262205 0.9834737789413401\n",
      "Cut3 1162549 0.9058246942727022\n",
      "Cut4 1283415 1.0\n",
      "Cut5 850558 0.6627302937864993\n",
      "Cuts_All 782319 0.6095604305700026\n",
      "Tile 4674, NumPixels=4096, NumStars=782319, Star/Pix ratio = 190.995849609375\n",
      "SigRef 0.18341889305068568\n",
      "No stars for pix 0.0\n",
      "Stars Contributing >1sigma/N(pixel) of the weight matrix: Min stars = 278, 16%ile = 356.0, median stars = 404.0, 84%ile = 452.3, max stars = 524\n",
      "No stars for pix 0.0\n",
      "Stars Contributing >1sigma/N(pixel) of the weight matrix: Min stars = 241, 16%ile = 309.0, median stars = 350.0, 84%ile = 394.0, max stars = 477\n",
      "No stars for pix 0.0\n",
      "Stars Contributing >1sigma/N(pixel) of the weight matrix: Min stars = 215, 16%ile = 339.0, median stars = 380.0, 84%ile = 417.0, max stars = 473\n",
      "No stars for pix 0.0\n",
      "Stars Contributing >1sigma/N(pixel) of the weight matrix: Min stars = 241, 16%ile = 306.0, median stars = 345.0, 84%ile = 384.0, max stars = 444\n",
      "Region for tile4675\n"
     ]
    },
    {
     "name": "stderr",
     "output_type": "stream",
     "text": [
      "/n/holylfs05/LABS/finkbeiner_lab/Everyone/highlat/notebooks_main1/../methods_code_Nresol/do_recon_tilewise.py:52: RuntimeWarning: divide by zero encountered in true_divide\n",
      "  df['sdss.pmag_err_'+b] = (2.5/np.log(10)) * (sdss_flux_sig[:, ib]/np.array(dat['sdss_dr14_starsweep.psfflux'])[:, ib])\n"
     ]
    },
    {
     "name": "stdout",
     "output_type": "stream",
     "text": [
      "Cut0 1107444 0.9973819089639222\n",
      "Cut1 1070517 0.9641248578152314\n",
      "Cut2 1086488 0.9785085977317083\n",
      "Cut3 983064 0.8853632770178079\n",
      "Cut4 1110101 0.9997748459721295\n",
      "Cut5 767963 0.6916398508219473\n",
      "Cuts_All 682291 0.614482267319073\n",
      "Tile 4675, NumPixels=4096, NumStars=682291, Star/Pix ratio = 166.574951171875\n",
      "SigRef 0.18167773165049175\n",
      "No stars for pix 0.0\n",
      "Stars Contributing >1sigma/N(pixel) of the weight matrix: Min stars = 265, 16%ile = 346.7, median stars = 388.0, 84%ile = 426.3, max stars = 516\n",
      "No stars for pix 0.0\n",
      "Stars Contributing >1sigma/N(pixel) of the weight matrix: Min stars = 224, 16%ile = 292.0, median stars = 331.0, 84%ile = 365.0, max stars = 464\n",
      "No stars for pix 0.0\n",
      "Stars Contributing >1sigma/N(pixel) of the weight matrix: Min stars = 123, 16%ile = 282.0, median stars = 323.0, 84%ile = 371.3, max stars = 461\n",
      "No stars for pix 0.0\n",
      "Stars Contributing >1sigma/N(pixel) of the weight matrix: Min stars = 184, 16%ile = 258.0, median stars = 289.0, 84%ile = 320.0, max stars = 386\n",
      "Region for tile4676\n"
     ]
    },
    {
     "name": "stderr",
     "output_type": "stream",
     "text": [
      "/n/holylfs05/LABS/finkbeiner_lab/Everyone/highlat/notebooks_main1/../methods_code_Nresol/do_recon_tilewise.py:44: RuntimeWarning: divide by zero encountered in true_divide\n",
      "  df['reduced_chisq'] = df['chisq'].to_numpy() * n_passbands / (n_passbands - 4)\n",
      "/n/holylfs05/LABS/finkbeiner_lab/Everyone/highlat/notebooks_main1/../methods_code_Nresol/do_recon_tilewise.py:49: RuntimeWarning: divide by zero encountered in power\n",
      "  sdss_flux_sig = np.power(np.array(dat['sdss_dr14_starsweep.psfflux_ivar']), -0.5)\n",
      "/n/holylfs05/LABS/finkbeiner_lab/Everyone/highlat/notebooks_main1/../methods_code_Nresol/do_recon_tilewise.py:51: RuntimeWarning: divide by zero encountered in log10\n",
      "  df['sdss.pmag_'+b] = 22.5 - 2.5*np.clip(np.log10(np.array(dat['sdss_dr14_starsweep.psfflux'])[:, ib]), 0.0, np.inf)\n",
      "/n/holylfs05/LABS/finkbeiner_lab/Everyone/highlat/notebooks_main1/../methods_code_Nresol/do_recon_tilewise.py:51: RuntimeWarning: invalid value encountered in log10\n",
      "  df['sdss.pmag_'+b] = 22.5 - 2.5*np.clip(np.log10(np.array(dat['sdss_dr14_starsweep.psfflux'])[:, ib]), 0.0, np.inf)\n",
      "/n/holylfs05/LABS/finkbeiner_lab/Everyone/highlat/notebooks_main1/../methods_code_Nresol/do_recon_tilewise.py:56: RuntimeWarning: divide by zero encountered in log10\n",
      "  df['ps.psfmagmean_'+b] = -2.5*np.log10(np.array(dat['ucal_fluxqz.mean'][:, ib]))\n",
      "/n/holylfs05/LABS/finkbeiner_lab/Everyone/highlat/notebooks_main1/../methods_code_Nresol/do_recon_tilewise.py:57: RuntimeWarning: invalid value encountered in true_divide\n",
      "  df['ps.psfmagstdev_' + b] = (2.5/np.log(10))*(np.array(dat['ucal_fluxqz.stdev'][:, ib])/np.array(dat['ucal_fluxqz.mean'][:, ib]))\n",
      "/n/holylfs05/LABS/finkbeiner_lab/Everyone/highlat/notebooks_main1/../methods_code_Nresol/do_recon_tilewise.py:58: RuntimeWarning: divide by zero encountered in log10\n",
      "  df['ps.apmagmean_'+b] = -2.5*np.log10(np.array(dat['ucal_fluxqz.mean_ap'][:, ib]))\n",
      "/n/holylfs05/LABS/finkbeiner_lab/Everyone/highlat/notebooks_main1/../methods_code_Nresol/do_recon_tilewise.py:59: RuntimeWarning: invalid value encountered in true_divide\n",
      "  df['ps.apmagstdev_' + b] = (2.5/np.log(10))*(np.array(dat['ucal_fluxqz.stdev_ap'][:, ib])/np.array(dat['ucal_fluxqz.mean_ap'][:, ib]))\n",
      "/n/holylfs05/LABS/finkbeiner_lab/Everyone/highlat/notebooks_main1/../methods_code_Nresol/do_recon_tilewise.py:60: RuntimeWarning: invalid value encountered in subtract\n",
      "  df['ps.psf-apmag_'+b] = df['ps.psfmagmean_'+b].to_numpy() - df['ps.apmagmean_'+b].to_numpy()\n"
     ]
    },
    {
     "name": "stdout",
     "output_type": "stream",
     "text": [
      "Cut0 981214 0.9969589730615612\n",
      "Cut1 946044 0.9612246204304582\n",
      "Cut2 956910 0.9722649808424447\n",
      "Cut3 860941 0.8747560218531264\n",
      "Cut4 983912 0.999700266305767\n",
      "Cut5 696446 0.7076214658095299\n",
      "Cuts_All 612664 0.6224950645545093\n",
      "Tile 4676, NumPixels=4096, NumStars=612664, Star/Pix ratio = 149.576171875\n",
      "SigRef 0.18582348459428075\n",
      "No stars for pix 0.0\n",
      "Stars Contributing >1sigma/N(pixel) of the weight matrix: Min stars = 192, 16%ile = 302.0, median stars = 351.0, 84%ile = 391.0, max stars = 476\n",
      "No stars for pix 0.0\n",
      "Stars Contributing >1sigma/N(pixel) of the weight matrix: Min stars = 178, 16%ile = 282.0, median stars = 316.0, 84%ile = 347.0, max stars = 435\n",
      "No stars for pix 0.0\n",
      "Stars Contributing >1sigma/N(pixel) of the weight matrix: Min stars = 138, 16%ile = 280.0, median stars = 323.0, 84%ile = 361.0, max stars = 454\n",
      "No stars for pix 0.0\n",
      "Stars Contributing >1sigma/N(pixel) of the weight matrix: Min stars = 199, 16%ile = 259.0, median stars = 293.0, 84%ile = 333.0, max stars = 422\n",
      "Region for tile4681\n"
     ]
    },
    {
     "name": "stderr",
     "output_type": "stream",
     "text": [
      "/n/holylfs05/LABS/finkbeiner_lab/Everyone/highlat/notebooks_main1/../methods_code_Nresol/do_recon_tilewise.py:44: RuntimeWarning: divide by zero encountered in true_divide\n",
      "  df['reduced_chisq'] = df['chisq'].to_numpy() * n_passbands / (n_passbands - 4)\n",
      "/n/holylfs05/LABS/finkbeiner_lab/Everyone/highlat/notebooks_main1/../methods_code_Nresol/do_recon_tilewise.py:49: RuntimeWarning: divide by zero encountered in power\n",
      "  sdss_flux_sig = np.power(np.array(dat['sdss_dr14_starsweep.psfflux_ivar']), -0.5)\n",
      "/n/holylfs05/LABS/finkbeiner_lab/Everyone/highlat/notebooks_main1/../methods_code_Nresol/do_recon_tilewise.py:51: RuntimeWarning: divide by zero encountered in log10\n",
      "  df['sdss.pmag_'+b] = 22.5 - 2.5*np.clip(np.log10(np.array(dat['sdss_dr14_starsweep.psfflux'])[:, ib]), 0.0, np.inf)\n",
      "/n/holylfs05/LABS/finkbeiner_lab/Everyone/highlat/notebooks_main1/../methods_code_Nresol/do_recon_tilewise.py:51: RuntimeWarning: invalid value encountered in log10\n",
      "  df['sdss.pmag_'+b] = 22.5 - 2.5*np.clip(np.log10(np.array(dat['sdss_dr14_starsweep.psfflux'])[:, ib]), 0.0, np.inf)\n",
      "/n/holylfs05/LABS/finkbeiner_lab/Everyone/highlat/notebooks_main1/../methods_code_Nresol/do_recon_tilewise.py:56: RuntimeWarning: divide by zero encountered in log10\n",
      "  df['ps.psfmagmean_'+b] = -2.5*np.log10(np.array(dat['ucal_fluxqz.mean'][:, ib]))\n",
      "/n/holylfs05/LABS/finkbeiner_lab/Everyone/highlat/notebooks_main1/../methods_code_Nresol/do_recon_tilewise.py:57: RuntimeWarning: invalid value encountered in true_divide\n",
      "  df['ps.psfmagstdev_' + b] = (2.5/np.log(10))*(np.array(dat['ucal_fluxqz.stdev'][:, ib])/np.array(dat['ucal_fluxqz.mean'][:, ib]))\n",
      "/n/holylfs05/LABS/finkbeiner_lab/Everyone/highlat/notebooks_main1/../methods_code_Nresol/do_recon_tilewise.py:58: RuntimeWarning: divide by zero encountered in log10\n",
      "  df['ps.apmagmean_'+b] = -2.5*np.log10(np.array(dat['ucal_fluxqz.mean_ap'][:, ib]))\n",
      "/n/holylfs05/LABS/finkbeiner_lab/Everyone/highlat/notebooks_main1/../methods_code_Nresol/do_recon_tilewise.py:59: RuntimeWarning: invalid value encountered in true_divide\n",
      "  df['ps.apmagstdev_' + b] = (2.5/np.log(10))*(np.array(dat['ucal_fluxqz.stdev_ap'][:, ib])/np.array(dat['ucal_fluxqz.mean_ap'][:, ib]))\n",
      "/n/holylfs05/LABS/finkbeiner_lab/Everyone/highlat/notebooks_main1/../methods_code_Nresol/do_recon_tilewise.py:60: RuntimeWarning: invalid value encountered in subtract\n",
      "  df['ps.psf-apmag_'+b] = df['ps.psfmagmean_'+b].to_numpy() - df['ps.apmagmean_'+b].to_numpy()\n"
     ]
    },
    {
     "name": "stdout",
     "output_type": "stream",
     "text": [
      "Cut0 742119 0.9957359280930957\n",
      "Cut1 725547 0.9735004971172566\n",
      "Cut2 729612 0.9789546985966668\n",
      "Cut3 662284 0.8886175578326493\n"
     ]
    }
   ],
   "source": [
    "looptilewise(missing_coords, recon_func_name, cuts_list, kwargs_dict, runname, save_tilewise=True, compile_pickle=False)"
   ]
  },
  {
   "cell_type": "code",
   "execution_count": 35,
   "id": "e5a7ee40",
   "metadata": {},
   "outputs": [],
   "source": [
    "missing_coords = np.flip(missing_coords)"
   ]
  },
  {
   "cell_type": "code",
   "execution_count": 48,
   "id": "59c66066",
   "metadata": {},
   "outputs": [
    {
     "name": "stdout",
     "output_type": "stream",
     "text": [
      "Looping over 620 tiles\n",
      "Using dir  /n/holylfs05/LABS/finkbeiner_lab/Everyone/highlat/data/lsdraw/stars_edr3/{}.fits\n",
      "Region for tile5575\n",
      "Cut0 1336795 0.9954961227783143\n",
      "Cut1 838582 0.6244825344437138\n",
      "Cut2 1180716 0.8792658560978461\n",
      "Cut3 1115231 0.8304999169672106\n",
      "Cut4 1342843 1.0\n",
      "Cut5 546034 0.4066253463733288\n",
      "Cuts_All 258257 0.19232106806231258\n",
      "Tile 5575, NumPixels=4096, NumStars=258257, Star/Pix ratio = 63.051025390625\n",
      "SigRef 0.16498197314948415\n",
      "No stars for pix 0.0\n",
      "Stars Contributing >1sigma/N(pixel) of the weight matrix: Min stars = 20, 16%ile = 81.0, median stars = 123.0, 84%ile = 162.0, max stars = 253\n",
      "No stars for pix 0.0\n",
      "Stars Contributing >1sigma/N(pixel) of the weight matrix: Min stars = 22, 16%ile = 66.0, median stars = 93.0, 84%ile = 131.0, max stars = 202\n",
      "No stars for pix 0.0\n",
      "Stars Contributing >1sigma/N(pixel) of the weight matrix: Min stars = 47, 16%ile = 112.0, median stars = 137.0, 84%ile = 166.0, max stars = 215\n",
      "No stars for pix 0.0\n",
      "Stars Contributing >1sigma/N(pixel) of the weight matrix: Min stars = 17, 16%ile = 80.0, median stars = 118.0, 84%ile = 151.0, max stars = 228\n",
      "Region for tile5576\n",
      "Cut0 1681913 0.996460073180211\n",
      "Cut1 1191898 0.7061475642933654\n",
      "Cut2 1542013 0.91357542680557\n",
      "Cut3 1430465 0.8474881034760601\n",
      "Cut4 1687888 1.0\n",
      "Cut5 814492 0.48255097494620497\n",
      "Cuts_All 453220 0.268513076697032\n",
      "Tile 5576, NumPixels=4096, NumStars=453220, Star/Pix ratio = 110.6494140625\n",
      "SigRef 0.18200635048602565\n",
      "No stars for pix 0.0\n",
      "Stars Contributing >1sigma/N(pixel) of the weight matrix: Min stars = 34, 16%ile = 151.0, median stars = 224.0, 84%ile = 295.3, max stars = 421\n",
      "No stars for pix 0.0\n",
      "Stars Contributing >1sigma/N(pixel) of the weight matrix: Min stars = 26, 16%ile = 69.0, median stars = 115.0, 84%ile = 194.3, max stars = 346\n",
      "No stars for pix 0.0\n",
      "Stars Contributing >1sigma/N(pixel) of the weight matrix: Min stars = 42, 16%ile = 126.0, median stars = 180.0, 84%ile = 232.0, max stars = 307\n",
      "No stars for pix 0.0\n",
      "Stars Contributing >1sigma/N(pixel) of the weight matrix: Min stars = 132, 16%ile = 229.0, median stars = 278.0, 84%ile = 330.3, max stars = 442\n",
      "Region for tile5577\n"
     ]
    },
    {
     "ename": "KeyboardInterrupt",
     "evalue": "",
     "output_type": "error",
     "traceback": [
      "\u001b[0;31m---------------------------------------------------------------------------\u001b[0m",
      "\u001b[0;31mKeyboardInterrupt\u001b[0m                         Traceback (most recent call last)",
      "Input \u001b[0;32mIn [48]\u001b[0m, in \u001b[0;36m<module>\u001b[0;34m\u001b[0m\n\u001b[0;32m----> 1\u001b[0m \u001b[43mlooptilewise\u001b[49m\u001b[43m(\u001b[49m\u001b[43mmissing_coords\u001b[49m\u001b[43m,\u001b[49m\u001b[43m \u001b[49m\u001b[43mrecon_func_name\u001b[49m\u001b[43m,\u001b[49m\u001b[43m \u001b[49m\u001b[43mcuts_list\u001b[49m\u001b[43m,\u001b[49m\u001b[43m \u001b[49m\u001b[43mkwargs_dict\u001b[49m\u001b[43m,\u001b[49m\u001b[43m \u001b[49m\u001b[43mrunname\u001b[49m\u001b[43m,\u001b[49m\u001b[43m \u001b[49m\u001b[43msave_tilewise\u001b[49m\u001b[38;5;241;43m=\u001b[39;49m\u001b[38;5;28;43;01mTrue\u001b[39;49;00m\u001b[43m,\u001b[49m\u001b[43m \u001b[49m\u001b[43mcompile_pickle\u001b[49m\u001b[38;5;241;43m=\u001b[39;49m\u001b[38;5;28;43;01mFalse\u001b[39;49;00m\u001b[43m)\u001b[49m\n",
      "File \u001b[0;32m/n/holylfs05/LABS/finkbeiner_lab/Everyone/highlat/notebooks_main1/../methods_code_Nresol/methods2.py:201\u001b[0m, in \u001b[0;36mlooptilewise\u001b[0;34m(coords, recon_func_name, cuts_list, kwargs_dict, runname, save_tilewise, compile_pickle)\u001b[0m\n\u001b[1;32m    198\u001b[0m     stars_presaved \u001b[38;5;241m=\u001b[39m \u001b[38;5;124m'\u001b[39m\u001b[38;5;124m/n/holylfs05/LABS/finkbeiner_lab/Everyone/highlat/data/lsdraw/stars/\u001b[39m\u001b[38;5;132;01m{}\u001b[39;00m\u001b[38;5;124m.fits\u001b[39m\u001b[38;5;124m'\u001b[39m\n\u001b[1;32m    200\u001b[0m \u001b[38;5;28;01mfor\u001b[39;00m tile \u001b[38;5;129;01min\u001b[39;00m tiles:\n\u001b[0;32m--> 201\u001b[0m     recon, variance, coordvec \u001b[38;5;241m=\u001b[39m \u001b[43mget_recon_for_tile\u001b[49m\u001b[43m(\u001b[49m\u001b[43mtile\u001b[49m\u001b[43m,\u001b[49m\u001b[43m \u001b[49m\u001b[43mNsidetile\u001b[49m\u001b[43m,\u001b[49m\u001b[43m \u001b[49m\u001b[43mradius_deg_extra\u001b[49m\u001b[43m,\u001b[49m\u001b[43m \u001b[49m\u001b[38;5;28;43mgetattr\u001b[39;49m\u001b[43m(\u001b[49m\u001b[43mmethods_cluster\u001b[49m\u001b[43m,\u001b[49m\u001b[43m \u001b[49m\u001b[43mrecon_func_name\u001b[49m\u001b[43m)\u001b[49m\u001b[43m,\u001b[49m\u001b[43m \u001b[49m\u001b[43mkwargs_dict\u001b[49m\u001b[43m[\u001b[49m\u001b[38;5;124;43m'\u001b[39;49m\u001b[38;5;124;43mrecon_kwargs\u001b[39;49m\u001b[38;5;124;43m'\u001b[39;49m\u001b[43m]\u001b[49m\u001b[43m,\u001b[49m\u001b[43m \u001b[49m\u001b[43mcuts_list\u001b[49m\u001b[43m,\u001b[49m\u001b[43m \u001b[49m\u001b[43mNsideresol\u001b[49m\u001b[43m,\u001b[49m\u001b[43m \u001b[49m\u001b[43msave\u001b[49m\u001b[38;5;241;43m=\u001b[39;49m\u001b[43msave_tilewise\u001b[49m\u001b[43m,\u001b[49m\u001b[43m \u001b[49m\u001b[43msavdirname\u001b[49m\u001b[38;5;241;43m=\u001b[39;49m\u001b[43mtmpdir\u001b[49m\u001b[43m,\u001b[49m\u001b[43m \u001b[49m\u001b[43mpresaved\u001b[49m\u001b[38;5;241;43m=\u001b[39;49m\u001b[43m \u001b[49m\u001b[43mstars_presaved\u001b[49m\u001b[43m,\u001b[49m\u001b[43m \u001b[49m\u001b[43mreturn_vec\u001b[49m\u001b[38;5;241;43m=\u001b[39;49m\u001b[38;5;28;43;01mTrue\u001b[39;49;00m\u001b[43m)\u001b[49m \u001b[38;5;66;03m#edited\u001b[39;00m\n\u001b[1;32m    202\u001b[0m     smallpix \u001b[38;5;241m=\u001b[39m hp\u001b[38;5;241m.\u001b[39mpixelfunc\u001b[38;5;241m.\u001b[39mvec2pix(Nsideresol, coordvec[:, \u001b[38;5;241m0\u001b[39m], coordvec[:, \u001b[38;5;241m1\u001b[39m], coordvec[:, \u001b[38;5;241m2\u001b[39m])\n\u001b[1;32m    203\u001b[0m     reconmap[smallpix] \u001b[38;5;241m=\u001b[39m recon\n",
      "File \u001b[0;32m/n/holylfs05/LABS/finkbeiner_lab/Everyone/highlat/notebooks_main1/../methods_code_Nresol/do_recon_tilewise.py:133\u001b[0m, in \u001b[0;36mget_recon_for_tile\u001b[0;34m(tile, Nsidetile, radius_deg_extra, recon_func, recon_kwargs, cuts_list, Nsideresol, save, savdirname, return_vec, presaved)\u001b[0m\n\u001b[1;32m    132\u001b[0m \u001b[38;5;28;01mdef\u001b[39;00m \u001b[38;5;21mget_recon_for_tile\u001b[39m(tile, Nsidetile, radius_deg_extra, recon_func, recon_kwargs, cuts_list, Nsideresol, save\u001b[38;5;241m=\u001b[39m\u001b[38;5;28;01mTrue\u001b[39;00m, savdirname\u001b[38;5;241m=\u001b[39m\u001b[38;5;28;01mNone\u001b[39;00m, return_vec\u001b[38;5;241m=\u001b[39m\u001b[38;5;28;01mFalse\u001b[39;00m, presaved\u001b[38;5;241m=\u001b[39m\u001b[38;5;124m'\u001b[39m\u001b[38;5;124m/n/holylfs05/LABS/finkbeiner_lab/Everyone/highlat/data/lsdraw/stars/\u001b[39m\u001b[38;5;132;01m{}\u001b[39;00m\u001b[38;5;124m.fits\u001b[39m\u001b[38;5;124m'\u001b[39m):\n\u001b[0;32m--> 133\u001b[0m     stars, region \u001b[38;5;241m=\u001b[39m \u001b[43mget_data_for_tile\u001b[49m\u001b[43m(\u001b[49m\u001b[43mtile\u001b[49m\u001b[43m,\u001b[49m\u001b[43m \u001b[49m\u001b[43mNsidetile\u001b[49m\u001b[43m,\u001b[49m\u001b[43m \u001b[49m\u001b[43mradius_deg_extra\u001b[49m\u001b[43m,\u001b[49m\u001b[43m \u001b[49m\u001b[43mcuts_list\u001b[49m\u001b[43m,\u001b[49m\u001b[43m \u001b[49m\u001b[43mNsideresol\u001b[49m\u001b[43m,\u001b[49m\u001b[43m \u001b[49m\u001b[43mpresaved\u001b[49m\u001b[38;5;241;43m=\u001b[39;49m\u001b[43mpresaved\u001b[49m\u001b[43m)\u001b[49m\n\u001b[1;32m    134\u001b[0m     sigma_ref \u001b[38;5;241m=\u001b[39m set_sigma_ref(stars[:, \u001b[38;5;241m-\u001b[39m\u001b[38;5;241m1\u001b[39m])\n\u001b[1;32m    135\u001b[0m     \u001b[38;5;66;03m#setting sigma ref on the basis of the cleaned, relevant star sample for the entire Nsidetile pixel\u001b[39;00m\n",
      "File \u001b[0;32m/n/holylfs05/LABS/finkbeiner_lab/Everyone/highlat/notebooks_main1/../methods_code_Nresol/do_recon_tilewise.py:125\u001b[0m, in \u001b[0;36mget_data_for_tile\u001b[0;34m(tile, Nsidetile, radius_deg_extra, cuts_list, Nsideresol, presaved)\u001b[0m\n\u001b[1;32m    123\u001b[0m startile \u001b[38;5;241m=\u001b[39m get_largepix_for_smallpix(tile, Nsidetile, \u001b[38;5;241m16\u001b[39m) \u001b[38;5;66;03m#get corresponding LSD presaved file\u001b[39;00m\n\u001b[1;32m    124\u001b[0m starfile \u001b[38;5;241m=\u001b[39m presaved\u001b[38;5;241m.\u001b[39mformat(startile)\n\u001b[0;32m--> 125\u001b[0m stars \u001b[38;5;241m=\u001b[39m \u001b[43mcuts_wrapper\u001b[49m\u001b[43m(\u001b[49m\u001b[43mstarfile\u001b[49m\u001b[43m,\u001b[49m\u001b[43m \u001b[49m\u001b[43mnsidetile\u001b[49m\u001b[38;5;241;43m=\u001b[39;49m\u001b[43mNsidetile\u001b[49m\u001b[43m,\u001b[49m\u001b[43m \u001b[49m\u001b[43mtile\u001b[49m\u001b[43m \u001b[49m\u001b[38;5;241;43m=\u001b[39;49m\u001b[43m \u001b[49m\u001b[43mtile\u001b[49m\u001b[43m,\u001b[49m\u001b[43m \u001b[49m\u001b[43mradius_deg_extra\u001b[49m\u001b[38;5;241;43m=\u001b[39;49m\u001b[43mradius_deg_extra\u001b[49m\u001b[43m,\u001b[49m\u001b[43m \u001b[49m\u001b[43mcuts_list\u001b[49m\u001b[38;5;241;43m=\u001b[39;49m\u001b[43mcuts_list\u001b[49m\u001b[43m,\u001b[49m\u001b[43m \u001b[49m\u001b[43mcoordstype\u001b[49m\u001b[38;5;241;43m=\u001b[39;49m\u001b[38;5;124;43m'\u001b[39;49m\u001b[38;5;124;43mUnitVector\u001b[39;49m\u001b[38;5;124;43m'\u001b[39;49m\u001b[43m,\u001b[49m\u001b[43m \u001b[49m\u001b[43mreturn_mask\u001b[49m\u001b[38;5;241;43m=\u001b[39;49m\u001b[38;5;28;43;01mFalse\u001b[39;49;00m\u001b[43m)\u001b[49m \u001b[38;5;66;03m#basically stuff that acts on a single star file\u001b[39;00m\n\u001b[1;32m    126\u001b[0m \u001b[38;5;28mprint\u001b[39m(\u001b[38;5;124m'\u001b[39m\u001b[38;5;124mTile \u001b[39m\u001b[38;5;132;01m{}\u001b[39;00m\u001b[38;5;124m, NumPixels=\u001b[39m\u001b[38;5;132;01m{}\u001b[39;00m\u001b[38;5;124m, NumStars=\u001b[39m\u001b[38;5;132;01m{}\u001b[39;00m\u001b[38;5;124m, Star/Pix ratio = \u001b[39m\u001b[38;5;132;01m{}\u001b[39;00m\u001b[38;5;124m'\u001b[39m\u001b[38;5;241m.\u001b[39mformat(tile, region\u001b[38;5;241m.\u001b[39mshape[\u001b[38;5;241m0\u001b[39m], stars\u001b[38;5;241m.\u001b[39mshape[\u001b[38;5;241m0\u001b[39m], stars\u001b[38;5;241m.\u001b[39mshape[\u001b[38;5;241m0\u001b[39m]\u001b[38;5;241m/\u001b[39mregion\u001b[38;5;241m.\u001b[39mshape[\u001b[38;5;241m0\u001b[39m]), flush\u001b[38;5;241m=\u001b[39m\u001b[38;5;28;01mTrue\u001b[39;00m)\n\u001b[1;32m    127\u001b[0m sys\u001b[38;5;241m.\u001b[39mstdout\u001b[38;5;241m.\u001b[39mflush()\n",
      "File \u001b[0;32m/n/holylfs05/LABS/finkbeiner_lab/Everyone/highlat/notebooks_main1/../methods_code_Nresol/do_recon_tilewise.py:66\u001b[0m, in \u001b[0;36mcuts_wrapper\u001b[0;34m(starfile, nsidetile, tile, radius_deg_extra, cuts_list, coordstype, return_mask)\u001b[0m\n\u001b[1;32m     65\u001b[0m \u001b[38;5;28;01mdef\u001b[39;00m \u001b[38;5;21mcuts_wrapper\u001b[39m(starfile, nsidetile, tile, radius_deg_extra, cuts_list, coordstype\u001b[38;5;241m=\u001b[39m\u001b[38;5;124m'\u001b[39m\u001b[38;5;124mUnitVector\u001b[39m\u001b[38;5;124m'\u001b[39m, return_mask\u001b[38;5;241m=\u001b[39m\u001b[38;5;28;01mFalse\u001b[39;00m):\n\u001b[0;32m---> 66\u001b[0m     df \u001b[38;5;241m=\u001b[39m \u001b[43mconvert_to_dataframe\u001b[49m\u001b[43m(\u001b[49m\u001b[43mstarfile\u001b[49m\u001b[43m)\u001b[49m\n\u001b[1;32m     68\u001b[0m     \u001b[38;5;66;03m# tile region cut: select stars relevant to the region you're looking at\u001b[39;00m\n\u001b[1;32m     69\u001b[0m     \u001b[38;5;66;03m#All stars within a radius of <max distance from Nsidetile pixel center to edge of Nsidetile pixel + radius_deg_extra> are selected\u001b[39;00m\n\u001b[1;32m     71\u001b[0m     pixcenvec \u001b[38;5;241m=\u001b[39m np\u001b[38;5;241m.\u001b[39marray(hp\u001b[38;5;241m.\u001b[39mpixelfunc\u001b[38;5;241m.\u001b[39mpix2vec(nsidetile, tile))\n",
      "File \u001b[0;32m/n/holylfs05/LABS/finkbeiner_lab/Everyone/highlat/notebooks_main1/../methods_code_Nresol/do_recon_tilewise.py:28\u001b[0m, in \u001b[0;36mconvert_to_dataframe\u001b[0;34m(starfile)\u001b[0m\n\u001b[1;32m     26\u001b[0m dat \u001b[38;5;241m=\u001b[39m Table\u001b[38;5;241m.\u001b[39mread(starfile, \u001b[38;5;28mformat\u001b[39m\u001b[38;5;241m=\u001b[39m\u001b[38;5;124m'\u001b[39m\u001b[38;5;124mfits\u001b[39m\u001b[38;5;124m'\u001b[39m)  \u001b[38;5;66;03m# for superchunk\u001b[39;00m\n\u001b[1;32m     27\u001b[0m names \u001b[38;5;241m=\u001b[39m [name \u001b[38;5;28;01mfor\u001b[39;00m name \u001b[38;5;129;01min\u001b[39;00m dat\u001b[38;5;241m.\u001b[39mcolnames \u001b[38;5;28;01mif\u001b[39;00m \u001b[38;5;28mlen\u001b[39m(dat[name]\u001b[38;5;241m.\u001b[39mshape) \u001b[38;5;241m<\u001b[39m\u001b[38;5;241m=\u001b[39m \u001b[38;5;241m1\u001b[39m]\n\u001b[0;32m---> 28\u001b[0m df \u001b[38;5;241m=\u001b[39m \u001b[43mdat\u001b[49m\u001b[43m[\u001b[49m\u001b[43mnames\u001b[49m\u001b[43m]\u001b[49m\u001b[38;5;241m.\u001b[39mto_pandas()\n\u001b[1;32m     29\u001b[0m df[\u001b[38;5;124m'\u001b[39m\u001b[38;5;124mdm_median\u001b[39m\u001b[38;5;124m'\u001b[39m] \u001b[38;5;241m=\u001b[39m dat[\u001b[38;5;124m'\u001b[39m\u001b[38;5;124mpercentiles_dm\u001b[39m\u001b[38;5;124m'\u001b[39m][:, \u001b[38;5;241m1\u001b[39m]\n\u001b[1;32m     30\u001b[0m df[\u001b[38;5;124m'\u001b[39m\u001b[38;5;124mE_median\u001b[39m\u001b[38;5;124m'\u001b[39m] \u001b[38;5;241m=\u001b[39m dat[\u001b[38;5;124m'\u001b[39m\u001b[38;5;124mpercentiles_E\u001b[39m\u001b[38;5;124m'\u001b[39m][:, \u001b[38;5;241m1\u001b[39m]\n",
      "File \u001b[0;32m~/.conda/envs/pytorch_env2/lib/python3.8/site-packages/astropy/table/table.py:1660\u001b[0m, in \u001b[0;36mTable.__getitem__\u001b[0;34m(self, item)\u001b[0m\n\u001b[1;32m   1658\u001b[0m     \u001b[38;5;28;01mreturn\u001b[39;00m \u001b[38;5;28mself\u001b[39m\u001b[38;5;241m.\u001b[39mRow(\u001b[38;5;28mself\u001b[39m, item\u001b[38;5;241m.\u001b[39mitem())\n\u001b[1;32m   1659\u001b[0m \u001b[38;5;28;01melif\u001b[39;00m \u001b[38;5;28mself\u001b[39m\u001b[38;5;241m.\u001b[39m_is_list_or_tuple_of_str(item):\n\u001b[0;32m-> 1660\u001b[0m     out \u001b[38;5;241m=\u001b[39m \u001b[38;5;28;43mself\u001b[39;49m\u001b[38;5;241;43m.\u001b[39;49m\u001b[38;5;18;43m__class__\u001b[39;49m\u001b[43m(\u001b[49m\u001b[43m[\u001b[49m\u001b[38;5;28;43mself\u001b[39;49m\u001b[43m[\u001b[49m\u001b[43mx\u001b[49m\u001b[43m]\u001b[49m\u001b[43m \u001b[49m\u001b[38;5;28;43;01mfor\u001b[39;49;00m\u001b[43m \u001b[49m\u001b[43mx\u001b[49m\u001b[43m \u001b[49m\u001b[38;5;129;43;01min\u001b[39;49;00m\u001b[43m \u001b[49m\u001b[43mitem\u001b[49m\u001b[43m]\u001b[49m\u001b[43m,\u001b[49m\n\u001b[1;32m   1661\u001b[0m \u001b[43m                         \u001b[49m\u001b[43mcopy_indices\u001b[49m\u001b[38;5;241;43m=\u001b[39;49m\u001b[38;5;28;43mself\u001b[39;49m\u001b[38;5;241;43m.\u001b[39;49m\u001b[43m_copy_indices\u001b[49m\u001b[43m)\u001b[49m\n\u001b[1;32m   1662\u001b[0m     out\u001b[38;5;241m.\u001b[39m_groups \u001b[38;5;241m=\u001b[39m groups\u001b[38;5;241m.\u001b[39mTableGroups(out, indices\u001b[38;5;241m=\u001b[39m\u001b[38;5;28mself\u001b[39m\u001b[38;5;241m.\u001b[39mgroups\u001b[38;5;241m.\u001b[39m_indices,\n\u001b[1;32m   1663\u001b[0m                                      keys\u001b[38;5;241m=\u001b[39m\u001b[38;5;28mself\u001b[39m\u001b[38;5;241m.\u001b[39mgroups\u001b[38;5;241m.\u001b[39m_keys)\n\u001b[1;32m   1664\u001b[0m     out\u001b[38;5;241m.\u001b[39mmeta \u001b[38;5;241m=\u001b[39m \u001b[38;5;28mself\u001b[39m\u001b[38;5;241m.\u001b[39mmeta\u001b[38;5;241m.\u001b[39mcopy()  \u001b[38;5;66;03m# Shallow copy for meta\u001b[39;00m\n",
      "File \u001b[0;32m~/.conda/envs/pytorch_env2/lib/python3.8/site-packages/astropy/table/table.py:626\u001b[0m, in \u001b[0;36mTable.__init__\u001b[0;34m(self, data, masked, names, dtype, meta, copy, rows, copy_indices, units, descriptions, **kwargs)\u001b[0m\n\u001b[1;32m    623\u001b[0m \u001b[38;5;28mself\u001b[39m\u001b[38;5;241m.\u001b[39m_check_names_dtype(names, dtype, n_cols)\n\u001b[1;32m    625\u001b[0m \u001b[38;5;66;03m# Finally do the real initialization\u001b[39;00m\n\u001b[0;32m--> 626\u001b[0m \u001b[43minit_func\u001b[49m\u001b[43m(\u001b[49m\u001b[43mdata\u001b[49m\u001b[43m,\u001b[49m\u001b[43m \u001b[49m\u001b[43mnames\u001b[49m\u001b[43m,\u001b[49m\u001b[43m \u001b[49m\u001b[43mdtype\u001b[49m\u001b[43m,\u001b[49m\u001b[43m \u001b[49m\u001b[43mn_cols\u001b[49m\u001b[43m,\u001b[49m\u001b[43m \u001b[49m\u001b[43mcopy\u001b[49m\u001b[43m)\u001b[49m\n\u001b[1;32m    628\u001b[0m \u001b[38;5;66;03m# Set table meta.  If copy=True then deepcopy meta otherwise use the\u001b[39;00m\n\u001b[1;32m    629\u001b[0m \u001b[38;5;66;03m# user-supplied meta directly.\u001b[39;00m\n\u001b[1;32m    630\u001b[0m \u001b[38;5;28;01mif\u001b[39;00m meta \u001b[38;5;129;01mis\u001b[39;00m \u001b[38;5;129;01mnot\u001b[39;00m \u001b[38;5;28;01mNone\u001b[39;00m:\n",
      "File \u001b[0;32m~/.conda/envs/pytorch_env2/lib/python3.8/site-packages/astropy/table/table.py:963\u001b[0m, in \u001b[0;36mTable._init_from_list\u001b[0;34m(self, data, names, dtype, n_cols, copy)\u001b[0m\n\u001b[1;32m    960\u001b[0m default_names \u001b[38;5;241m=\u001b[39m _auto_names(n_cols)\n\u001b[1;32m    962\u001b[0m \u001b[38;5;28;01mfor\u001b[39;00m col, name, default_name, dtype \u001b[38;5;129;01min\u001b[39;00m \u001b[38;5;28mzip\u001b[39m(data, names, default_names, dtype):\n\u001b[0;32m--> 963\u001b[0m     col \u001b[38;5;241m=\u001b[39m \u001b[38;5;28;43mself\u001b[39;49m\u001b[38;5;241;43m.\u001b[39;49m\u001b[43m_convert_data_to_col\u001b[49m\u001b[43m(\u001b[49m\u001b[43mcol\u001b[49m\u001b[43m,\u001b[49m\u001b[43m \u001b[49m\u001b[43mcopy\u001b[49m\u001b[43m,\u001b[49m\u001b[43m \u001b[49m\u001b[43mdefault_name\u001b[49m\u001b[43m,\u001b[49m\u001b[43m \u001b[49m\u001b[43mdtype\u001b[49m\u001b[43m,\u001b[49m\u001b[43m \u001b[49m\u001b[43mname\u001b[49m\u001b[43m)\u001b[49m\n\u001b[1;32m    965\u001b[0m     cols\u001b[38;5;241m.\u001b[39mappend(col)\n\u001b[1;32m    967\u001b[0m \u001b[38;5;28mself\u001b[39m\u001b[38;5;241m.\u001b[39m_init_from_cols(cols)\n",
      "File \u001b[0;32m~/.conda/envs/pytorch_env2/lib/python3.8/site-packages/astropy/table/table.py:1091\u001b[0m, in \u001b[0;36mTable._convert_data_to_col\u001b[0;34m(self, data, copy, default_name, dtype, name)\u001b[0m\n\u001b[1;32m   1088\u001b[0m     col_cls \u001b[38;5;241m=\u001b[39m \u001b[38;5;28mself\u001b[39m\u001b[38;5;241m.\u001b[39mColumnClass\n\u001b[1;32m   1090\u001b[0m \u001b[38;5;28;01mtry\u001b[39;00m:\n\u001b[0;32m-> 1091\u001b[0m     col \u001b[38;5;241m=\u001b[39m \u001b[43mcol_cls\u001b[49m\u001b[43m(\u001b[49m\u001b[43mname\u001b[49m\u001b[38;5;241;43m=\u001b[39;49m\u001b[43mname\u001b[49m\u001b[43m,\u001b[49m\u001b[43m \u001b[49m\u001b[43mdata\u001b[49m\u001b[38;5;241;43m=\u001b[39;49m\u001b[43mdata\u001b[49m\u001b[43m,\u001b[49m\u001b[43m \u001b[49m\u001b[43mdtype\u001b[49m\u001b[38;5;241;43m=\u001b[39;49m\u001b[43mdtype\u001b[49m\u001b[43m,\u001b[49m\n\u001b[1;32m   1092\u001b[0m \u001b[43m                  \u001b[49m\u001b[43mcopy\u001b[49m\u001b[38;5;241;43m=\u001b[39;49m\u001b[43mcopy\u001b[49m\u001b[43m,\u001b[49m\u001b[43m \u001b[49m\u001b[43mcopy_indices\u001b[49m\u001b[38;5;241;43m=\u001b[39;49m\u001b[38;5;28;43mself\u001b[39;49m\u001b[38;5;241;43m.\u001b[39;49m\u001b[43m_init_indices\u001b[49m\u001b[43m)\u001b[49m\n\u001b[1;32m   1093\u001b[0m \u001b[38;5;28;01mexcept\u001b[39;00m \u001b[38;5;167;01mException\u001b[39;00m:\n\u001b[1;32m   1094\u001b[0m     \u001b[38;5;66;03m# Broad exception class since we don't know what might go wrong\u001b[39;00m\n\u001b[1;32m   1095\u001b[0m     \u001b[38;5;28;01mraise\u001b[39;00m \u001b[38;5;167;01mValueError\u001b[39;00m(\u001b[38;5;124m'\u001b[39m\u001b[38;5;124munable to convert data to Column for Table\u001b[39m\u001b[38;5;124m'\u001b[39m)\n",
      "File \u001b[0;32m~/.conda/envs/pytorch_env2/lib/python3.8/site-packages/astropy/table/column.py:1020\u001b[0m, in \u001b[0;36mColumn.__new__\u001b[0;34m(cls, data, name, dtype, shape, length, description, unit, format, meta, copy, copy_indices)\u001b[0m\n\u001b[1;32m   1017\u001b[0m \u001b[38;5;28;01mif\u001b[39;00m \u001b[38;5;28misinstance\u001b[39m(data, MaskedColumn) \u001b[38;5;129;01mand\u001b[39;00m np\u001b[38;5;241m.\u001b[39many(data\u001b[38;5;241m.\u001b[39mmask):\n\u001b[1;32m   1018\u001b[0m     \u001b[38;5;28;01mraise\u001b[39;00m \u001b[38;5;167;01mTypeError\u001b[39;00m(\u001b[38;5;124m\"\u001b[39m\u001b[38;5;124mCannot convert a MaskedColumn with masked value to a Column\u001b[39m\u001b[38;5;124m\"\u001b[39m)\n\u001b[0;32m-> 1020\u001b[0m \u001b[38;5;28mself\u001b[39m \u001b[38;5;241m=\u001b[39m \u001b[38;5;28;43msuper\u001b[39;49m\u001b[43m(\u001b[49m\u001b[43m)\u001b[49m\u001b[38;5;241;43m.\u001b[39;49m\u001b[38;5;21;43m__new__\u001b[39;49m\u001b[43m(\u001b[49m\n\u001b[1;32m   1021\u001b[0m \u001b[43m    \u001b[49m\u001b[38;5;28;43mcls\u001b[39;49m\u001b[43m,\u001b[49m\u001b[43m \u001b[49m\u001b[43mdata\u001b[49m\u001b[38;5;241;43m=\u001b[39;49m\u001b[43mdata\u001b[49m\u001b[43m,\u001b[49m\u001b[43m \u001b[49m\u001b[43mname\u001b[49m\u001b[38;5;241;43m=\u001b[39;49m\u001b[43mname\u001b[49m\u001b[43m,\u001b[49m\u001b[43m \u001b[49m\u001b[43mdtype\u001b[49m\u001b[38;5;241;43m=\u001b[39;49m\u001b[43mdtype\u001b[49m\u001b[43m,\u001b[49m\u001b[43m \u001b[49m\u001b[43mshape\u001b[49m\u001b[38;5;241;43m=\u001b[39;49m\u001b[43mshape\u001b[49m\u001b[43m,\u001b[49m\u001b[43m \u001b[49m\u001b[43mlength\u001b[49m\u001b[38;5;241;43m=\u001b[39;49m\u001b[43mlength\u001b[49m\u001b[43m,\u001b[49m\n\u001b[1;32m   1022\u001b[0m \u001b[43m    \u001b[49m\u001b[43mdescription\u001b[49m\u001b[38;5;241;43m=\u001b[39;49m\u001b[43mdescription\u001b[49m\u001b[43m,\u001b[49m\u001b[43m \u001b[49m\u001b[43munit\u001b[49m\u001b[38;5;241;43m=\u001b[39;49m\u001b[43munit\u001b[49m\u001b[43m,\u001b[49m\u001b[43m \u001b[49m\u001b[38;5;28;43mformat\u001b[39;49m\u001b[38;5;241;43m=\u001b[39;49m\u001b[38;5;28;43mformat\u001b[39;49m\u001b[43m,\u001b[49m\u001b[43m \u001b[49m\u001b[43mmeta\u001b[49m\u001b[38;5;241;43m=\u001b[39;49m\u001b[43mmeta\u001b[49m\u001b[43m,\u001b[49m\n\u001b[1;32m   1023\u001b[0m \u001b[43m    \u001b[49m\u001b[43mcopy\u001b[49m\u001b[38;5;241;43m=\u001b[39;49m\u001b[43mcopy\u001b[49m\u001b[43m,\u001b[49m\u001b[43m \u001b[49m\u001b[43mcopy_indices\u001b[49m\u001b[38;5;241;43m=\u001b[39;49m\u001b[43mcopy_indices\u001b[49m\u001b[43m)\u001b[49m\n\u001b[1;32m   1024\u001b[0m \u001b[38;5;28;01mreturn\u001b[39;00m \u001b[38;5;28mself\u001b[39m\n",
      "File \u001b[0;32m~/.conda/envs/pytorch_env2/lib/python3.8/site-packages/astropy/table/column.py:370\u001b[0m, in \u001b[0;36mBaseColumn.__new__\u001b[0;34m(cls, data, name, dtype, shape, length, description, unit, format, meta, copy, copy_indices)\u001b[0m\n\u001b[1;32m    364\u001b[0m     self_data \u001b[38;5;241m=\u001b[39m np\u001b[38;5;241m.\u001b[39mzeros((length,)\u001b[38;5;241m+\u001b[39mshape, dtype\u001b[38;5;241m=\u001b[39mdtype)\n\u001b[1;32m    365\u001b[0m \u001b[38;5;28;01melif\u001b[39;00m \u001b[38;5;28misinstance\u001b[39m(data, BaseColumn) \u001b[38;5;129;01mand\u001b[39;00m \u001b[38;5;28mhasattr\u001b[39m(data, \u001b[38;5;124m'\u001b[39m\u001b[38;5;124m_name\u001b[39m\u001b[38;5;124m'\u001b[39m):\n\u001b[1;32m    366\u001b[0m     \u001b[38;5;66;03m# When unpickling a MaskedColumn, ``data`` will be a bare\u001b[39;00m\n\u001b[1;32m    367\u001b[0m     \u001b[38;5;66;03m# BaseColumn with none of the expected attributes.  In this case\u001b[39;00m\n\u001b[1;32m    368\u001b[0m     \u001b[38;5;66;03m# do NOT execute this block which initializes from ``data``\u001b[39;00m\n\u001b[1;32m    369\u001b[0m     \u001b[38;5;66;03m# attributes.\u001b[39;00m\n\u001b[0;32m--> 370\u001b[0m     self_data \u001b[38;5;241m=\u001b[39m \u001b[43mnp\u001b[49m\u001b[38;5;241;43m.\u001b[39;49m\u001b[43marray\u001b[49m\u001b[43m(\u001b[49m\u001b[43mdata\u001b[49m\u001b[38;5;241;43m.\u001b[39;49m\u001b[43mdata\u001b[49m\u001b[43m,\u001b[49m\u001b[43m \u001b[49m\u001b[43mdtype\u001b[49m\u001b[38;5;241;43m=\u001b[39;49m\u001b[43mdtype\u001b[49m\u001b[43m,\u001b[49m\u001b[43m \u001b[49m\u001b[43mcopy\u001b[49m\u001b[38;5;241;43m=\u001b[39;49m\u001b[43mcopy\u001b[49m\u001b[43m)\u001b[49m\n\u001b[1;32m    371\u001b[0m     \u001b[38;5;28;01mif\u001b[39;00m description \u001b[38;5;129;01mis\u001b[39;00m \u001b[38;5;28;01mNone\u001b[39;00m:\n\u001b[1;32m    372\u001b[0m         description \u001b[38;5;241m=\u001b[39m data\u001b[38;5;241m.\u001b[39mdescription\n",
      "\u001b[0;31mKeyboardInterrupt\u001b[0m: "
     ]
    }
   ],
   "source": [
    "looptilewise(missing_coords, recon_func_name, cuts_list, kwargs_dict, runname, save_tilewise=True, compile_pickle=False)"
   ]
  },
  {
   "cell_type": "code",
   "execution_count": 54,
   "id": "40c59120",
   "metadata": {},
   "outputs": [
    {
     "name": "stdout",
     "output_type": "stream",
     "text": [
      "618\n"
     ]
    },
    {
     "data": {
      "text/plain": [
       "True"
      ]
     },
     "execution_count": 54,
     "metadata": {},
     "output_type": "execute_result"
    }
   ],
   "source": [
    "missing_tiles = []\n",
    "for tile in numtiles:\n",
    "    if not os.path.exists(runname+'_tmpdir/recon_{}.hdf5'.format(tile)):\n",
    "        missing_tiles.append(tile)\n",
    "print(len(missing_tiles))\n",
    "missing_coords = []\n",
    "for t32 in missing_tiles:\n",
    "    missing_coords.append(get_smallpix_in_tilepix(outer_kwargs['Nsidetile'], t32, 2048))\n",
    "missing_coords = np.hstack(missing_coords)\n",
    "np.all(np.unique(get_largepix_for_smallpix(missing_coords, 2048, outer_kwargs['Nsidetile'])) == missing_tiles)"
   ]
  },
  {
   "cell_type": "code",
   "execution_count": 55,
   "id": "4844fd1f",
   "metadata": {},
   "outputs": [
    {
     "ename": "MemoryError",
     "evalue": "Unable to allocate 9.24 GiB for an array with shape (1024, 1211065) and data type float64",
     "output_type": "error",
     "traceback": [
      "\u001b[0;31m---------------------------------------------------------------------------\u001b[0m",
      "\u001b[0;31mMemoryError\u001b[0m                               Traceback (most recent call last)",
      "Input \u001b[0;32mIn [55]\u001b[0m, in \u001b[0;36m<module>\u001b[0;34m\u001b[0m\n\u001b[0;32m----> 1\u001b[0m \u001b[43mlooptilewise\u001b[49m\u001b[43m(\u001b[49m\u001b[43mmissing_coords\u001b[49m\u001b[43m,\u001b[49m\u001b[43m \u001b[49m\u001b[43mrecon_func_name\u001b[49m\u001b[43m,\u001b[49m\u001b[43m \u001b[49m\u001b[43mcuts_list\u001b[49m\u001b[43m,\u001b[49m\u001b[43m \u001b[49m\u001b[43mkwargs_dict\u001b[49m\u001b[43m,\u001b[49m\u001b[43m \u001b[49m\u001b[43mrunname\u001b[49m\u001b[43m,\u001b[49m\u001b[43m \u001b[49m\u001b[43msave_tilewise\u001b[49m\u001b[38;5;241;43m=\u001b[39;49m\u001b[38;5;28;43;01mTrue\u001b[39;49;00m\u001b[43m,\u001b[49m\u001b[43m \u001b[49m\u001b[43mcompile_pickle\u001b[49m\u001b[38;5;241;43m=\u001b[39;49m\u001b[38;5;28;43;01mFalse\u001b[39;49;00m\u001b[43m)\u001b[49m\n",
      "File \u001b[0;32m/n/holylfs05/LABS/finkbeiner_lab/Everyone/highlat/notebooks_main1/../methods_code_Nresol/methods2.py:201\u001b[0m, in \u001b[0;36mlooptilewise\u001b[0;34m(coords, recon_func_name, cuts_list, kwargs_dict, runname, save_tilewise, compile_pickle)\u001b[0m\n\u001b[1;32m    198\u001b[0m     stars_presaved \u001b[38;5;241m=\u001b[39m \u001b[38;5;124m'\u001b[39m\u001b[38;5;124m/n/holylfs05/LABS/finkbeiner_lab/Everyone/highlat/data/lsdraw/stars/\u001b[39m\u001b[38;5;132;01m{}\u001b[39;00m\u001b[38;5;124m.fits\u001b[39m\u001b[38;5;124m'\u001b[39m\n\u001b[1;32m    200\u001b[0m \u001b[38;5;28;01mfor\u001b[39;00m tile \u001b[38;5;129;01min\u001b[39;00m tiles:\n\u001b[0;32m--> 201\u001b[0m     recon, variance, coordvec \u001b[38;5;241m=\u001b[39m \u001b[43mget_recon_for_tile\u001b[49m\u001b[43m(\u001b[49m\u001b[43mtile\u001b[49m\u001b[43m,\u001b[49m\u001b[43m \u001b[49m\u001b[43mNsidetile\u001b[49m\u001b[43m,\u001b[49m\u001b[43m \u001b[49m\u001b[43mradius_deg_extra\u001b[49m\u001b[43m,\u001b[49m\u001b[43m \u001b[49m\u001b[38;5;28;43mgetattr\u001b[39;49m\u001b[43m(\u001b[49m\u001b[43mmethods_cluster\u001b[49m\u001b[43m,\u001b[49m\u001b[43m \u001b[49m\u001b[43mrecon_func_name\u001b[49m\u001b[43m)\u001b[49m\u001b[43m,\u001b[49m\u001b[43m \u001b[49m\u001b[43mkwargs_dict\u001b[49m\u001b[43m[\u001b[49m\u001b[38;5;124;43m'\u001b[39;49m\u001b[38;5;124;43mrecon_kwargs\u001b[39;49m\u001b[38;5;124;43m'\u001b[39;49m\u001b[43m]\u001b[49m\u001b[43m,\u001b[49m\u001b[43m \u001b[49m\u001b[43mcuts_list\u001b[49m\u001b[43m,\u001b[49m\u001b[43m \u001b[49m\u001b[43mNsideresol\u001b[49m\u001b[43m,\u001b[49m\u001b[43m \u001b[49m\u001b[43msave\u001b[49m\u001b[38;5;241;43m=\u001b[39;49m\u001b[43msave_tilewise\u001b[49m\u001b[43m,\u001b[49m\u001b[43m \u001b[49m\u001b[43msavdirname\u001b[49m\u001b[38;5;241;43m=\u001b[39;49m\u001b[43mtmpdir\u001b[49m\u001b[43m,\u001b[49m\u001b[43m \u001b[49m\u001b[43mpresaved\u001b[49m\u001b[38;5;241;43m=\u001b[39;49m\u001b[43m \u001b[49m\u001b[43mstars_presaved\u001b[49m\u001b[43m,\u001b[49m\u001b[43m \u001b[49m\u001b[43mreturn_vec\u001b[49m\u001b[38;5;241;43m=\u001b[39;49m\u001b[38;5;28;43;01mTrue\u001b[39;49;00m\u001b[43m)\u001b[49m \u001b[38;5;66;03m#edited\u001b[39;00m\n\u001b[1;32m    202\u001b[0m     smallpix \u001b[38;5;241m=\u001b[39m hp\u001b[38;5;241m.\u001b[39mpixelfunc\u001b[38;5;241m.\u001b[39mvec2pix(Nsideresol, coordvec[:, \u001b[38;5;241m0\u001b[39m], coordvec[:, \u001b[38;5;241m1\u001b[39m], coordvec[:, \u001b[38;5;241m2\u001b[39m])\n\u001b[1;32m    203\u001b[0m     reconmap[smallpix] \u001b[38;5;241m=\u001b[39m recon\n",
      "File \u001b[0;32m/n/holylfs05/LABS/finkbeiner_lab/Everyone/highlat/notebooks_main1/../methods_code_Nresol/do_recon_tilewise.py:136\u001b[0m, in \u001b[0;36mget_recon_for_tile\u001b[0;34m(tile, Nsidetile, radius_deg_extra, recon_func, recon_kwargs, cuts_list, Nsideresol, save, savdirname, return_vec, presaved)\u001b[0m\n\u001b[1;32m    134\u001b[0m sigma_ref \u001b[38;5;241m=\u001b[39m set_sigma_ref(stars[:, \u001b[38;5;241m-\u001b[39m\u001b[38;5;241m1\u001b[39m])\n\u001b[1;32m    135\u001b[0m \u001b[38;5;66;03m#setting sigma ref on the basis of the cleaned, relevant star sample for the entire Nsidetile pixel\u001b[39;00m\n\u001b[0;32m--> 136\u001b[0m recon, var \u001b[38;5;241m=\u001b[39m \u001b[43mrecon_func\u001b[49m\u001b[43m(\u001b[49m\u001b[43mstars\u001b[49m\u001b[43m,\u001b[49m\u001b[43m \u001b[49m\u001b[43mregion\u001b[49m\u001b[43m,\u001b[49m\u001b[43m \u001b[49m\u001b[43msigref\u001b[49m\u001b[43m \u001b[49m\u001b[38;5;241;43m=\u001b[39;49m\u001b[43m \u001b[49m\u001b[43msigma_ref\u001b[49m\u001b[43m,\u001b[49m\u001b[43m \u001b[49m\u001b[38;5;241;43m*\u001b[39;49m\u001b[38;5;241;43m*\u001b[39;49m\u001b[43mrecon_kwargs\u001b[49m\u001b[43m)\u001b[49m\n\u001b[1;32m    137\u001b[0m \u001b[38;5;28;01mif\u001b[39;00m save:\n\u001b[1;32m    138\u001b[0m     \u001b[38;5;28;01mwith\u001b[39;00m h5py\u001b[38;5;241m.\u001b[39mFile(savdirname\u001b[38;5;241m+\u001b[39m\u001b[38;5;124m\"\u001b[39m\u001b[38;5;124mrecon_\u001b[39m\u001b[38;5;124m\"\u001b[39m\u001b[38;5;241m+\u001b[39m\u001b[38;5;28mstr\u001b[39m(tile)\u001b[38;5;241m+\u001b[39m\u001b[38;5;124m\"\u001b[39m\u001b[38;5;124m.hdf5\u001b[39m\u001b[38;5;124m\"\u001b[39m, \u001b[38;5;124m\"\u001b[39m\u001b[38;5;124mw\u001b[39m\u001b[38;5;124m\"\u001b[39m) \u001b[38;5;28;01mas\u001b[39;00m f:\n",
      "File \u001b[0;32m/n/holylfs05/LABS/finkbeiner_lab/Everyone/highlat/notebooks_main1/../methods_code_Nresol/methods_cluster.py:202\u001b[0m, in \u001b[0;36mgaussiankernel_reconstruction_effective_spherical3_blocks\u001b[0;34m(stars, region, length, scale, no_invvar, sigref, numblocks, return_weights, return_numeffstars)\u001b[0m\n\u001b[1;32m    200\u001b[0m     \u001b[38;5;28mprint\u001b[39m(\u001b[38;5;124m'\u001b[39m\u001b[38;5;124mStars Contributing >1sigma/N(pixel) of the weight matrix: Min stars = \u001b[39m\u001b[38;5;132;01m{}\u001b[39;00m\u001b[38;5;124m, 16\u001b[39m\u001b[38;5;132;01m%i\u001b[39;00m\u001b[38;5;124mle = \u001b[39m\u001b[38;5;132;01m{:.1f}\u001b[39;00m\u001b[38;5;124m, median stars = \u001b[39m\u001b[38;5;132;01m{:.1f}\u001b[39;00m\u001b[38;5;124m, 84\u001b[39m\u001b[38;5;132;01m%i\u001b[39;00m\u001b[38;5;124mle = \u001b[39m\u001b[38;5;132;01m{:.1f}\u001b[39;00m\u001b[38;5;124m, max stars = \u001b[39m\u001b[38;5;132;01m{}\u001b[39;00m\u001b[38;5;124m'\u001b[39m\u001b[38;5;241m.\u001b[39mformat(np\u001b[38;5;241m.\u001b[39mmin(numeffstars), np\u001b[38;5;241m.\u001b[39mpercentile(numeffstars, \u001b[38;5;241m16\u001b[39m), np\u001b[38;5;241m.\u001b[39mmedian(numeffstars), np\u001b[38;5;241m.\u001b[39mpercentile(numeffstars, \u001b[38;5;241m84\u001b[39m), np\u001b[38;5;241m.\u001b[39mmax(numeffstars)))\n\u001b[1;32m    201\u001b[0m     recon_mean[block_indices[b]] \u001b[38;5;241m=\u001b[39m np\u001b[38;5;241m.\u001b[39mmatmul(wmat, train_y)\n\u001b[0;32m--> 202\u001b[0m     recon_var[block_indices[b]] \u001b[38;5;241m=\u001b[39m np\u001b[38;5;241m.\u001b[39mmatmul(\u001b[43mwmat\u001b[49m\u001b[43m \u001b[49m\u001b[38;5;241;43m*\u001b[39;49m\u001b[38;5;241;43m*\u001b[39;49m\u001b[43m \u001b[49m\u001b[38;5;241;43m2\u001b[39;49m, trainvar)\n\u001b[1;32m    203\u001b[0m     numeffstars_all\u001b[38;5;241m.\u001b[39mappend(numeffstars)\n\u001b[1;32m    205\u001b[0m \u001b[38;5;28;01mif\u001b[39;00m return_weights:\n",
      "\u001b[0;31mMemoryError\u001b[0m: Unable to allocate 9.24 GiB for an array with shape (1024, 1211065) and data type float64"
     ]
    }
   ],
   "source": [
    "%%capture cap\n",
    "looptilewise(missing_coords, recon_func_name, cuts_list, kwargs_dict, runname, save_tilewise=True, compile_pickle=False)"
   ]
  },
  {
   "cell_type": "code",
   "execution_count": 57,
   "id": "d320d62b",
   "metadata": {},
   "outputs": [],
   "source": [
    "with open(runname+'_tmpdir/looptilewise_run2.txt', 'w') as f:\n",
    "    f.write(cap.stdout)"
   ]
  },
  {
   "cell_type": "code",
   "execution_count": null,
   "id": "7244001e",
   "metadata": {},
   "outputs": [],
   "source": []
  }
 ],
 "metadata": {
  "kernelspec": {
   "display_name": "Python 3",
   "language": "python",
   "name": "python3"
  },
  "language_info": {
   "codemirror_mode": {
    "name": "ipython",
    "version": 3
   },
   "file_extension": ".py",
   "mimetype": "text/x-python",
   "name": "python",
   "nbconvert_exporter": "python",
   "pygments_lexer": "ipython3",
   "version": "3.8.12"
  }
 },
 "nbformat": 4,
 "nbformat_minor": 5
}
