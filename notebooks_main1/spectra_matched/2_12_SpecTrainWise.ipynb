{
 "cells": [
  {
   "cell_type": "code",
   "execution_count": 1,
   "id": "2d4518c4",
   "metadata": {},
   "outputs": [],
   "source": [
    "import numpy as np\n",
    "import pandas as pd\n",
    "import sys\n",
    "import os\n",
    "import matplotlib.pyplot as plt\n",
    "import joblib\n",
    "\n",
    "from astropy.io import fits\n",
    "from functools import reduce\n",
    "from astropy.table import Table\n",
    "\n",
    "sys.path.append('../../methods_code_Nresol/')\n",
    "sys.path.append('../../utils/')\n",
    "import astro_cuts\n",
    "import importlib\n",
    "import spec_utils"
   ]
  },
  {
   "cell_type": "code",
   "execution_count": 2,
   "id": "6e16c20f",
   "metadata": {},
   "outputs": [],
   "source": [
    "from sklearn.preprocessing import StandardScaler\n",
    "from sklearn.svm import SVC"
   ]
  },
  {
   "cell_type": "code",
   "execution_count": 3,
   "id": "568553b6",
   "metadata": {},
   "outputs": [
    {
     "name": "stderr",
     "output_type": "stream",
     "text": [
      "/n/holylfs05/LABS/finkbeiner_lab/Everyone/highlat/notebooks_main1/spectra_matched/spec_utils.py:36: RuntimeWarning: divide by zero encountered in true_divide\n",
      "  df['reduced_chisq'] = df['chisq'].to_numpy() * n_passbands / (n_passbands - 4)\n",
      "/n/holylfs05/LABS/finkbeiner_lab/Everyone/highlat/notebooks_main1/spectra_matched/spec_utils.py:40: RuntimeWarning: divide by zero encountered in power\n",
      "  sdss_flux_sig = np.power(np.array(dat['sdss_dr14_starsweep.psfflux_ivar']), -0.5)\n",
      "/n/holylfs05/LABS/finkbeiner_lab/Everyone/highlat/notebooks_main1/spectra_matched/spec_utils.py:42: RuntimeWarning: divide by zero encountered in log10\n",
      "  df['sdss.pmag_'+b] = 22.5 - 2.5*np.clip(np.log10(np.array(dat['sdss_dr14_starsweep.psfflux'])[:, ib]), 0.0, np.inf)\n",
      "/n/holylfs05/LABS/finkbeiner_lab/Everyone/highlat/notebooks_main1/spectra_matched/spec_utils.py:42: RuntimeWarning: invalid value encountered in log10\n",
      "  df['sdss.pmag_'+b] = 22.5 - 2.5*np.clip(np.log10(np.array(dat['sdss_dr14_starsweep.psfflux'])[:, ib]), 0.0, np.inf)\n"
     ]
    },
    {
     "name": "stdout",
     "output_type": "stream",
     "text": [
      "Number of objects before / after 596315 210713\n",
      "c1 = 0.873, c2 = 0.995, c3 = 0.445\n",
      "Fraction left = 0.353\n"
     ]
    }
   ],
   "source": [
    "fname = 'lsd_scripts/spectrain_2_11_r50.fits'\n",
    "df_allspec = spec_utils.convert_to_dataframe_specmatched(fname)\n",
    "df_goodspec = spec_utils.return_goodspec(df_allspec)"
   ]
  },
  {
   "cell_type": "code",
   "execution_count": 4,
   "id": "badc6240",
   "metadata": {},
   "outputs": [
    {
     "data": {
      "text/plain": [
       "210713"
      ]
     },
     "execution_count": 4,
     "metadata": {},
     "output_type": "execute_result"
    }
   ],
   "source": [
    "len(df_goodspec)"
   ]
  },
  {
   "cell_type": "markdown",
   "id": "e6bd2c50",
   "metadata": {},
   "source": [
    "#### Cuts on WISE, PanSTARRS"
   ]
  },
  {
   "cell_type": "code",
   "execution_count": 5,
   "id": "644dbdd2",
   "metadata": {},
   "outputs": [
    {
     "data": {
      "text/plain": [
       "Index(['mag_err_g', 'mag_err_r', 'mag_err_i', 'mag_err_z', 'mag_err_y',\n",
       "       'mag_err_J', 'mag_err_H', 'mag_err_K'],\n",
       "      dtype='object')"
      ]
     },
     "execution_count": 5,
     "metadata": {},
     "output_type": "execute_result"
    }
   ],
   "source": [
    "magerrcols = [c.startswith('mag_err_') for c in df_goodspec.columns]\n",
    "df_goodspec.columns[magerrcols]"
   ]
  },
  {
   "cell_type": "code",
   "execution_count": 6,
   "id": "32f548e2",
   "metadata": {},
   "outputs": [],
   "source": [
    "def pan_wise_cuts(df_input):\n",
    "    #riz < 0.2\n",
    "    psmerrs = df_input[['mag_err_r', 'mag_err_i', 'mag_err_z']].to_numpy()     \n",
    "    cut1 = np.all(psmerrs<0.2, axis=1)\n",
    "    #W1<0.2\n",
    "    w1merr = df_input['allwise.w1sigmpro'].to_numpy()\n",
    "    cut2 = w1merr<0.2\n",
    "    #w1rchi2\n",
    "    cut3 = df_input['allwise.w1rchi2'].to_numpy()<2\n",
    "    #detected in w1\n",
    "    cut4 = df_input['allwise.w1mpro'].to_numpy()!=0\n",
    "    print('C1: {:.2f} C2: {:.2f} C3: {:.2f} C4: {:.2f}'.format(np.sum(cut1)/len(cut1), np.sum(cut2)/len(cut2), np.sum(cut3)/len(cut3), np.sum(cut4)/len(cut4)))\n",
    "    \n",
    "    effcut = cut1 * cut2 * cut3 * cut4\n",
    "    \n",
    "    return effcut"
   ]
  },
  {
   "cell_type": "code",
   "execution_count": 7,
   "id": "58bc3745",
   "metadata": {},
   "outputs": [
    {
     "name": "stdout",
     "output_type": "stream",
     "text": [
      "C1: 1.00 C2: 0.99 C3: 0.99 C4: 0.77\n"
     ]
    },
    {
     "data": {
      "text/plain": [
       "0.7505659356565565"
      ]
     },
     "execution_count": 7,
     "metadata": {},
     "output_type": "execute_result"
    }
   ],
   "source": [
    "cleanphot = pan_wise_cuts(df_goodspec)\n",
    "df_wise = df_goodspec.iloc[cleanphot, :]\n",
    "np.sum(cleanphot)/len(cleanphot)"
   ]
  },
  {
   "cell_type": "code",
   "execution_count": 8,
   "id": "9c6c88c3",
   "metadata": {},
   "outputs": [
    {
     "data": {
      "text/plain": [
       "158154"
      ]
     },
     "execution_count": 8,
     "metadata": {},
     "output_type": "execute_result"
    }
   ],
   "source": [
    "len(df_wise)"
   ]
  },
  {
   "cell_type": "code",
   "execution_count": 9,
   "id": "6a50233d",
   "metadata": {},
   "outputs": [
    {
     "data": {
      "text/plain": [
       "<module 'spec_utils' from '/n/holylfs05/LABS/finkbeiner_lab/Everyone/highlat/notebooks_main1/spectra_matched/spec_utils.py'>"
      ]
     },
     "execution_count": 9,
     "metadata": {},
     "output_type": "execute_result"
    }
   ],
   "source": [
    "importlib.reload(spec_utils)"
   ]
  },
  {
   "cell_type": "code",
   "execution_count": 10,
   "id": "12f5753e",
   "metadata": {},
   "outputs": [
    {
     "name": "stdout",
     "output_type": "stream",
     "text": [
      "NumTrain, NumTest =  45144 13543\n",
      "Train Class Fraction: Q = 0.5\n",
      "Test Class Fraction: Q = 0.20497674075167985\n"
     ]
    }
   ],
   "source": [
    "train_x, train_y, test_x, test_y = spec_utils.return_train_test_subset(df_wise, ['r-i', 'z-W1'], balance_train=True)"
   ]
  },
  {
   "cell_type": "code",
   "execution_count": 11,
   "id": "d3b62287",
   "metadata": {},
   "outputs": [
    {
     "data": {
      "text/plain": [
       "(0.9965222399432926, 0.9952004725688548)"
      ]
     },
     "execution_count": 11,
     "metadata": {},
     "output_type": "execute_result"
    }
   ],
   "source": [
    "from sklearn.svm import SVC\n",
    "model = SVC(kernel='linear') #LinearSVC(max_iter=10000)\n",
    "model.fit(train_x, train_y)\n",
    "model.score(train_x, train_y), model.score(test_x, test_y)"
   ]
  },
  {
   "cell_type": "code",
   "execution_count": 28,
   "id": "402ad0f2",
   "metadata": {},
   "outputs": [
    {
     "data": {
      "text/plain": [
       "['models/svm_panstarrs_quasarsep_balanced.joblib']"
      ]
     },
     "execution_count": 28,
     "metadata": {},
     "output_type": "execute_result"
    }
   ],
   "source": [
    "'''import joblib\n",
    "joblib.dump(model, 'models/svm_panstarrs_quasarsep_balanced.joblib')'''"
   ]
  },
  {
   "cell_type": "code",
   "execution_count": 29,
   "id": "643e57e4",
   "metadata": {},
   "outputs": [],
   "source": [
    "plt.rcParams.update({'font.family':'serif'})"
   ]
  },
  {
   "cell_type": "code",
   "execution_count": 30,
   "id": "72b1d3ac",
   "metadata": {},
   "outputs": [
    {
     "data": {
      "image/png": "[encoded data removed]",
      "text/plain": [
       "<Figure size 640x480 with 1 Axes>"
      ]
     },
     "metadata": {},
     "output_type": "display_data"
    }
   ],
   "source": [
    "w = model.coef_[0]\n",
    "b = model.intercept_[0]\n",
    "x_points = np.linspace(np.min(train_x[:, 0]), np.max(train_x[:, 0]), num=50)\n",
    "y_points = -(w[0] / w[1]) * x_points - b / w[1]\n",
    "y_points = -(w[0] / w[1]) * x_points - b / w[1]  # getting corresponding y-points\n",
    "# Plotting a red hyperplane\n",
    "\n",
    "h=0.05\n",
    "x_min, x_max = train_x[:, 0].min() - 1, train_x[:, 0].max() + 1\n",
    "y_min, y_max = train_x[:, 1].min() - 1, train_x[:, 1].max() + 1\n",
    "xx, yy = np.meshgrid(np.arange(x_min, x_max, h),\n",
    "                     np.arange(y_min, y_max, h))\n",
    "Z = model.predict(np.vstack([xx.ravel(), yy.ravel()]).T)\n",
    "Z = Z.reshape(xx.shape)\n",
    "\n",
    "plt.figure()\n",
    "plt.scatter(train_x[train_y==1, 0], train_x[train_y==1, 1], label='Star', s=1)\n",
    "plt.scatter(train_x[train_y==0, 0], train_x[train_y==0, 1], label='Gal / QSO', s=1)\n",
    "plt.plot(x_points, y_points, c='r')\n",
    "plt.contourf(xx, yy, Z, cmap=plt.cm.RdBu, alpha=0.3)\n",
    "\n",
    "plt.xlabel('r-i')\n",
    "plt.ylabel('z-W1')\n",
    "plt.xlim(-0.7, 2)\n",
    "plt.ylim(-1, 6)\n",
    "plt.legend()\n",
    "plt.show()"
   ]
  },
  {
   "cell_type": "code",
   "execution_count": null,
   "id": "1db463b7",
   "metadata": {},
   "outputs": [],
   "source": []
  }
 ],
 "metadata": {
  "kernelspec": {
   "display_name": "Python 3",
   "language": "python",
   "name": "python3"
  },
  "language_info": {
   "codemirror_mode": {
    "name": "ipython",
    "version": 3
   },
   "file_extension": ".py",
   "mimetype": "text/x-python",
   "name": "python",
   "nbconvert_exporter": "python",
   "pygments_lexer": "ipython3",
   "version": "3.8.12"
  }
 },
 "nbformat": 4,
 "nbformat_minor": 5
}
