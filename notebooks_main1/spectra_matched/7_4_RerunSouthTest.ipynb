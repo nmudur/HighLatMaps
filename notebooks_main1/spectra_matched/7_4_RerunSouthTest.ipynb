{
 "cells": [
  {
   "cell_type": "markdown",
   "id": "03844943",
   "metadata": {},
   "source": [
    "* Generating Tables for Spec Sources in the Southern Hemisphere after querying the chisqs of the rerun posteriors (Tables 1 and 2)"
   ]
  },
  {
   "cell_type": "code",
   "execution_count": 1,
   "id": "89b5e66f",
   "metadata": {},
   "outputs": [],
   "source": [
    "import numpy as np\n",
    "import pandas as pd\n",
    "import sys\n",
    "import os\n",
    "import matplotlib.pyplot as plt\n",
    "import joblib\n",
    "import h5py\n",
    "from astropy.coordinates import SkyCoord, match_coordinates_sky\n",
    "import astropy.units as u\n",
    "\n",
    "from astropy.io import fits\n",
    "from functools import reduce\n",
    "from astropy.table import Table\n",
    "\n",
    "sys.path.append('../../methods_code_Nresol/')\n",
    "sys.path.append('../../utils/')\n",
    "import astro_cuts\n",
    "import importlib\n",
    "import spec_utils"
   ]
  },
  {
   "cell_type": "code",
   "execution_count": 2,
   "id": "5a70dfcb",
   "metadata": {},
   "outputs": [],
   "source": [
    "from sklearn.preprocessing import StandardScaler\n",
    "from sklearn.svm import SVC"
   ]
  },
  {
   "cell_type": "code",
   "execution_count": 3,
   "id": "167c3ece",
   "metadata": {},
   "outputs": [
    {
     "name": "stderr",
     "output_type": "stream",
     "text": [
      "/n/holylfs05/LABS/finkbeiner_lab/Everyone/highlat/notebooks_main1/spectra_matched/spec_utils.py:41: RuntimeWarning: divide by zero encountered in true_divide\n",
      "  df['reduced_chisq'] = df['chisq'].to_numpy() * n_passbands / (n_passbands - 4)\n",
      "/n/holylfs05/LABS/finkbeiner_lab/Everyone/highlat/notebooks_main1/spectra_matched/spec_utils.py:45: RuntimeWarning: divide by zero encountered in power\n",
      "  sdss_flux_sig = np.power(np.array(dat['sdss_dr14_starsweep.psfflux_ivar']), -0.5)\n",
      "/n/holylfs05/LABS/finkbeiner_lab/Everyone/highlat/notebooks_main1/spectra_matched/spec_utils.py:47: RuntimeWarning: divide by zero encountered in log10\n",
      "  df['sdss.pmag_'+b] = 22.5 - 2.5*np.clip(np.log10(np.array(dat['sdss_dr14_starsweep.psfflux'])[:, ib]), 0.0, np.inf)\n",
      "/n/holylfs05/LABS/finkbeiner_lab/Everyone/highlat/notebooks_main1/spectra_matched/spec_utils.py:47: RuntimeWarning: invalid value encountered in log10\n",
      "  df['sdss.pmag_'+b] = 22.5 - 2.5*np.clip(np.log10(np.array(dat['sdss_dr14_starsweep.psfflux'])[:, ib]), 0.0, np.inf)\n"
     ]
    },
    {
     "name": "stdout",
     "output_type": "stream",
     "text": [
      "Number of objects before / after 182367 65377\n",
      "c1 = 0.875, c2 = 0.995, c3 = 0.454\n",
      "Fraction left = 0.358\n"
     ]
    }
   ],
   "source": [
    "fname = 'lsd_scripts/spectrain_south_r50.fits'\n",
    "df_allspec = spec_utils.convert_to_dataframe_specmatched(fname)\n",
    "df_goodspec = spec_utils.return_goodspec(df_allspec)"
   ]
  },
  {
   "cell_type": "code",
   "execution_count": 4,
   "id": "28b29f93",
   "metadata": {},
   "outputs": [
    {
     "data": {
      "text/plain": [
       "65377"
      ]
     },
     "execution_count": 4,
     "metadata": {},
     "output_type": "execute_result"
    }
   ],
   "source": [
    "len(df_goodspec)"
   ]
  },
  {
   "cell_type": "code",
   "execution_count": 5,
   "id": "86970d45",
   "metadata": {},
   "outputs": [],
   "source": [
    "#get tiledict\n",
    "import healpy as hp\n",
    "pix256n = hp.ang2pix(256, df_goodspec['l'].to_numpy(), df_goodspec['b'].to_numpy(), lonlat=True, nest=True)\n",
    "pix256n = np.unique(pix256n)\n",
    "inputdir = '/n/holylfs05/LABS/finkbeiner_lab/Lab/nmudur/bayestar_edr3/input_fullsky/south/postprocessed/'\n",
    "dirfiles = np.array(os.listdir(inputdir))\n",
    "dirfiles = dirfiles[np.array([dirn.endswith('.h5') for dirn in dirfiles])]"
   ]
  },
  {
   "cell_type": "code",
   "execution_count": 6,
   "id": "9d7a1346",
   "metadata": {},
   "outputs": [
    {
     "name": "stderr",
     "output_type": "stream",
     "text": [
      "<ipython-input-6-c6888067c92d>:3: SettingWithCopyWarning: \n",
      "A value is trying to be set on a copy of a slice from a DataFrame.\n",
      "Try using .loc[row_indexer,col_indexer] = value instead\n",
      "\n",
      "See the caveats in the documentation: https://pandas.pydata.org/pandas-docs/stable/user_guide/indexing.html#returning-a-view-versus-a-copy\n",
      "  df_goodspec['pix256n'] = hp.ang2pix(256, df_goodspec['l'].to_numpy(), df_goodspec['b'].to_numpy(), lonlat=True, nest=True)\n"
     ]
    }
   ],
   "source": [
    "dictmapper = spec_utils.get_pix_to_filemapper(inputdir, dirfiles, pix256n)\n",
    "file2keys = spec_utils.invert_dict(dictmapper)\n",
    "df_goodspec['pix256n'] = hp.ang2pix(256, df_goodspec['l'].to_numpy(), df_goodspec['b'].to_numpy(), lonlat=True, nest=True)"
   ]
  },
  {
   "cell_type": "code",
   "execution_count": 7,
   "id": "47301dff",
   "metadata": {},
   "outputs": [
    {
     "data": {
      "text/plain": [
       "1         623214\n",
       "2         623215\n",
       "3         623215\n",
       "5         623215\n",
       "6         623215\n",
       "           ...  \n",
       "182359    624705\n",
       "182360    624705\n",
       "182361    624704\n",
       "182364    624704\n",
       "182366    624704\n",
       "Name: pix256n, Length: 65377, dtype: int64"
      ]
     },
     "execution_count": 7,
     "metadata": {},
     "output_type": "execute_result"
    }
   ],
   "source": [
    "df_goodspec['pix256n']"
   ]
  },
  {
   "cell_type": "code",
   "execution_count": 8,
   "id": "1e6ae1ab",
   "metadata": {},
   "outputs": [],
   "source": [
    "chisqrerun = np.ones(len(df_goodspec))*np.nan"
   ]
  },
  {
   "cell_type": "code",
   "execution_count": 9,
   "id": "5d088af9",
   "metadata": {},
   "outputs": [
    {
     "data": {
      "text/plain": [
       "('NumFiles', 188)"
      ]
     },
     "execution_count": 9,
     "metadata": {},
     "output_type": "execute_result"
    }
   ],
   "source": [
    "'NumFiles', len(list(file2keys.keys()))"
   ]
  },
  {
   "cell_type": "code",
   "execution_count": 10,
   "id": "f88da419",
   "metadata": {},
   "outputs": [
    {
     "name": "stdout",
     "output_type": "stream",
     "text": [
      "south.00599.h5\n",
      "1.0\n",
      "south.00709.h5\n",
      "1.0\n",
      "south.00658.h5\n",
      "1.0\n",
      "south.00539.h5\n",
      "1.0\n",
      "south.00577.h5\n",
      "1.0\n",
      "south.00605.h5\n",
      "1.0\n",
      "south.00588.h5\n",
      "1.0\n",
      "south.00675.h5\n",
      "1.0\n",
      "south.00067.h5\n",
      "1.0\n",
      "south.00058.h5\n",
      "1.0\n",
      "south.00102.h5\n",
      "1.0\n",
      "south.00861.h5\n",
      "0.9991503823279524\n",
      "south.00553.h5\n",
      "0.9987492182614134\n",
      "south.00669.h5\n",
      "1.0\n",
      "south.00578.h5\n",
      "1.0\n",
      "south.00038.h5\n",
      "1.0\n",
      "south.00592.h5\n",
      "1.0\n",
      "south.00014.h5\n",
      "1.0\n",
      "south.01066.h5\n",
      "1.0\n",
      "south.00636.h5\n",
      "1.0\n",
      "south.00830.h5\n",
      "1.0\n",
      "south.00095.h5\n",
      "0.9966555183946488\n",
      "south.00670.h5\n",
      "1.0\n",
      "south.00557.h5\n",
      "1.0\n",
      "south.00862.h5\n",
      "1.0\n",
      "south.00667.h5\n",
      "1.0\n",
      "south.00559.h5\n",
      "0.9974489795918368\n",
      "south.00547.h5\n",
      "1.0\n",
      "south.00056.h5\n",
      "0.9975062344139651\n",
      "south.00575.h5\n",
      "1.0\n",
      "south.00050.h5\n",
      "1.0\n",
      "south.00665.h5\n",
      "1.0\n",
      "south.00068.h5\n",
      "1.0\n",
      "south.00079.h5\n",
      "1.0\n",
      "south.00075.h5\n",
      "1.0\n",
      "south.00053.h5\n",
      "1.0\n",
      "south.00558.h5\n",
      "0.9989847715736041\n",
      "south.00013.h5\n",
      "1.0\n",
      "south.00556.h5\n",
      "1.0\n",
      "south.00076.h5\n",
      "1.0\n",
      "south.00054.h5\n",
      "0.9974358974358974\n",
      "south.00099.h5\n",
      "1.0\n",
      "south.00070.h5\n",
      "1.0\n",
      "south.00663.h5\n",
      "0.9946380697050938\n",
      "south.00674.h5\n",
      "1.0\n",
      "south.00664.h5\n",
      "1.0\n",
      "south.00077.h5\n",
      "1.0\n",
      "south.00643.h5\n",
      "1.0\n",
      "south.00078.h5\n",
      "1.0\n",
      "south.00647.h5\n",
      "0.9969040247678018\n",
      "south.00294.h5\n",
      "1.0\n",
      "south.00541.h5\n",
      "1.0\n",
      "south.00544.h5\n",
      "1.0\n",
      "south.00668.h5\n",
      "1.0\n",
      "south.00561.h5\n",
      "0.9967824967824968\n",
      "south.00003.h5\n",
      "1.0\n",
      "south.00019.h5\n",
      "1.0\n",
      "south.00545.h5\n",
      "1.0\n",
      "south.00589.h5\n",
      "1.0\n",
      "south.00040.h5\n",
      "0.9696969696969697\n",
      "south.00651.h5\n",
      "1.0\n",
      "south.00854.h5\n",
      "1.0\n",
      "south.00580.h5\n",
      "1.0\n",
      "south.00607.h5\n",
      "1.0\n",
      "south.00602.h5\n",
      "1.0\n",
      "south.00645.h5\n",
      "1.0\n",
      "south.00069.h5\n",
      "1.0\n",
      "south.00089.h5\n",
      "1.0\n",
      "south.00104.h5\n",
      "1.0\n",
      "south.00571.h5\n",
      "1.0\n",
      "south.00834.h5\n",
      "1.0\n",
      "south.00584.h5\n",
      "1.0\n",
      "south.00097.h5\n",
      "1.0\n",
      "south.00568.h5\n",
      "1.0\n",
      "south.00092.h5\n",
      "0.9973776223776224\n",
      "south.00644.h5\n",
      "1.0\n",
      "south.00680.h5\n",
      "1.0\n",
      "south.00662.h5\n",
      "1.0\n",
      "south.00648.h5\n",
      "0.9991228070175439\n",
      "south.00655.h5\n",
      "1.0\n",
      "south.00837.h5\n",
      "1.0\n",
      "south.00863.h5\n",
      "1.0\n",
      "south.00015.h5\n",
      "0.9969879518072289\n",
      "south.00037.h5\n",
      "1.0\n",
      "south.00549.h5\n",
      "1.0\n",
      "south.00061.h5\n",
      "1.0\n",
      "south.00080.h5\n",
      "1.0\n",
      "south.00585.h5\n",
      "1.0\n",
      "south.00563.h5\n",
      "1.0\n",
      "south.00608.h5\n",
      "1.0\n",
      "south.00606.h5\n",
      "1.0\n",
      "south.00639.h5\n",
      "0.9953271028037384\n",
      "south.00574.h5\n",
      "1.0\n",
      "south.00673.h5\n",
      "1.0\n",
      "south.00635.h5\n",
      "0.9989594172736732\n",
      "south.01199.h5\n",
      "1.0\n",
      "south.00565.h5\n",
      "0.9981829194427619\n",
      "south.00583.h5\n",
      "1.0\n",
      "south.00562.h5\n",
      "0.9981829194427619\n",
      "south.00552.h5\n",
      "0.9991680532445923\n",
      "south.00554.h5\n",
      "1.0\n",
      "south.00860.h5\n",
      "0.999129677980853\n",
      "south.00666.h5\n",
      "1.0\n",
      "south.00071.h5\n",
      "1.0\n",
      "south.00114.h5\n",
      "1.0\n",
      "south.00066.h5\n",
      "1.0\n",
      "south.00572.h5\n",
      "1.0\n",
      "south.00100.h5\n",
      "1.0\n",
      "south.00057.h5\n",
      "1.0\n",
      "south.00586.h5\n",
      "1.0\n",
      "south.00576.h5\n",
      "1.0\n",
      "south.00064.h5\n",
      "0.9968652037617555\n",
      "south.00087.h5\n",
      "1.0\n",
      "south.00656.h5\n",
      "1.0\n",
      "south.00096.h5\n",
      "1.0\n",
      "south.00570.h5\n",
      "0.9979123173277662\n",
      "south.00051.h5\n",
      "1.0\n",
      "south.00093.h5\n",
      "1.0\n",
      "south.00855.h5\n",
      "1.0\n",
      "south.00560.h5\n",
      "1.0\n",
      "south.00543.h5\n",
      "1.0\n",
      "south.00591.h5\n",
      "1.0\n",
      "south.00088.h5\n",
      "1.0\n",
      "south.00835.h5\n",
      "1.0\n",
      "south.00646.h5\n",
      "1.0\n",
      "south.00579.h5\n",
      "1.0\n",
      "south.00637.h5\n",
      "1.0\n",
      "south.00564.h5\n",
      "0.9980988593155894\n",
      "south.00654.h5\n",
      "1.0\n",
      "south.00074.h5\n",
      "1.0\n",
      "south.00555.h5\n",
      "1.0\n",
      "south.00634.h5\n",
      "1.0\n",
      "south.00047.h5\n",
      "1.0\n",
      "south.00600.h5\n",
      "0.9936507936507937\n",
      "south.00060.h5\n",
      "1.0\n",
      "south.00603.h5\n",
      "1.0\n",
      "south.00098.h5\n",
      "1.0\n",
      "south.00059.h5\n",
      "1.0\n",
      "south.00638.h5\n",
      "0.9986130374479889\n",
      "south.00856.h5\n",
      "1.0\n",
      "south.00055.h5\n",
      "1.0\n",
      "south.00710.h5\n",
      "1.0\n",
      "south.00566.h5\n",
      "1.0\n",
      "south.00857.h5\n",
      "1.0\n",
      "south.00065.h5\n",
      "1.0\n",
      "south.00091.h5\n",
      "1.0\n",
      "south.00021.h5\n",
      "1.0\n",
      "south.00858.h5\n",
      "1.0\n",
      "south.00650.h5\n",
      "1.0\n",
      "south.00672.h5\n",
      "1.0\n",
      "south.00020.h5\n",
      "1.0\n",
      "south.00601.h5\n",
      "0.9969558599695586\n",
      "south.00546.h5\n",
      "1.0\n",
      "south.00652.h5\n",
      "1.0\n",
      "south.00548.h5\n",
      "0.9953271028037384\n",
      "south.00540.h5\n",
      "1.0\n",
      "south.00649.h5\n",
      "0.9981851179673321\n",
      "south.00569.h5\n",
      "1.0\n",
      "south.00587.h5\n",
      "0.9992559523809523\n",
      "south.00094.h5\n",
      "0.9965397923875432\n",
      "south.00859.h5\n",
      "1.0\n",
      "south.00640.h5\n",
      "0.9980952380952381\n",
      "south.00101.h5\n",
      "0.9655172413793104\n",
      "south.00573.h5\n",
      "1.0\n",
      "south.00063.h5\n",
      "0.9951807228915662\n",
      "south.00048.h5\n",
      "1.0\n",
      "south.00582.h5\n",
      "1.0\n",
      "south.00567.h5\n",
      "1.0\n",
      "south.00581.h5\n",
      "0.9987639060568603\n",
      "south.00641.h5\n",
      "0.9957264957264957\n",
      "south.00653.h5\n",
      "1.0\n",
      "south.00022.h5\n",
      "1.0\n",
      "south.00062.h5\n",
      "0.9956521739130435\n",
      "south.00072.h5\n",
      "1.0\n",
      "south.00551.h5\n",
      "1.0\n",
      "south.00039.h5\n",
      "1.0\n",
      "south.00016.h5\n",
      "1.0\n",
      "south.00657.h5\n",
      "0.9629629629629629\n",
      "south.00052.h5\n",
      "1.0\n",
      "south.00542.h5\n",
      "0.99860529986053\n",
      "south.00671.h5\n",
      "1.0\n",
      "south.00642.h5\n",
      "1.0\n",
      "south.00590.h5\n",
      "1.0\n",
      "south.00833.h5\n",
      "1.0\n",
      "south.00090.h5\n",
      "1.0\n",
      "south.00073.h5\n",
      "1.0\n",
      "south.00550.h5\n",
      "1.0\n",
      "south.00105.h5\n",
      "1.0\n"
     ]
    }
   ],
   "source": [
    "for key in list(file2keys.keys()):\n",
    "    #key = 'north.00475.h5'\n",
    "    #opening only relevant files\n",
    "    print(key)\n",
    "    inputf = h5py.File(inputdir+key, 'r')\n",
    "    allcatsrcs = []\n",
    "    for pixel in file2keys[key]:#for each specmatched pixel\n",
    "        dat = inputf[f'photometry/pixel 256-{pixel}'] #allcatdata\n",
    "        allcatsrcs.append(np.vstack([dat['gaia.source_id'], dat['l'], dat['b'], dat['chisq']]).T)\n",
    "    tab = np.vstack(allcatsrcs)\n",
    "    specmask = df_goodspec['pix256n'].isin(file2keys[key]).to_numpy() \n",
    "    #all specmatsrcs in the specmatched pixels in that file\n",
    "    specsrcs = df_goodspec.iloc[specmask]\n",
    "    speclb = SkyCoord(l=specsrcs['l'].to_numpy()*u.deg, b= specsrcs['b'].to_numpy()*u.deg, frame='galactic')\n",
    "    catlb = SkyCoord(l=tab[:, 1]*u.deg, b= tab[:, 2]*u.deg, frame='galactic')\n",
    "    ispecincat, d2d, d3d = match_coordinates_sky(speclb, catlb)\n",
    "    print(np.equal(tab[ispecincat, 0], specsrcs['gaia_edr3.source_id'].to_numpy()).sum()/len(ispecincat))\n",
    "    chisqrerun[specmask] = tab[ispecincat, -1]\n",
    "    inputf.close()"
   ]
  },
  {
   "cell_type": "code",
   "execution_count": 11,
   "id": "75249f22",
   "metadata": {},
   "outputs": [
    {
     "name": "stderr",
     "output_type": "stream",
     "text": [
      "<ipython-input-11-9f784ebec496>:1: SettingWithCopyWarning: \n",
      "A value is trying to be set on a copy of a slice from a DataFrame.\n",
      "Try using .loc[row_indexer,col_indexer] = value instead\n",
      "\n",
      "See the caveats in the documentation: https://pandas.pydata.org/pandas-docs/stable/user_guide/indexing.html#returning-a-view-versus-a-copy\n",
      "  df_goodspec['chisq_rerun'] = chisqrerun\n"
     ]
    },
    {
     "data": {
      "text/html": [
       "<div>\n",
       "<style scoped>\n",
       "    .dataframe tbody tr th:only-of-type {\n",
       "        vertical-align: middle;\n",
       "    }\n",
       "\n",
       "    .dataframe tbody tr th {\n",
       "        vertical-align: top;\n",
       "    }\n",
       "\n",
       "    .dataframe thead th {\n",
       "        text-align: right;\n",
       "    }\n",
       "</style>\n",
       "<table border=\"1\" class=\"dataframe\">\n",
       "  <thead>\n",
       "    <tr style=\"text-align: right;\">\n",
       "      <th></th>\n",
       "      <th>chisq</th>\n",
       "      <th>chisq_rerun</th>\n",
       "    </tr>\n",
       "  </thead>\n",
       "  <tbody>\n",
       "    <tr>\n",
       "      <th>1</th>\n",
       "      <td>0.205420</td>\n",
       "      <td>0.205420</td>\n",
       "    </tr>\n",
       "    <tr>\n",
       "      <th>2</th>\n",
       "      <td>3.973713</td>\n",
       "      <td>3.973506</td>\n",
       "    </tr>\n",
       "    <tr>\n",
       "      <th>3</th>\n",
       "      <td>0.094811</td>\n",
       "      <td>0.059074</td>\n",
       "    </tr>\n",
       "    <tr>\n",
       "      <th>5</th>\n",
       "      <td>0.441718</td>\n",
       "      <td>0.442534</td>\n",
       "    </tr>\n",
       "    <tr>\n",
       "      <th>6</th>\n",
       "      <td>0.190907</td>\n",
       "      <td>0.191089</td>\n",
       "    </tr>\n",
       "    <tr>\n",
       "      <th>...</th>\n",
       "      <td>...</td>\n",
       "      <td>...</td>\n",
       "    </tr>\n",
       "    <tr>\n",
       "      <th>182359</th>\n",
       "      <td>0.250157</td>\n",
       "      <td>0.229207</td>\n",
       "    </tr>\n",
       "    <tr>\n",
       "      <th>182360</th>\n",
       "      <td>0.106057</td>\n",
       "      <td>0.105947</td>\n",
       "    </tr>\n",
       "    <tr>\n",
       "      <th>182361</th>\n",
       "      <td>0.357303</td>\n",
       "      <td>0.355262</td>\n",
       "    </tr>\n",
       "    <tr>\n",
       "      <th>182364</th>\n",
       "      <td>0.073998</td>\n",
       "      <td>0.052579</td>\n",
       "    </tr>\n",
       "    <tr>\n",
       "      <th>182366</th>\n",
       "      <td>0.016870</td>\n",
       "      <td>0.016858</td>\n",
       "    </tr>\n",
       "  </tbody>\n",
       "</table>\n",
       "<p>65377 rows × 2 columns</p>\n",
       "</div>"
      ],
      "text/plain": [
       "           chisq  chisq_rerun\n",
       "1       0.205420     0.205420\n",
       "2       3.973713     3.973506\n",
       "3       0.094811     0.059074\n",
       "5       0.441718     0.442534\n",
       "6       0.190907     0.191089\n",
       "...          ...          ...\n",
       "182359  0.250157     0.229207\n",
       "182360  0.106057     0.105947\n",
       "182361  0.357303     0.355262\n",
       "182364  0.073998     0.052579\n",
       "182366  0.016870     0.016858\n",
       "\n",
       "[65377 rows x 2 columns]"
      ]
     },
     "execution_count": 11,
     "metadata": {},
     "output_type": "execute_result"
    }
   ],
   "source": [
    "df_goodspec['chisq_rerun'] = chisqrerun\n",
    "df_goodspec.filter(items=['chisq', 'chisq_rerun'])"
   ]
  },
  {
   "cell_type": "code",
   "execution_count": 12,
   "id": "195c8a35",
   "metadata": {},
   "outputs": [],
   "source": [
    "df_goodspec.to_pickle('specmatched_southrerun.pkl')"
   ]
  },
  {
   "cell_type": "markdown",
   "id": "59c50b88",
   "metadata": {},
   "source": [
    "### Reset with new chisq"
   ]
  },
  {
   "cell_type": "code",
   "execution_count": 13,
   "id": "b3b8aaef",
   "metadata": {},
   "outputs": [
    {
     "name": "stderr",
     "output_type": "stream",
     "text": [
      "<ipython-input-13-13dcd7c4c576>:1: SettingWithCopyWarning: \n",
      "A value is trying to be set on a copy of a slice from a DataFrame.\n",
      "Try using .loc[row_indexer,col_indexer] = value instead\n",
      "\n",
      "See the caveats in the documentation: https://pandas.pydata.org/pandas-docs/stable/user_guide/indexing.html#returning-a-view-versus-a-copy\n",
      "  df_goodspec['chisq'] = df_goodspec['chisq_rerun']\n"
     ]
    }
   ],
   "source": [
    "df_goodspec['chisq'] = df_goodspec['chisq_rerun']"
   ]
  },
  {
   "cell_type": "code",
   "execution_count": 14,
   "id": "1b357055",
   "metadata": {
    "scrolled": true
   },
   "outputs": [
    {
     "name": "stdout",
     "output_type": "stream",
     "text": [
      "Number of Stars = 55474, Fraction(%) = 84.8525, Ratio(obj:star)*100 = 100\n",
      "Number of Galaxies = 87, Fraction(%) = 0.1331, Ratio(obj:star)*100 = 0.1568\n",
      "Number of QSOs = 9816, Fraction(%) = 15.0145, Ratio(obj:star)*100 = 17.6948\n"
     ]
    }
   ],
   "source": [
    "spec_utils.print_obj_distribution(df_goodspec['sdss_dr17_specobj.CLASS'])"
   ]
  },
  {
   "cell_type": "code",
   "execution_count": 3,
   "id": "f7145557",
   "metadata": {},
   "outputs": [],
   "source": [
    "nbtest_dir = '../../notebooks_test/'\n",
    "\n",
    "def combine_cuts(df_input, cuts_list):\n",
    "    cutfuncs = [getattr(astro_cuts, ctup[0]) for ctup in cuts_list]\n",
    "    masklist = []\n",
    "    for c, ctup in enumerate(cuts_list):\n",
    "        if len(ctup)==1:\n",
    "            masklist.append(cutfuncs[c](df_input))\n",
    "        else:\n",
    "            masklist.append(cutfuncs[c](df_input, **ctup[1]))\n",
    "        print('Cut{} {} {}'.format(c, np.sum(masklist[c]), np.sum(masklist[c])/len(masklist[c])))\n",
    "    final_cut = reduce(np.logical_and, masklist) #intersection of all cuts\n",
    "    print('Effective Cut = {:.3f}'.format(np.sum(final_cut)/len(final_cut)))\n",
    "    return final_cut"
   ]
  },
  {
   "cell_type": "code",
   "execution_count": 16,
   "id": "c2e37dbc",
   "metadata": {},
   "outputs": [
    {
     "name": "stdout",
     "output_type": "stream",
     "text": [
      "Cut0 62945 0.9628003732199397\n",
      "Cut1 61712 0.9439405295440293\n",
      "Cut2 55258 0.8452207963045107\n",
      "Cut3 65092 0.9956406687367116\n",
      "Cut4 55330 0.84632210104471\n",
      "Cut5 52118 0.7971916729124922\n",
      "Effective Cut = 0.696\n",
      "Number of Stars = 45473, Fraction(%) = 99.8989, Ratio(obj:star)*100 = 100\n",
      "Number of Galaxies = 30, Fraction(%) = 0.0659, Ratio(obj:star)*100 = 0.0660\n",
      "Number of QSOs = 16, Fraction(%) = 0.0352, Ratio(obj:star)*100 = 0.0352\n"
     ]
    }
   ],
   "source": [
    "wisemodel = joblib.load('models/svm_panstarrs_quasarsep_balanced.joblib')\n",
    "smodel = joblib.load('models/svm_sdss_quasarsep_balanced_new.joblib')\n",
    "\n",
    "cuts_list = [('distmod_median_cut_corr', {'minpc': 400}), ('dm_sigma_cut', {'maxsig': 1.5}), \n",
    "             ('wise_svmnondetectioncombinedcut_limiting', {'model': wisemodel}), ('parallax_nan_edr3',),\n",
    "             ('sdss_uvcut', {'model': smodel}), ('bayestar_chisq', {'maxchisq': 3.0})]\n",
    "\n",
    "final_cut = combine_cuts(df_goodspec, cuts_list) #intersection of all cuts\n",
    "df16a = df_goodspec.iloc[final_cut, :]\n",
    "spec_utils.print_obj_distribution(df16a['sdss_dr17_specobj.CLASS'])"
   ]
  },
  {
   "cell_type": "markdown",
   "id": "6e7df069",
   "metadata": {},
   "source": [
    "### Ablation Tests"
   ]
  },
  {
   "cell_type": "code",
   "execution_count": 5,
   "id": "6f51eb42",
   "metadata": {},
   "outputs": [],
   "source": [
    "df_goodspec = pd.read_pickle('specmatched_southrerun.pkl')\n",
    "df_goodspec['chisq'] = df_goodspec['chisq_rerun']"
   ]
  },
  {
   "cell_type": "code",
   "execution_count": 6,
   "id": "a87e8d99",
   "metadata": {
    "scrolled": true
   },
   "outputs": [
    {
     "name": "stdout",
     "output_type": "stream",
     "text": [
      "Number of Stars = 55474, Fraction(%) = 84.8525, Ratio(obj:star)*100 = 100\n",
      "Number of Galaxies = 87, Fraction(%) = 0.1331, Ratio(obj:star)*100 = 0.1568\n",
      "Number of QSOs = 9816, Fraction(%) = 15.0145, Ratio(obj:star)*100 = 17.6948\n"
     ]
    }
   ],
   "source": [
    "spec_utils.print_obj_distribution(df_goodspec['sdss_dr17_specobj.CLASS'])"
   ]
  },
  {
   "cell_type": "code",
   "execution_count": 10,
   "id": "8991f819",
   "metadata": {},
   "outputs": [],
   "source": [
    "wisemodel = joblib.load('models/svm_panstarrs_quasarsep_balanced.joblib')\n",
    "smodel = joblib.load('models/svm_sdss_quasarsep_balanced_new.joblib')"
   ]
  },
  {
   "cell_type": "code",
   "execution_count": 7,
   "id": "ca90fe9c",
   "metadata": {},
   "outputs": [],
   "source": [
    "nbtest_dir = '../../notebooks_test/'\n",
    "\n",
    "def combine_cuts(df_input, cuts_list):\n",
    "    cutfuncs = [getattr(astro_cuts, ctup[0]) for ctup in cuts_list]\n",
    "    masklist = []\n",
    "    for c, ctup in enumerate(cuts_list):\n",
    "        if len(ctup)==1:\n",
    "            masklist.append(cutfuncs[c](df_input))\n",
    "        else:\n",
    "            masklist.append(cutfuncs[c](df_input, **ctup[1]))\n",
    "        print('Cut{} {} {}'.format(c, np.sum(masklist[c]), np.sum(masklist[c])/len(masklist[c])))\n",
    "    final_cut = reduce(np.logical_and, masklist) #intersection of all cuts\n",
    "    print('Effective Cut = {:.3f}'.format(np.sum(final_cut)/len(final_cut)))\n",
    "    return final_cut"
   ]
  },
  {
   "cell_type": "code",
   "execution_count": 8,
   "id": "336afedc",
   "metadata": {},
   "outputs": [
    {
     "name": "stdout",
     "output_type": "stream",
     "text": [
      "Cut0 62945 0.9628003732199397\n",
      "Cut1 61712 0.9439405295440293\n",
      "Effective Cut = 0.907\n",
      "Number of Stars = 50205, Fraction(%) = 84.6899, Ratio(obj:star)*100 = 100\n",
      "Number of Galaxies = 84, Fraction(%) = 0.1417, Ratio(obj:star)*100 = 0.1673\n",
      "Number of QSOs = 8992, Fraction(%) = 15.1684, Ratio(obj:star)*100 = 17.9106\n",
      "StarFracChange = -0.163 (%)\n",
      "GalFracChange = 0.009 (%)\n",
      "QSOFracChange = 0.154 (%)\n",
      "Stars thrown out = -5269\n"
     ]
    }
   ],
   "source": [
    "cuts_list = [('distmod_median_cut_corr', {'minpc': 400}), ('dm_sigma_cut', {'maxsig': 1.5}) ]\n",
    "\n",
    "final_cut = combine_cuts(df_goodspec, cuts_list)\n",
    "dfalt = df_goodspec.iloc[final_cut, :]\n",
    "spec_utils.print_obj_distribution(dfalt['sdss_dr17_specobj.CLASS'])\n",
    "spec_utils.print_delta_obj_distribution(df_goodspec['sdss_dr17_specobj.CLASS'], dfalt['sdss_dr17_specobj.CLASS'])"
   ]
  },
  {
   "cell_type": "code",
   "execution_count": 11,
   "id": "13092605",
   "metadata": {},
   "outputs": [
    {
     "name": "stdout",
     "output_type": "stream",
     "text": [
      "Cut0 62945 0.9628003732199397\n",
      "Cut1 61712 0.9439405295440293\n",
      "Cut2 55258 0.8452207963045107\n",
      "Effective Cut = 0.765\n",
      "Number of Stars = 49464, Fraction(%) = 98.9478, Ratio(obj:star)*100 = 100\n",
      "Number of Galaxies = 58, Fraction(%) = 0.1160, Ratio(obj:star)*100 = 0.1173\n",
      "Number of QSOs = 468, Fraction(%) = 0.9362, Ratio(obj:star)*100 = 0.9461\n",
      "StarFracChange = 14.095 (%)\n",
      "GalFracChange = -0.017 (%)\n",
      "QSOFracChange = -14.078 (%)\n",
      "Stars thrown out = -6010\n"
     ]
    }
   ],
   "source": [
    "cuts_list =  [('distmod_median_cut_corr', {'minpc': 400}), ('dm_sigma_cut', {'maxsig': 1.5}), ('wise_svmnondetectioncombinedcut_limiting', {'model': wisemodel})]\n",
    "\n",
    "final_cut = combine_cuts(df_goodspec, cuts_list)\n",
    "dfalt = df_goodspec.iloc[final_cut, :]\n",
    "spec_utils.print_obj_distribution(dfalt['sdss_dr17_specobj.CLASS'])\n",
    "spec_utils.print_delta_obj_distribution(df_goodspec['sdss_dr17_specobj.CLASS'], dfalt['sdss_dr17_specobj.CLASS'])"
   ]
  },
  {
   "cell_type": "code",
   "execution_count": 12,
   "id": "eca6e02a",
   "metadata": {},
   "outputs": [
    {
     "name": "stdout",
     "output_type": "stream",
     "text": [
      "Cut0 62945 0.9628003732199397\n",
      "Cut1 61712 0.9439405295440293\n",
      "Cut2 55258 0.8452207963045107\n",
      "Cut3 65092 0.9956406687367116\n",
      "Effective Cut = 0.762\n",
      "Number of Stars = 49305, Fraction(%) = 98.9643, Ratio(obj:star)*100 = 100\n",
      "Number of Galaxies = 48, Fraction(%) = 0.0963, Ratio(obj:star)*100 = 0.0974\n",
      "Number of QSOs = 468, Fraction(%) = 0.9394, Ratio(obj:star)*100 = 0.9492\n",
      "StarFracChange = 14.112 (%)\n",
      "GalFracChange = -0.037 (%)\n",
      "QSOFracChange = -14.075 (%)\n",
      "Stars thrown out = -6169\n"
     ]
    }
   ],
   "source": [
    "cuts_list = [('distmod_median_cut_corr', {'minpc': 400}), ('dm_sigma_cut', {'maxsig': 1.5}), \n",
    "             ('wise_svmnondetectioncombinedcut_limiting', {'model': wisemodel}), ('parallax_nan_edr3',)]\n",
    "\n",
    "final_cut = combine_cuts(df_goodspec, cuts_list)\n",
    "dfalt = df_goodspec.iloc[final_cut, :]\n",
    "spec_utils.print_obj_distribution(dfalt['sdss_dr17_specobj.CLASS'])\n",
    "spec_utils.print_delta_obj_distribution(df_goodspec['sdss_dr17_specobj.CLASS'], dfalt['sdss_dr17_specobj.CLASS'])"
   ]
  },
  {
   "cell_type": "code",
   "execution_count": 13,
   "id": "6b48baec",
   "metadata": {},
   "outputs": [
    {
     "name": "stdout",
     "output_type": "stream",
     "text": [
      "Cut0 62945 0.9628003732199397\n",
      "Cut1 61712 0.9439405295440293\n",
      "Cut2 55258 0.8452207963045107\n",
      "Cut3 65092 0.9956406687367116\n",
      "Cut4 55330 0.84632210104471\n",
      "Effective Cut = 0.751\n",
      "Number of Stars = 48998, Fraction(%) = 99.8187, Ratio(obj:star)*100 = 100\n",
      "Number of Galaxies = 41, Fraction(%) = 0.0835, Ratio(obj:star)*100 = 0.0837\n",
      "Number of QSOs = 48, Fraction(%) = 0.0978, Ratio(obj:star)*100 = 0.0980\n",
      "StarFracChange = 14.966 (%)\n",
      "GalFracChange = -0.050 (%)\n",
      "QSOFracChange = -14.917 (%)\n",
      "Stars thrown out = -6476\n"
     ]
    }
   ],
   "source": [
    "cuts_list = [('distmod_median_cut_corr', {'minpc': 400}), ('dm_sigma_cut', {'maxsig': 1.5}), \n",
    "             ('wise_svmnondetectioncombinedcut_limiting', {'model': wisemodel}), ('parallax_nan_edr3',),\n",
    "             ('sdss_uvcut', {'model': smodel})]\n",
    "\n",
    "final_cut = combine_cuts(df_goodspec, cuts_list)\n",
    "dfalt = df_goodspec.iloc[final_cut, :]\n",
    "spec_utils.print_obj_distribution(dfalt['sdss_dr17_specobj.CLASS'])\n",
    "spec_utils.print_delta_obj_distribution(df_goodspec['sdss_dr17_specobj.CLASS'], dfalt['sdss_dr17_specobj.CLASS'])"
   ]
  },
  {
   "cell_type": "code",
   "execution_count": 14,
   "id": "caa3ddbc",
   "metadata": {},
   "outputs": [
    {
     "name": "stdout",
     "output_type": "stream",
     "text": [
      "Cut0 62945 0.9628003732199397\n",
      "Cut1 61712 0.9439405295440293\n",
      "Cut2 55258 0.8452207963045107\n",
      "Cut3 65092 0.9956406687367116\n",
      "Cut4 55330 0.84632210104471\n",
      "Cut5 52118 0.7971916729124922\n",
      "Effective Cut = 0.696\n",
      "Number of Stars = 45473, Fraction(%) = 99.8989, Ratio(obj:star)*100 = 100\n",
      "Number of Galaxies = 30, Fraction(%) = 0.0659, Ratio(obj:star)*100 = 0.0660\n",
      "Number of QSOs = 16, Fraction(%) = 0.0352, Ratio(obj:star)*100 = 0.0352\n",
      "StarFracChange = 15.046 (%)\n",
      "GalFracChange = -0.067 (%)\n",
      "QSOFracChange = -14.979 (%)\n",
      "Stars thrown out = -10001\n"
     ]
    }
   ],
   "source": [
    "cuts_list = [('distmod_median_cut_corr', {'minpc': 400}), ('dm_sigma_cut', {'maxsig': 1.5}), \n",
    "             ('wise_svmnondetectioncombinedcut_limiting', {'model': wisemodel}), ('parallax_nan_edr3',),\n",
    "             ('sdss_uvcut', {'model': smodel}), ('bayestar_chisq', {'maxchisq': 3.0})]\n",
    "\n",
    "final_cut = combine_cuts(df_goodspec, cuts_list)\n",
    "dfalt = df_goodspec.iloc[final_cut, :]\n",
    "spec_utils.print_obj_distribution(dfalt['sdss_dr17_specobj.CLASS'])\n",
    "spec_utils.print_delta_obj_distribution(df_goodspec['sdss_dr17_specobj.CLASS'], dfalt['sdss_dr17_specobj.CLASS'])"
   ]
  },
  {
   "cell_type": "markdown",
   "id": "d4170233",
   "metadata": {},
   "source": [
    "### All cuts except"
   ]
  },
  {
   "cell_type": "markdown",
   "id": "fed40851",
   "metadata": {},
   "source": [
    "WISE"
   ]
  },
  {
   "cell_type": "code",
   "execution_count": 15,
   "id": "28cae6f0",
   "metadata": {},
   "outputs": [
    {
     "name": "stdout",
     "output_type": "stream",
     "text": [
      "Cut0 62945 0.9628003732199397\n",
      "Cut1 61712 0.9439405295440293\n",
      "Cut2 65092 0.9956406687367116\n",
      "Cut3 55330 0.84632210104471\n",
      "Cut4 52118 0.7971916729124922\n",
      "Effective Cut = 0.701\n",
      "Number of Stars = 45731, Fraction(%) = 99.8515, Ratio(obj:star)*100 = 100\n",
      "Number of Galaxies = 31, Fraction(%) = 0.0677, Ratio(obj:star)*100 = 0.0678\n",
      "Number of QSOs = 37, Fraction(%) = 0.0808, Ratio(obj:star)*100 = 0.0809\n",
      "StarFracChange = 14.999 (%)\n",
      "GalFracChange = -0.065 (%)\n",
      "QSOFracChange = -14.934 (%)\n",
      "Stars thrown out = -9743\n"
     ]
    }
   ],
   "source": [
    "cuts_list = [('distmod_median_cut_corr', {'minpc': 400}), ('dm_sigma_cut', {'maxsig': 1.5}), \n",
    "             ('parallax_nan_edr3',), ('sdss_uvcut', {'model': smodel}), \n",
    "             ('bayestar_chisq', {'maxchisq': 3.0})]\n",
    "\n",
    "final_cut = combine_cuts(df_goodspec, cuts_list)\n",
    "dfalt = df_goodspec.iloc[final_cut, :]\n",
    "spec_utils.print_obj_distribution(dfalt['sdss_dr17_specobj.CLASS'])\n",
    "spec_utils.print_delta_obj_distribution(df_goodspec['sdss_dr17_specobj.CLASS'], dfalt['sdss_dr17_specobj.CLASS'])"
   ]
  },
  {
   "cell_type": "markdown",
   "id": "d96516d2",
   "metadata": {},
   "source": [
    "Reduced Chisq"
   ]
  },
  {
   "cell_type": "code",
   "execution_count": 16,
   "id": "59672429",
   "metadata": {},
   "outputs": [
    {
     "name": "stdout",
     "output_type": "stream",
     "text": [
      "Cut0 62945 0.9628003732199397\n",
      "Cut1 61712 0.9439405295440293\n",
      "Cut2 55258 0.8452207963045107\n",
      "Cut3 65092 0.9956406687367116\n",
      "Cut4 55330 0.84632210104471\n",
      "Effective Cut = 0.751\n",
      "Number of Stars = 48998, Fraction(%) = 99.8187, Ratio(obj:star)*100 = 100\n",
      "Number of Galaxies = 41, Fraction(%) = 0.0835, Ratio(obj:star)*100 = 0.0837\n",
      "Number of QSOs = 48, Fraction(%) = 0.0978, Ratio(obj:star)*100 = 0.0980\n",
      "StarFracChange = 14.966 (%)\n",
      "GalFracChange = -0.050 (%)\n",
      "QSOFracChange = -14.917 (%)\n",
      "Stars thrown out = -6476\n"
     ]
    }
   ],
   "source": [
    "cuts_list = [('distmod_median_cut_corr', {'minpc': 400}), ('dm_sigma_cut', {'maxsig': 1.5}), \n",
    "             ('wise_svmnondetectioncombinedcut_limiting', {'model': wisemodel}), ('parallax_nan_edr3',),\n",
    "             ('sdss_uvcut', {'model': smodel})]\n",
    "\n",
    "\n",
    "final_cut = combine_cuts(df_goodspec, cuts_list)\n",
    "dfalt = df_goodspec.iloc[final_cut, :]\n",
    "spec_utils.print_obj_distribution(dfalt['sdss_dr17_specobj.CLASS'])\n",
    "spec_utils.print_delta_obj_distribution(df_goodspec['sdss_dr17_specobj.CLASS'], dfalt['sdss_dr17_specobj.CLASS'])"
   ]
  },
  {
   "cell_type": "markdown",
   "id": "4c6fd401",
   "metadata": {},
   "source": [
    "SDSS"
   ]
  },
  {
   "cell_type": "code",
   "execution_count": 17,
   "id": "144395c4",
   "metadata": {},
   "outputs": [
    {
     "name": "stdout",
     "output_type": "stream",
     "text": [
      "Cut0 62945 0.9628003732199397\n",
      "Cut1 61712 0.9439405295440293\n",
      "Cut2 55258 0.8452207963045107\n",
      "Cut3 65092 0.9956406687367116\n",
      "Cut4 52118 0.7971916729124922\n",
      "Effective Cut = 0.699\n",
      "Number of Stars = 45612, Fraction(%) = 99.7747, Ratio(obj:star)*100 = 100\n",
      "Number of Galaxies = 32, Fraction(%) = 0.0700, Ratio(obj:star)*100 = 0.0702\n",
      "Number of QSOs = 71, Fraction(%) = 0.1553, Ratio(obj:star)*100 = 0.1557\n",
      "StarFracChange = 14.922 (%)\n",
      "GalFracChange = -0.063 (%)\n",
      "QSOFracChange = -14.859 (%)\n",
      "Stars thrown out = -9862\n"
     ]
    }
   ],
   "source": [
    "cuts_list = [('distmod_median_cut_corr', {'minpc': 400}), ('dm_sigma_cut', {'maxsig': 1.5}), \n",
    "             ('wise_svmnondetectioncombinedcut_limiting', {'model': wisemodel}), ('parallax_nan_edr3',),\n",
    "             ('bayestar_chisq', {'maxchisq': 3.0})]\n",
    "\n",
    "\n",
    "final_cut = combine_cuts(df_goodspec, cuts_list)\n",
    "dfalt = df_goodspec.iloc[final_cut, :]\n",
    "spec_utils.print_obj_distribution(dfalt['sdss_dr17_specobj.CLASS'])\n",
    "spec_utils.print_delta_obj_distribution(df_goodspec['sdss_dr17_specobj.CLASS'], dfalt['sdss_dr17_specobj.CLASS'])"
   ]
  },
  {
   "cell_type": "markdown",
   "id": "1c1cd31c",
   "metadata": {},
   "source": [
    "Parallax nan edr3"
   ]
  },
  {
   "cell_type": "code",
   "execution_count": 18,
   "id": "5ba8f416",
   "metadata": {},
   "outputs": [
    {
     "name": "stdout",
     "output_type": "stream",
     "text": [
      "Cut0 62945 0.9628003732199397\n",
      "Cut1 61712 0.9439405295440293\n",
      "Cut2 55258 0.8452207963045107\n",
      "Cut3 55330 0.84632210104471\n",
      "Cut4 52118 0.7971916729124922\n",
      "Effective Cut = 0.699\n",
      "Number of Stars = 45616, Fraction(%) = 99.8905, Ratio(obj:star)*100 = 100\n",
      "Number of Galaxies = 34, Fraction(%) = 0.0745, Ratio(obj:star)*100 = 0.0745\n",
      "Number of QSOs = 16, Fraction(%) = 0.0350, Ratio(obj:star)*100 = 0.0351\n",
      "StarFracChange = 15.038 (%)\n",
      "GalFracChange = -0.059 (%)\n",
      "QSOFracChange = -14.979 (%)\n",
      "Stars thrown out = -9858\n"
     ]
    }
   ],
   "source": [
    "cuts_list = [('distmod_median_cut_corr', {'minpc': 400}), ('dm_sigma_cut', {'maxsig': 1.5}), \n",
    "             ('wise_svmnondetectioncombinedcut_limiting', {'model': wisemodel}),\n",
    "             ('sdss_uvcut', {'model': smodel}), ('bayestar_chisq', {'maxchisq': 3.0})]\n",
    "\n",
    "\n",
    "final_cut = combine_cuts(df_goodspec, cuts_list)\n",
    "dfalt = df_goodspec.iloc[final_cut, :]\n",
    "spec_utils.print_obj_distribution(dfalt['sdss_dr17_specobj.CLASS'])\n",
    "spec_utils.print_delta_obj_distribution(df_goodspec['sdss_dr17_specobj.CLASS'], dfalt['sdss_dr17_specobj.CLASS'])"
   ]
  },
  {
   "cell_type": "code",
   "execution_count": null,
   "id": "500fcaf6",
   "metadata": {},
   "outputs": [],
   "source": []
  }
 ],
 "metadata": {
  "kernelspec": {
   "display_name": "Python 3",
   "language": "python",
   "name": "python3"
  },
  "language_info": {
   "codemirror_mode": {
    "name": "ipython",
    "version": 3
   },
   "file_extension": ".py",
   "mimetype": "text/x-python",
   "name": "python",
   "nbconvert_exporter": "python",
   "pygments_lexer": "ipython3",
   "version": "3.8.12"
  }
 },
 "nbformat": 4,
 "nbformat_minor": 5
}
