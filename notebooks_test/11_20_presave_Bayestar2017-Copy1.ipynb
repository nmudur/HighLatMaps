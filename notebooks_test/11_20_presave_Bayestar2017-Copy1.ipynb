{
 "cells": [
  {
   "cell_type": "markdown",
   "id": "3f02099e-e67a-437a-ab70-d0f62baa0d2f",
   "metadata": {},
   "source": [
    "#### Saving Bayestar 2017 with sigma"
   ]
  },
  {
   "cell_type": "code",
   "execution_count": 1,
   "id": "eb253d22-c152-4e53-abe0-d717c8d2dd5f",
   "metadata": {},
   "outputs": [],
   "source": [
    "import healpy as hp\n",
    "from dustmaps.bayestar import BayestarQuery\n",
    "from astropy.coordinates import SkyCoord\n",
    "import astropy.units as u\n",
    "import numpy as np"
   ]
  },
  {
   "cell_type": "code",
   "execution_count": 2,
   "id": "f25b2dc0-cecc-4b07-b0f5-ec6c1f8bc9af",
   "metadata": {},
   "outputs": [
    {
     "name": "stdout",
     "output_type": "stream",
     "text": [
      "Loading pixel_info ...\n",
      "Loading samples ...\n",
      "Loading best_fit ...\n",
      "Replacing NaNs in reliable distance estimates ...\n",
      "Sorting pixel_info ...\n",
      "Extracting hp_idx_sorted and data_idx at each nside ...\n",
      "  nside = 64\n",
      "  nside = 128\n",
      "  nside = 256\n",
      "  nside = 512\n",
      "  nside = 1024\n",
      "t = 80.044 s\n",
      "  pix_info:   0.898 s\n",
      "   samples:  66.199 s\n",
      "      best:   3.799 s\n",
      "       nan:   0.090 s\n",
      "      sort:   8.851 s\n",
      "       idx:   0.208 s\n"
     ]
    }
   ],
   "source": [
    "b17= BayestarQuery(version='bayestar2017')"
   ]
  },
  {
   "cell_type": "code",
   "execution_count": 3,
   "id": "17e72a56-5639-4e5f-8392-3c3ba1c7de45",
   "metadata": {},
   "outputs": [],
   "source": [
    "b17map = np.zeros(hp.pixelfunc.nside2npix(2048))"
   ]
  },
  {
   "cell_type": "code",
   "execution_count": 4,
   "id": "acf6b9ef-9028-4e5c-80cf-4c77893c319a",
   "metadata": {},
   "outputs": [],
   "source": [
    "allpix2048 = np.arange(hp.pixelfunc.nside2npix(2048))"
   ]
  },
  {
   "cell_type": "code",
   "execution_count": 5,
   "id": "97da92ff-ed32-44a9-911a-c1180d8aa0f2",
   "metadata": {},
   "outputs": [],
   "source": [
    "lb2048 = hp.pixelfunc.pix2ang(2048, allpix2048, lonlat=True)"
   ]
  },
  {
   "cell_type": "code",
   "execution_count": 6,
   "id": "4c14ea08-d68d-45dc-8131-39f8c92c60e6",
   "metadata": {},
   "outputs": [
    {
     "data": {
      "text/plain": [
       "(array([ 45., 135., 225., ..., 135., 225., 315.]),\n",
       " array([ 89.97715732,  89.97715732,  89.97715732, ..., -89.97715732,\n",
       "        -89.97715732, -89.97715732]))"
      ]
     },
     "execution_count": 6,
     "metadata": {},
     "output_type": "execute_result"
    }
   ],
   "source": [
    "lb2048"
   ]
  },
  {
   "cell_type": "code",
   "execution_count": 7,
   "id": "b6f5fc04-e463-4498-86fd-bb24e6ca8e16",
   "metadata": {},
   "outputs": [],
   "source": [
    "#print('Max Dist', b17.distances[-1], b19.distances[-1])"
   ]
  },
  {
   "cell_type": "code",
   "execution_count": 8,
   "id": "6a79ffad-6b68-4cbb-ac75-2b28c9149701",
   "metadata": {},
   "outputs": [
    {
     "name": "stdout",
     "output_type": "stream",
     "text": [
      "63.095726013183594 kpc\n"
     ]
    }
   ],
   "source": [
    "mindist = b17.distances[-1]\n",
    "print(mindist)"
   ]
  },
  {
   "cell_type": "code",
   "execution_count": 9,
   "id": "6b7a1b8b-6333-4eba-9c97-6a42c6d7b0dd",
   "metadata": {},
   "outputs": [],
   "source": [
    "coords2048 = SkyCoord(l=lb2048[0]*u.deg, b=lb2048[1]*u.deg, distance = mindist, frame='galactic')"
   ]
  },
  {
   "cell_type": "code",
   "execution_count": 10,
   "id": "1aa7772f-bb60-41a6-acc0-f2e86cb483c1",
   "metadata": {},
   "outputs": [],
   "source": [
    "b17map = b17(coords2048, mode='mean')"
   ]
  },
  {
   "cell_type": "code",
   "execution_count": 12,
   "id": "09b94434",
   "metadata": {},
   "outputs": [
    {
     "name": "stderr",
     "output_type": "stream",
     "text": [
      "/n/home02/nmudur/.conda/envs/pytorch_env2/lib/python3.8/site-packages/numpy/lib/nanfunctions.py:1584: RuntimeWarning: All-NaN slice encountered\n",
      "  result = np.apply_along_axis(_nanquantile_1d, axis, a, q,\n"
     ]
    }
   ],
   "source": [
    "pct = [16, 84]\n",
    "bpct = b17(coords2048, mode='percentile', pct=pct)"
   ]
  },
  {
   "cell_type": "code",
   "execution_count": 13,
   "id": "e379afe8",
   "metadata": {},
   "outputs": [
    {
     "data": {
      "text/plain": [
       "(50331648, 2)"
      ]
     },
     "execution_count": 13,
     "metadata": {},
     "output_type": "execute_result"
    }
   ],
   "source": [
    "bpct.shape"
   ]
  },
  {
   "cell_type": "code",
   "execution_count": 14,
   "id": "709d014a",
   "metadata": {},
   "outputs": [],
   "source": [
    "bsigma_map = (bpct[...,1] - bpct[...,0])/2"
   ]
  },
  {
   "cell_type": "code",
   "execution_count": 15,
   "id": "f3abd39c",
   "metadata": {},
   "outputs": [],
   "source": [
    "assert len(bsigma_map)==hp.nside2npix(2048)==len(b17map)"
   ]
  },
  {
   "cell_type": "code",
   "execution_count": 18,
   "id": "24bbe30d-2ff0-4c2a-bb41-eec39d7b7f10",
   "metadata": {},
   "outputs": [
    {
     "data": {
      "text/plain": [
       "True"
      ]
     },
     "execution_count": 18,
     "metadata": {},
     "output_type": "execute_result"
    }
   ],
   "source": [
    "'''bsigma_map_check2 = (bpct[:, 1] - bpct[:, 0])/2\n",
    "np.all((bsigma_map == bsigma_map_check2)[~np.isnan(bsigma_map)]) #same value wherever not nan'''"
   ]
  },
  {
   "cell_type": "code",
   "execution_count": 19,
   "id": "02c367b7-ee94-4652-a9e5-8fce265c278a",
   "metadata": {},
   "outputs": [],
   "source": [
    "import h5py\n",
    "with h5py.File('../reference_maps/bayestar2017_wsigma.hdf5', 'w') as f:\n",
    "    dset = f.create_dataset(\"mean\", data = b17map)\n",
    "    dset = f.create_dataset(\"sigma\", data = bsigma_map)\n",
    "    dset = f.create_dataset(\"coords_lb\", data = np.vstack(lb2048).T)"
   ]
  },
  {
   "cell_type": "code",
   "execution_count": 14,
   "id": "0d0e0231-ee8d-49de-a6e7-ce351b99f246",
   "metadata": {},
   "outputs": [],
   "source": [
    "del b17map"
   ]
  },
  {
   "cell_type": "markdown",
   "id": "8f066b10-649b-49f5-b09e-334d08fbcc4c",
   "metadata": {},
   "source": [
    "##### 2019"
   ]
  },
  {
   "cell_type": "code",
   "execution_count": 2,
   "id": "d9d0e9a8-6223-45b8-958c-502276e374c1",
   "metadata": {},
   "outputs": [
    {
     "name": "stdout",
     "output_type": "stream",
     "text": [
      "Loading pixel_info ...\n",
      "Loading samples ...\n",
      "Loading best_fit ...\n",
      "Replacing NaNs in reliable distance estimates ...\n",
      "Sorting pixel_info ...\n",
      "Extracting hp_idx_sorted and data_idx at each nside ...\n",
      "  nside = 64\n",
      "  nside = 128\n",
      "  nside = 256\n",
      "  nside = 512\n",
      "  nside = 1024\n",
      "t = 41.586 s\n",
      "  pix_info:   0.596 s\n",
      "   samples:  26.292 s\n",
      "      best:   4.285 s\n",
      "       nan:   0.075 s\n",
      "      sort:  10.167 s\n",
      "       idx:   0.170 s\n",
      "59.56621435290109 kpc\n"
     ]
    }
   ],
   "source": [
    "import healpy as hp\n",
    "from dustmaps.bayestar import BayestarQuery\n",
    "from astropy.coordinates import SkyCoord\n",
    "import astropy.units as u\n",
    "import numpy as np\n",
    "import gc\n",
    "import h5py\n",
    "\n",
    "b19 = BayestarQuery(version='bayestar2019')\n",
    "mindist = b19.distances[-1]\n",
    "print(mindist)\n",
    "\n",
    "b19map = np.zeros(hp.pixelfunc.nside2npix(2048))\n",
    "allpix2048 = np.arange(hp.pixelfunc.nside2npix(2048))\n",
    "lb2048 = hp.pixelfunc.pix2ang(2048, allpix2048, lonlat=True)\n",
    "coords2048 = SkyCoord(l=lb2048[0]*u.deg, b=lb2048[1]*u.deg, distance = mindist, frame='galactic')\n",
    "b19map = b19(coords2048, mode='mean')\n",
    "del b19\n",
    "gc.collect()\n",
    "with h5py.File('../reference_maps/bayestar2019.hdf5', 'w') as f:\n",
    "    dset = f.create_dataset(\"mean\", data = b19map)\n",
    "    dset = f.create_dataset(\"coords_lb\", data = np.vstack(lb2048).T)"
   ]
  },
  {
   "cell_type": "code",
   "execution_count": null,
   "id": "3c612777-66e3-4b53-b93a-0dd266935e04",
   "metadata": {},
   "outputs": [],
   "source": []
  }
 ],
 "metadata": {
  "kernelspec": {
   "display_name": "Python 3",
   "language": "python",
   "name": "python3"
  },
  "language_info": {
   "codemirror_mode": {
    "name": "ipython",
    "version": 3
   },
   "file_extension": ".py",
   "mimetype": "text/x-python",
   "name": "python",
   "nbconvert_exporter": "python",
   "pygments_lexer": "ipython3",
   "version": "3.8.12"
  }
 },
 "nbformat": 4,
 "nbformat_minor": 5
}
