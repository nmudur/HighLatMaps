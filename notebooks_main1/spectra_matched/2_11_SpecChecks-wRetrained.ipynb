{
 "cells": [
  {
   "cell_type": "markdown",
   "id": "79e786d9",
   "metadata": {},
   "source": [
    "* Main: This notebook contains the file that has tests on how different cuts remove objects on goodspec."
   ]
  },
  {
   "cell_type": "code",
   "execution_count": 1,
   "id": "6d505162",
   "metadata": {},
   "outputs": [],
   "source": [
    "import numpy as np\n",
    "import pandas as pd\n",
    "import sys\n",
    "import os\n",
    "import matplotlib.pyplot as plt\n",
    "import joblib\n",
    "\n",
    "from astropy.io import fits\n",
    "from functools import reduce\n",
    "from astropy.table import Table\n",
    "\n",
    "sys.path.append('../../methods_code_Nresol/')\n",
    "sys.path.append('../../utils/')\n",
    "import astro_cuts\n",
    "import importlib\n",
    "import spec_utils"
   ]
  },
  {
   "cell_type": "code",
   "execution_count": 2,
   "id": "994771db",
   "metadata": {},
   "outputs": [],
   "source": [
    "dat = Table.read('lsd_scripts/spectrain_2_11_r50.fits', format='fits')"
   ]
  },
  {
   "cell_type": "code",
   "execution_count": 3,
   "id": "bf4268fd",
   "metadata": {},
   "outputs": [
    {
     "data": {
      "text/plain": [
       "array([b'GALAXY', b'QSO', b'STAR'], dtype='|S6')"
      ]
     },
     "execution_count": 3,
     "metadata": {},
     "output_type": "execute_result"
    }
   ],
   "source": [
    "np.unique(np.array(dat['sdss_dr17_specobj.CLASS']))"
   ]
  },
  {
   "cell_type": "code",
   "execution_count": 4,
   "id": "5ab5cf66",
   "metadata": {
    "scrolled": true
   },
   "outputs": [
    {
     "name": "stderr",
     "output_type": "stream",
     "text": [
      "/n/holylfs05/LABS/finkbeiner_lab/Everyone/highlat/notebooks_main1/spectra_matched/spec_utils.py:36: RuntimeWarning: divide by zero encountered in true_divide\n",
      "  df['reduced_chisq'] = df['chisq'].to_numpy() * n_passbands / (n_passbands - 4)\n",
      "/n/holylfs05/LABS/finkbeiner_lab/Everyone/highlat/notebooks_main1/spectra_matched/spec_utils.py:40: RuntimeWarning: divide by zero encountered in power\n",
      "  sdss_flux_sig = np.power(np.array(dat['sdss_dr14_starsweep.psfflux_ivar']), -0.5)\n",
      "/n/holylfs05/LABS/finkbeiner_lab/Everyone/highlat/notebooks_main1/spectra_matched/spec_utils.py:42: RuntimeWarning: divide by zero encountered in log10\n",
      "  df['sdss.pmag_'+b] = 22.5 - 2.5*np.clip(np.log10(np.array(dat['sdss_dr14_starsweep.psfflux'])[:, ib]), 0.0, np.inf)\n",
      "/n/holylfs05/LABS/finkbeiner_lab/Everyone/highlat/notebooks_main1/spectra_matched/spec_utils.py:42: RuntimeWarning: invalid value encountered in log10\n",
      "  df['sdss.pmag_'+b] = 22.5 - 2.5*np.clip(np.log10(np.array(dat['sdss_dr14_starsweep.psfflux'])[:, ib]), 0.0, np.inf)\n"
     ]
    }
   ],
   "source": [
    "fname = 'lsd_scripts/spectrain_2_11_r50.fits'\n",
    "df_allspec = spec_utils.convert_to_dataframe_specmatched(fname)"
   ]
  },
  {
   "cell_type": "code",
   "execution_count": 5,
   "id": "e319c3bb",
   "metadata": {},
   "outputs": [
    {
     "data": {
      "text/plain": [
       "<module 'spec_utils' from '/n/holylfs05/LABS/finkbeiner_lab/Everyone/highlat/notebooks_main1/spectra_matched/spec_utils.py'>"
      ]
     },
     "execution_count": 5,
     "metadata": {},
     "output_type": "execute_result"
    }
   ],
   "source": [
    "importlib.reload(spec_utils)"
   ]
  },
  {
   "cell_type": "code",
   "execution_count": 6,
   "id": "d022b945",
   "metadata": {},
   "outputs": [
    {
     "name": "stdout",
     "output_type": "stream",
     "text": [
      "Number of objects before / after 596315 210713\n",
      "c1 = 0.873, c2 = 0.995, c3 = 0.445\n",
      "Fraction left = 0.353\n"
     ]
    }
   ],
   "source": [
    "df_goodspec = spec_utils.return_goodspec(df_allspec)"
   ]
  },
  {
   "cell_type": "markdown",
   "id": "413e8e45",
   "metadata": {},
   "source": [
    "## Section 1: \n",
    "### How many objects are not stars before cuts?"
   ]
  },
  {
   "cell_type": "code",
   "execution_count": 7,
   "id": "15232674",
   "metadata": {},
   "outputs": [
    {
     "data": {
      "text/plain": [
       "<module 'spec_utils' from '/n/holylfs05/LABS/finkbeiner_lab/Everyone/highlat/notebooks_main1/spectra_matched/spec_utils.py'>"
      ]
     },
     "execution_count": 7,
     "metadata": {},
     "output_type": "execute_result"
    }
   ],
   "source": [
    "importlib.reload(spec_utils)\n",
    "#make a table for this instead"
   ]
  },
  {
   "cell_type": "code",
   "execution_count": 8,
   "id": "dd8b3d99",
   "metadata": {},
   "outputs": [
    {
     "name": "stdout",
     "output_type": "stream",
     "text": [
      "Number of Stars = 175597, Fraction(%) = 83.3347, Ratio(obj:star)*100 = 100\n",
      "Number of Galaxies = 299, Fraction(%) = 0.1419, Ratio(obj:star)*100 = 0.1703\n",
      "Number of QSOs = 34817, Fraction(%) = 16.5234, Ratio(obj:star)*100 = 19.8278\n"
     ]
    }
   ],
   "source": [
    "spec_utils.print_obj_distribution(df_goodspec['sdss_dr17_specobj.CLASS'])"
   ]
  },
  {
   "cell_type": "markdown",
   "id": "83eb71ed",
   "metadata": {},
   "source": [
    "### After cuts: 15e"
   ]
  },
  {
   "cell_type": "code",
   "execution_count": 9,
   "id": "6b9d83e6",
   "metadata": {},
   "outputs": [],
   "source": [
    "nbtest_dir = '../../notebooks_test/'\n",
    "\n",
    "def combine_cuts(df_input, cuts_list):\n",
    "    cutfuncs = [getattr(astro_cuts, ctup[0]) for ctup in cuts_list]\n",
    "    masklist = []\n",
    "    for c, ctup in enumerate(cuts_list):\n",
    "        if len(ctup)==1:\n",
    "            masklist.append(cutfuncs[c](df_input))\n",
    "        else:\n",
    "            masklist.append(cutfuncs[c](df_input, **ctup[1]))\n",
    "        print('Cut{} {} {}'.format(c, np.sum(masklist[c]), np.sum(masklist[c])/len(masklist[c])))\n",
    "    final_cut = reduce(np.logical_and, masklist) #intersection of all cuts\n",
    "    print('Effective Cut = {:.3f}'.format(np.sum(final_cut)/len(final_cut)))\n",
    "    return final_cut"
   ]
  },
  {
   "cell_type": "code",
   "execution_count": 10,
   "id": "3e0ccf13",
   "metadata": {},
   "outputs": [
    {
     "data": {
      "text/plain": [
       "['.ipynb_checkpoints',\n",
       " 'svm_sdss_quasarsep_unbalanced.joblib',\n",
       " 'svm_panstarrs_quasarsep_balanced.joblib',\n",
       " 'svm_sdss_quasarsep_balanced.joblib']"
      ]
     },
     "execution_count": 10,
     "metadata": {},
     "output_type": "execute_result"
    }
   ],
   "source": [
    "os.listdir('models')"
   ]
  },
  {
   "cell_type": "code",
   "execution_count": 11,
   "id": "348dab58",
   "metadata": {},
   "outputs": [
    {
     "name": "stdout",
     "output_type": "stream",
     "text": [
      "Cut0 206622 0.9805849662811502\n",
      "Cut1 197696 0.938224029841538\n",
      "Cut2 192061 0.9114814937853858\n",
      "Cut3 176656 0.8383725731207852\n",
      "Cut4 175386 0.8323454177008538\n",
      "Cut5 200235 0.9502735948897315\n",
      "Effective Cut = 0.730\n",
      "Number of Stars = 153578, Fraction(%) = 99.8375, Ratio(obj:star)*100 = 100\n",
      "Number of Galaxies = 126, Fraction(%) = 0.0819, Ratio(obj:star)*100 = 0.0820\n",
      "Number of QSOs = 124, Fraction(%) = 0.0806, Ratio(obj:star)*100 = 0.0807\n"
     ]
    }
   ],
   "source": [
    "wisemodel = joblib.load('models/svm_panstarrs_quasarsep_balanced.joblib')\n",
    "smodel = joblib.load('models/svm_sdss_quasarsep_unbalanced.joblib')\n",
    "\n",
    "cuts_list = [('distmod_median_cut', {'mindm': 8}), ('e_nonneg_cut_sigfac', {'sigfac': 5.0}),\n",
    "            ('bayestar_chisq_per_passband', {'maxchisq': 5.0}), \n",
    "            ('wise_svmnondetectioncombinedcut', {'model': wisemodel}), ('sdss_uvcut', {'model': smodel}),\n",
    "            ('dm_sigma_cut', {'maxsig': 1.5})]\n",
    "\n",
    "final_cut = combine_cuts(df_goodspec, cuts_list) #intersection of all cuts\n",
    "df15e = df_goodspec.iloc[final_cut, :]\n",
    "spec_utils.print_obj_distribution(df15e['sdss_dr17_specobj.CLASS'])"
   ]
  },
  {
   "cell_type": "code",
   "execution_count": 12,
   "id": "a917b011",
   "metadata": {},
   "outputs": [
    {
     "name": "stdout",
     "output_type": "stream",
     "text": [
      "StarFracChange = 16.503 (%)\n",
      "GalFracChange = -0.060 (%)\n",
      "QSOFracChange = -16.443 (%)\n"
     ]
    }
   ],
   "source": [
    "spec_utils.print_delta_obj_distribution(df_goodspec['sdss_dr17_specobj.CLASS'], df15e['sdss_dr17_specobj.CLASS'])"
   ]
  },
  {
   "cell_type": "code",
   "execution_count": 13,
   "id": "5b62b638",
   "metadata": {},
   "outputs": [
    {
     "data": {
      "text/plain": [
       "'../../notebooks_test/'"
      ]
     },
     "execution_count": 13,
     "metadata": {},
     "output_type": "execute_result"
    }
   ],
   "source": [
    "nbtest_dir"
   ]
  },
  {
   "cell_type": "markdown",
   "id": "5125c7c7",
   "metadata": {},
   "source": [
    "### Ablation Tests: which cut is doing what?"
   ]
  },
  {
   "cell_type": "code",
   "execution_count": 14,
   "id": "f24d3589",
   "metadata": {},
   "outputs": [
    {
     "name": "stdout",
     "output_type": "stream",
     "text": [
      "Cut0 206622 0.9805849662811502\n",
      "Cut1 200235 0.9502735948897315\n",
      "Effective Cut = 0.931\n",
      "Number of Stars = 164022, Fraction(%) = 83.6224, Ratio(obj:star)*100 = 100\n",
      "Number of Galaxies = 282, Fraction(%) = 0.1438, Ratio(obj:star)*100 = 0.1719\n",
      "Number of QSOs = 31842, Fraction(%) = 16.2338, Ratio(obj:star)*100 = 19.4132\n",
      "StarFracChange = 0.288 (%)\n",
      "GalFracChange = 0.002 (%)\n",
      "QSOFracChange = -0.290 (%)\n"
     ]
    }
   ],
   "source": [
    "cuts_list = [('distmod_median_cut', {'mindm': 8}), ('dm_sigma_cut', {'maxsig': 1.5})]\n",
    "\n",
    "final_cut = combine_cuts(df_goodspec, cuts_list)\n",
    "dfalt = df_goodspec.iloc[final_cut, :]\n",
    "spec_utils.print_obj_distribution(dfalt['sdss_dr17_specobj.CLASS'])\n",
    "spec_utils.print_delta_obj_distribution(df_goodspec['sdss_dr17_specobj.CLASS'], dfalt['sdss_dr17_specobj.CLASS'])"
   ]
  },
  {
   "cell_type": "code",
   "execution_count": 15,
   "id": "919b7627",
   "metadata": {},
   "outputs": [
    {
     "name": "stdout",
     "output_type": "stream",
     "text": [
      "Cut0 206622 0.9805849662811502\n",
      "Cut1 200235 0.9502735948897315\n",
      "Cut2 192061 0.9114814937853858\n",
      "Effective Cut = 0.846\n",
      "Number of Stars = 156714, Fraction(%) = 87.8846, Ratio(obj:star)*100 = 100\n",
      "Number of Galaxies = 182, Fraction(%) = 0.1021, Ratio(obj:star)*100 = 0.1161\n",
      "Number of QSOs = 21422, Fraction(%) = 12.0134, Ratio(obj:star)*100 = 13.6695\n",
      "StarFracChange = 4.550 (%)\n",
      "GalFracChange = -0.040 (%)\n",
      "QSOFracChange = -4.510 (%)\n"
     ]
    }
   ],
   "source": [
    "cuts_list = [('distmod_median_cut', {'mindm': 8}), ('dm_sigma_cut', {'maxsig': 1.5}), ('bayestar_chisq_per_passband', {'maxchisq': 5.0})]\n",
    "\n",
    "final_cut = combine_cuts(df_goodspec, cuts_list)\n",
    "dfalt = df_goodspec.iloc[final_cut, :]\n",
    "spec_utils.print_obj_distribution(dfalt['sdss_dr17_specobj.CLASS'])\n",
    "spec_utils.print_delta_obj_distribution(df_goodspec['sdss_dr17_specobj.CLASS'], dfalt['sdss_dr17_specobj.CLASS'])"
   ]
  },
  {
   "cell_type": "code",
   "execution_count": 16,
   "id": "db322ad8",
   "metadata": {},
   "outputs": [
    {
     "name": "stdout",
     "output_type": "stream",
     "text": [
      "Cut0 206622 0.9805849662811502\n",
      "Cut1 200235 0.9502735948897315\n",
      "Cut2 192061 0.9114814937853858\n",
      "Cut3 197696 0.938224029841538\n",
      "Effective Cut = 0.821\n",
      "Number of Stars = 155441, Fraction(%) = 89.7984, Ratio(obj:star)*100 = 100\n",
      "Number of Galaxies = 175, Fraction(%) = 0.1011, Ratio(obj:star)*100 = 0.1126\n",
      "Number of QSOs = 17484, Fraction(%) = 10.1005, Ratio(obj:star)*100 = 11.2480\n",
      "StarFracChange = 6.464 (%)\n",
      "GalFracChange = -0.041 (%)\n",
      "QSOFracChange = -6.423 (%)\n"
     ]
    }
   ],
   "source": [
    "cuts_list = [('distmod_median_cut', {'mindm': 8}), ('dm_sigma_cut', {'maxsig': 1.5}), ('bayestar_chisq_per_passband', {'maxchisq': 5.0}),\n",
    "            ('e_nonneg_cut_sigfac', {'sigfac': 5.0})]\n",
    "\n",
    "final_cut = combine_cuts(df_goodspec, cuts_list)\n",
    "dfalt = df_goodspec.iloc[final_cut, :]\n",
    "spec_utils.print_obj_distribution(dfalt['sdss_dr17_specobj.CLASS'])\n",
    "spec_utils.print_delta_obj_distribution(df_goodspec['sdss_dr17_specobj.CLASS'], dfalt['sdss_dr17_specobj.CLASS'])"
   ]
  },
  {
   "cell_type": "code",
   "execution_count": 17,
   "id": "a03e114a",
   "metadata": {},
   "outputs": [
    {
     "name": "stdout",
     "output_type": "stream",
     "text": [
      "Cut0 206622 0.9805849662811502\n",
      "Cut1 200235 0.9502735948897315\n",
      "Cut2 192061 0.9114814937853858\n",
      "Cut3 197696 0.938224029841538\n",
      "Cut4 176656 0.8383725731207852\n",
      "Effective Cut = 0.738\n",
      "Number of Stars = 154486, Fraction(%) = 99.3058, Ratio(obj:star)*100 = 100\n",
      "Number of Galaxies = 142, Fraction(%) = 0.0913, Ratio(obj:star)*100 = 0.0919\n",
      "Number of QSOs = 938, Fraction(%) = 0.6030, Ratio(obj:star)*100 = 0.6072\n",
      "StarFracChange = 15.971 (%)\n",
      "GalFracChange = -0.051 (%)\n",
      "QSOFracChange = -15.920 (%)\n"
     ]
    }
   ],
   "source": [
    "cuts_list = [('distmod_median_cut', {'mindm': 8}), ('dm_sigma_cut', {'maxsig': 1.5}), ('bayestar_chisq_per_passband', {'maxchisq': 5.0}),\n",
    "            ('e_nonneg_cut_sigfac', {'sigfac': 5.0}), ('wise_svmnondetectioncombinedcut', {'model': wisemodel})]\n",
    "\n",
    "final_cut = combine_cuts(df_goodspec, cuts_list)\n",
    "dfalt = df_goodspec.iloc[final_cut, :]\n",
    "spec_utils.print_obj_distribution(dfalt['sdss_dr17_specobj.CLASS'])\n",
    "spec_utils.print_delta_obj_distribution(df_goodspec['sdss_dr17_specobj.CLASS'], dfalt['sdss_dr17_specobj.CLASS'])"
   ]
  },
  {
   "cell_type": "code",
   "execution_count": 18,
   "id": "39aff980",
   "metadata": {},
   "outputs": [
    {
     "name": "stdout",
     "output_type": "stream",
     "text": [
      "Cut0 206622 0.9805849662811502\n",
      "Cut1 200235 0.9502735948897315\n",
      "Cut2 192061 0.9114814937853858\n",
      "Cut3 197696 0.938224029841538\n",
      "Cut4 176656 0.8383725731207852\n",
      "Cut5 175386 0.8323454177008538\n",
      "Effective Cut = 0.730\n",
      "Number of Stars = 153578, Fraction(%) = 99.8375, Ratio(obj:star)*100 = 100\n",
      "Number of Galaxies = 126, Fraction(%) = 0.0819, Ratio(obj:star)*100 = 0.0820\n",
      "Number of QSOs = 124, Fraction(%) = 0.0806, Ratio(obj:star)*100 = 0.0807\n",
      "StarFracChange = 16.503 (%)\n",
      "GalFracChange = -0.060 (%)\n",
      "QSOFracChange = -16.443 (%)\n"
     ]
    }
   ],
   "source": [
    "cuts_list = [('distmod_median_cut', {'mindm': 8}), ('dm_sigma_cut', {'maxsig': 1.5}), ('bayestar_chisq_per_passband', {'maxchisq': 5.0}),\n",
    "            ('e_nonneg_cut_sigfac', {'sigfac': 5.0}), ('wise_svmnondetectioncombinedcut', {'model': wisemodel}), ('sdss_uvcut', {'model': smodel})]\n",
    "\n",
    "final_cut = combine_cuts(df_goodspec, cuts_list)\n",
    "dfalt = df_goodspec.iloc[final_cut, :]\n",
    "spec_utils.print_obj_distribution(dfalt['sdss_dr17_specobj.CLASS'])\n",
    "spec_utils.print_delta_obj_distribution(df_goodspec['sdss_dr17_specobj.CLASS'], dfalt['sdss_dr17_specobj.CLASS'])"
   ]
  },
  {
   "cell_type": "markdown",
   "id": "a6b20fb3",
   "metadata": {},
   "source": [
    "### Alternative cuts"
   ]
  },
  {
   "cell_type": "code",
   "execution_count": 19,
   "id": "ba0c6478",
   "metadata": {},
   "outputs": [
    {
     "name": "stdout",
     "output_type": "stream",
     "text": [
      "Cut0 206622 0.9805849662811502\n",
      "Cut1 197696 0.938224029841538\n",
      "Cut2 192061 0.9114814937853858\n",
      "Cut3 176656 0.8383725731207852\n",
      "Cut4 175386 0.8323454177008538\n",
      "Cut5 200235 0.9502735948897315\n",
      "Cut6 178034 0.8449122740409941\n",
      "Effective Cut = 0.729\n",
      "Number of Stars = 153424, Fraction(%) = 99.8380, Ratio(obj:star)*100 = 100\n",
      "Number of Galaxies = 125, Fraction(%) = 0.0813, Ratio(obj:star)*100 = 0.0815\n",
      "Number of QSOs = 124, Fraction(%) = 0.0807, Ratio(obj:star)*100 = 0.0808\n"
     ]
    }
   ],
   "source": [
    "wisemodel = joblib.load('models/svm_panstarrs_quasarsep_balanced.joblib')\n",
    "smodel = joblib.load('models/svm_sdss_quasarsep_unbalanced.joblib')\n",
    "w123model = joblib.load(nbtest_dir+'intermed/2_4/svm_w1-w2-w3_2-4.joblib')\n",
    "cuts_list = [('distmod_median_cut', {'mindm': 8}), ('e_nonneg_cut_sigfac', {'sigfac': 5.0}),\n",
    "            ('bayestar_chisq_per_passband', {'maxchisq': 5.0}), \n",
    "            ('wise_svmnondetectioncombinedcut', {'model': wisemodel}), ('sdss_uvcut', {'model': smodel}),\n",
    "            ('dm_sigma_cut', {'maxsig': 1.5}), ('w1_w2_w3cut', {'model': w123model})]\n",
    "\n",
    "final_cut = combine_cuts(df_goodspec, cuts_list) #intersection of all cuts\n",
    "df15e = df_goodspec.iloc[final_cut, :]\n",
    "spec_utils.print_obj_distribution(df15e['sdss_dr17_specobj.CLASS'])"
   ]
  },
  {
   "cell_type": "code",
   "execution_count": 20,
   "id": "cfd0026c",
   "metadata": {},
   "outputs": [
    {
     "name": "stdout",
     "output_type": "stream",
     "text": [
      "StarFracChange = 16.503 (%)\n",
      "GalFracChange = -0.061 (%)\n",
      "QSOFracChange = -16.443 (%)\n"
     ]
    }
   ],
   "source": [
    "spec_utils.print_delta_obj_distribution(df_goodspec['sdss_dr17_specobj.CLASS'], df15e['sdss_dr17_specobj.CLASS'])"
   ]
  },
  {
   "cell_type": "code",
   "execution_count": 21,
   "id": "3a02eb72",
   "metadata": {},
   "outputs": [
    {
     "name": "stdout",
     "output_type": "stream",
     "text": [
      "Cut0 206622 0.9805849662811502\n",
      "Cut1 197696 0.938224029841538\n",
      "Cut2 192061 0.9114814937853858\n",
      "Cut3 176656 0.8383725731207852\n",
      "Cut4 175386 0.8323454177008538\n",
      "Cut5 200235 0.9502735948897315\n",
      "Cut6 204439 0.9702249030672051\n",
      "Effective Cut = 0.722\n",
      "Number of Stars = 151872, Fraction(%) = 99.8468, Ratio(obj:star)*100 = 100\n",
      "Number of Galaxies = 118, Fraction(%) = 0.0776, Ratio(obj:star)*100 = 0.0777\n",
      "Number of QSOs = 115, Fraction(%) = 0.0756, Ratio(obj:star)*100 = 0.0757\n"
     ]
    }
   ],
   "source": [
    "wisemodel = joblib.load('models/svm_panstarrs_quasarsep_balanced.joblib')\n",
    "smodel = joblib.load('models/svm_sdss_quasarsep_unbalanced.joblib')\n",
    "w123model = joblib.load(nbtest_dir+'intermed/2_4/svm_w1-w2-w3_2-4.joblib')\n",
    "cuts_list = [('distmod_median_cut', {'mindm': 8}), ('e_nonneg_cut_sigfac', {'sigfac': 5.0}),\n",
    "            ('bayestar_chisq_per_passband', {'maxchisq': 5.0}), \n",
    "            ('wise_svmnondetectioncombinedcut', {'model': wisemodel}), ('sdss_uvcut', {'model': smodel}),\n",
    "            ('dm_sigma_cut', {'maxsig': 1.5}), ('e_sigma_cut', {'maxsig': 0.4})]\n",
    "\n",
    "final_cut = combine_cuts(df_goodspec, cuts_list) #intersection of all cuts\n",
    "dfalt = df_goodspec.iloc[final_cut, :]\n",
    "spec_utils.print_obj_distribution(dfalt['sdss_dr17_specobj.CLASS'])"
   ]
  },
  {
   "cell_type": "code",
   "execution_count": 22,
   "id": "f1526563",
   "metadata": {},
   "outputs": [
    {
     "name": "stdout",
     "output_type": "stream",
     "text": [
      "StarFracChange = 16.512 (%)\n",
      "GalFracChange = -0.064 (%)\n",
      "QSOFracChange = -16.448 (%)\n"
     ]
    }
   ],
   "source": [
    "spec_utils.print_delta_obj_distribution(df_goodspec['sdss_dr17_specobj.CLASS'], dfalt['sdss_dr17_specobj.CLASS'])"
   ]
  },
  {
   "cell_type": "code",
   "execution_count": 26,
   "id": "ec2c5fd7",
   "metadata": {},
   "outputs": [
    {
     "data": {
      "text/plain": [
       "<module 'astro_cuts' from '/n/holylfs05/LABS/finkbeiner_lab/Everyone/highlat/notebooks_main1/spectra_matched/../../methods_code_Nresol/astro_cuts.py'>"
      ]
     },
     "execution_count": 26,
     "metadata": {},
     "output_type": "execute_result"
    }
   ],
   "source": [
    "importlib.reload(astro_cuts)"
   ]
  },
  {
   "cell_type": "code",
   "execution_count": 24,
   "id": "bb6d3eec",
   "metadata": {},
   "outputs": [
    {
     "name": "stdout",
     "output_type": "stream",
     "text": [
      "Cut0 206622 0.9805849662811502\n",
      "Cut1 197696 0.938224029841538\n",
      "Cut2 192061 0.9114814937853858\n",
      "Cut3 176656 0.8383725731207852\n",
      "Cut4 174196 0.8266979256144614\n",
      "Cut5 200235 0.9502735948897315\n",
      "Cut6 204439 0.9702249030672051\n",
      "Effective Cut = 0.718\n",
      "Number of Stars = 151237, Fraction(%) = 99.9135, Ratio(obj:star)*100 = 100\n",
      "Number of Galaxies = 77, Fraction(%) = 0.0509, Ratio(obj:star)*100 = 0.0509\n",
      "Number of QSOs = 54, Fraction(%) = 0.0357, Ratio(obj:star)*100 = 0.0357\n"
     ]
    }
   ],
   "source": [
    "#some contiguous patches have all mags at 22.5 -- NEED to impose that criterion in detected_all\n",
    "wisemodel = joblib.load('models/svm_panstarrs_quasarsep_balanced.joblib')\n",
    "smodel = joblib.load('models/svm_sdss_quasarsep_unbalanced.joblib')\n",
    "w123model = joblib.load(nbtest_dir+'intermed/2_4/svm_w1-w2-w3_2-4.joblib')\n",
    "cuts_list = [('distmod_median_cut', {'mindm': 8}), ('e_nonneg_cut_sigfac', {'sigfac': 5.0}),\n",
    "            ('bayestar_chisq_per_passband', {'maxchisq': 5.0}), \n",
    "            ('wise_svmnondetectioncombinedcut', {'model': wisemodel}), ('sdss_uvcut_strict', {'model': smodel}),\n",
    "            ('dm_sigma_cut', {'maxsig': 1.5}), ('e_sigma_cut', {'maxsig': 0.4})]\n",
    "\n",
    "final_cut = combine_cuts(df_goodspec, cuts_list) #intersection of all cuts\n",
    "dfalt = df_goodspec.iloc[final_cut, :]\n",
    "spec_utils.print_obj_distribution(dfalt['sdss_dr17_specobj.CLASS'])"
   ]
  },
  {
   "cell_type": "code",
   "execution_count": 25,
   "id": "9f767ccf",
   "metadata": {},
   "outputs": [
    {
     "name": "stdout",
     "output_type": "stream",
     "text": [
      "StarFracChange = 16.579 (%)\n",
      "GalFracChange = -0.091 (%)\n",
      "QSOFracChange = -16.488 (%)\n"
     ]
    }
   ],
   "source": [
    "spec_utils.print_delta_obj_distribution(df_goodspec['sdss_dr17_specobj.CLASS'], dfalt['sdss_dr17_specobj.CLASS'])"
   ]
  },
  {
   "cell_type": "code",
   "execution_count": 30,
   "id": "95385ee5",
   "metadata": {},
   "outputs": [
    {
     "name": "stdout",
     "output_type": "stream",
     "text": [
      "Cut0 206622 0.9805849662811502\n",
      "Cut1 197696 0.938224029841538\n",
      "Cut2 192061 0.9114814937853858\n",
      "Cut3 176656 0.8383725731207852\n",
      "Cut4 175386 0.8323454177008538\n",
      "Cut5 200235 0.9502735948897315\n",
      "Cut6 204439 0.9702249030672051\n",
      "Effective Cut = 0.722\n",
      "Number of Stars = 151872, Fraction(%) = 99.8468, Ratio(obj:star)*100 = 100\n",
      "Number of Galaxies = 118, Fraction(%) = 0.0776, Ratio(obj:star)*100 = 0.0777\n",
      "Number of QSOs = 115, Fraction(%) = 0.0756, Ratio(obj:star)*100 = 0.0757\n"
     ]
    }
   ],
   "source": [
    "#15i: with the 22.5 check in det_all\n",
    "wisemodel = joblib.load('models/svm_panstarrs_quasarsep_balanced.joblib')\n",
    "smodel = joblib.load('models/svm_sdss_quasarsep_unbalanced.joblib')\n",
    "cuts_list = [('distmod_median_cut', {'mindm': 8}), ('e_nonneg_cut_sigfac', {'sigfac': 5.0}),\n",
    "            ('bayestar_chisq_per_passband', {'maxchisq': 5.0}), \n",
    "            ('wise_svmnondetectioncombinedcut', {'model': wisemodel}), ('sdss_uvcut', {'model': smodel}),\n",
    "            ('dm_sigma_cut', {'maxsig': 1.5}), ('e_sigma_cut', {'maxsig': 0.4})]\n",
    "\n",
    "final_cut = combine_cuts(df_goodspec, cuts_list) #intersection of all cuts\n",
    "dfalt = df_goodspec.iloc[final_cut, :]\n",
    "spec_utils.print_obj_distribution(dfalt['sdss_dr17_specobj.CLASS'])"
   ]
  },
  {
   "cell_type": "code",
   "execution_count": 31,
   "id": "75ca82cb",
   "metadata": {},
   "outputs": [
    {
     "name": "stdout",
     "output_type": "stream",
     "text": [
      "StarFracChange = 16.512 (%)\n",
      "GalFracChange = -0.064 (%)\n",
      "QSOFracChange = -16.448 (%)\n"
     ]
    }
   ],
   "source": [
    "spec_utils.print_delta_obj_distribution(df_goodspec['sdss_dr17_specobj.CLASS'], dfalt['sdss_dr17_specobj.CLASS'])"
   ]
  }
 ],
 "metadata": {
  "kernelspec": {
   "display_name": "Python 3",
   "language": "python",
   "name": "python3"
  },
  "language_info": {
   "codemirror_mode": {
    "name": "ipython",
    "version": 3
   },
   "file_extension": ".py",
   "mimetype": "text/x-python",
   "name": "python",
   "nbconvert_exporter": "python",
   "pygments_lexer": "ipython3",
   "version": "3.8.12"
  }
 },
 "nbformat": 4,
 "nbformat_minor": 5
}
