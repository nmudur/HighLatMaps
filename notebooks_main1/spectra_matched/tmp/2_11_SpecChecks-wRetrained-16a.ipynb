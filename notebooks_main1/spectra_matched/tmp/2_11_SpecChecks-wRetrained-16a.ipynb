{
 "cells": [
  {
   "cell_type": "markdown",
   "id": "79e786d9",
   "metadata": {},
   "source": [
    "* Main: This notebook contains the file that has tests on how different cuts remove objects on goodspec.\n",
    "* Updated with 16a "
   ]
  },
  {
   "cell_type": "code",
   "execution_count": 1,
   "id": "6d505162",
   "metadata": {},
   "outputs": [],
   "source": [
    "import numpy as np\n",
    "import pandas as pd\n",
    "import sys\n",
    "import os\n",
    "import matplotlib.pyplot as plt\n",
    "import joblib\n",
    "\n",
    "from astropy.io import fits\n",
    "from functools import reduce\n",
    "from astropy.table import Table\n",
    "\n",
    "sys.path.append('../../methods_code_Nresol/')\n",
    "sys.path.append('../../utils/')\n",
    "import astro_cuts\n",
    "import importlib\n",
    "import spec_utils"
   ]
  },
  {
   "cell_type": "code",
   "execution_count": 2,
   "id": "994771db",
   "metadata": {},
   "outputs": [],
   "source": [
    "dat = Table.read('lsd_scripts/spectrain_2_11_r50.fits', format='fits')"
   ]
  },
  {
   "cell_type": "code",
   "execution_count": 3,
   "id": "bf4268fd",
   "metadata": {},
   "outputs": [
    {
     "data": {
      "text/plain": [
       "array([b'GALAXY', b'QSO', b'STAR'], dtype='|S6')"
      ]
     },
     "execution_count": 3,
     "metadata": {},
     "output_type": "execute_result"
    }
   ],
   "source": [
    "np.unique(np.array(dat['sdss_dr17_specobj.CLASS']))"
   ]
  },
  {
   "cell_type": "code",
   "execution_count": 4,
   "id": "5ab5cf66",
   "metadata": {
    "scrolled": true
   },
   "outputs": [
    {
     "name": "stderr",
     "output_type": "stream",
     "text": [
      "/n/holylfs05/LABS/finkbeiner_lab/Everyone/highlat/notebooks_main1/spectra_matched/spec_utils.py:36: RuntimeWarning: divide by zero encountered in true_divide\n",
      "  df['reduced_chisq'] = df['chisq'].to_numpy() * n_passbands / (n_passbands - 4)\n",
      "/n/holylfs05/LABS/finkbeiner_lab/Everyone/highlat/notebooks_main1/spectra_matched/spec_utils.py:40: RuntimeWarning: divide by zero encountered in power\n",
      "  sdss_flux_sig = np.power(np.array(dat['sdss_dr14_starsweep.psfflux_ivar']), -0.5)\n",
      "/n/holylfs05/LABS/finkbeiner_lab/Everyone/highlat/notebooks_main1/spectra_matched/spec_utils.py:42: RuntimeWarning: divide by zero encountered in log10\n",
      "  df['sdss.pmag_'+b] = 22.5 - 2.5*np.clip(np.log10(np.array(dat['sdss_dr14_starsweep.psfflux'])[:, ib]), 0.0, np.inf)\n",
      "/n/holylfs05/LABS/finkbeiner_lab/Everyone/highlat/notebooks_main1/spectra_matched/spec_utils.py:42: RuntimeWarning: invalid value encountered in log10\n",
      "  df['sdss.pmag_'+b] = 22.5 - 2.5*np.clip(np.log10(np.array(dat['sdss_dr14_starsweep.psfflux'])[:, ib]), 0.0, np.inf)\n"
     ]
    }
   ],
   "source": [
    "fname = 'lsd_scripts/spectrain_2_11_r50.fits'\n",
    "df_allspec = spec_utils.convert_to_dataframe_specmatched(fname)"
   ]
  },
  {
   "cell_type": "code",
   "execution_count": 5,
   "id": "e319c3bb",
   "metadata": {},
   "outputs": [
    {
     "data": {
      "text/plain": [
       "<module 'spec_utils' from '/n/holylfs05/LABS/finkbeiner_lab/Everyone/highlat/notebooks_main1/spectra_matched/spec_utils.py'>"
      ]
     },
     "execution_count": 5,
     "metadata": {},
     "output_type": "execute_result"
    }
   ],
   "source": [
    "importlib.reload(spec_utils)"
   ]
  },
  {
   "cell_type": "code",
   "execution_count": 6,
   "id": "d022b945",
   "metadata": {},
   "outputs": [
    {
     "name": "stdout",
     "output_type": "stream",
     "text": [
      "Number of objects before / after 596315 210713\n",
      "c1 = 0.873, c2 = 0.995, c3 = 0.445\n",
      "Fraction left = 0.353\n"
     ]
    }
   ],
   "source": [
    "df_goodspec = spec_utils.return_goodspec(df_allspec)"
   ]
  },
  {
   "cell_type": "markdown",
   "id": "413e8e45",
   "metadata": {},
   "source": [
    "## Section 1: \n",
    "### How many objects are not stars before cuts?"
   ]
  },
  {
   "cell_type": "code",
   "execution_count": 7,
   "id": "15232674",
   "metadata": {},
   "outputs": [
    {
     "data": {
      "text/plain": [
       "<module 'spec_utils' from '/n/holylfs05/LABS/finkbeiner_lab/Everyone/highlat/notebooks_main1/spectra_matched/spec_utils.py'>"
      ]
     },
     "execution_count": 7,
     "metadata": {},
     "output_type": "execute_result"
    }
   ],
   "source": [
    "importlib.reload(spec_utils)\n",
    "#make a table for this instead"
   ]
  },
  {
   "cell_type": "code",
   "execution_count": 8,
   "id": "dd8b3d99",
   "metadata": {},
   "outputs": [
    {
     "name": "stdout",
     "output_type": "stream",
     "text": [
      "Number of Stars = 175597, Fraction(%) = 83.3347, Ratio(obj:star)*100 = 100\n",
      "Number of Galaxies = 299, Fraction(%) = 0.1419, Ratio(obj:star)*100 = 0.1703\n",
      "Number of QSOs = 34817, Fraction(%) = 16.5234, Ratio(obj:star)*100 = 19.8278\n"
     ]
    }
   ],
   "source": [
    "spec_utils.print_obj_distribution(df_goodspec['sdss_dr17_specobj.CLASS'])"
   ]
  },
  {
   "cell_type": "markdown",
   "id": "83eb71ed",
   "metadata": {},
   "source": [
    "### After cuts: 16a"
   ]
  },
  {
   "cell_type": "code",
   "execution_count": 9,
   "id": "81963fa1",
   "metadata": {},
   "outputs": [],
   "source": [
    "nbtest_dir = '../../notebooks_test/'"
   ]
  },
  {
   "cell_type": "code",
   "execution_count": 10,
   "id": "6b9d83e6",
   "metadata": {},
   "outputs": [],
   "source": [
    "def combine_cuts(df_input, cuts_list):\n",
    "    cutfuncs = [getattr(astro_cuts, ctup[0]) for ctup in cuts_list]\n",
    "    masklist = []\n",
    "    for c, ctup in enumerate(cuts_list):\n",
    "        if len(ctup)==1:\n",
    "            masklist.append(cutfuncs[c](df_input))\n",
    "        else:\n",
    "            masklist.append(cutfuncs[c](df_input, **ctup[1]))\n",
    "        print('Cut{} {} {}'.format(c, np.sum(masklist[c]), np.sum(masklist[c])/len(masklist[c])))\n",
    "    final_cut = reduce(np.logical_and, masklist) #intersection of all cuts\n",
    "    print('Effective Cut = {:.3f}'.format(np.sum(final_cut)/len(final_cut)))\n",
    "    return final_cut"
   ]
  },
  {
   "cell_type": "code",
   "execution_count": 11,
   "id": "3e0ccf13",
   "metadata": {},
   "outputs": [
    {
     "data": {
      "text/plain": [
       "['.ipynb_checkpoints',\n",
       " 'svm_sdss_quasarsep_unbalanced.joblib',\n",
       " 'svm_panstarrs_quasarsep_balanced.joblib',\n",
       " 'svm_sdss_quasarsep_balanced.joblib']"
      ]
     },
     "execution_count": 11,
     "metadata": {},
     "output_type": "execute_result"
    }
   ],
   "source": [
    "os.listdir('models')"
   ]
  },
  {
   "cell_type": "code",
   "execution_count": 11,
   "id": "348dab58",
   "metadata": {},
   "outputs": [
    {
     "name": "stdout",
     "output_type": "stream",
     "text": [
      "Cut0 206622 0.9805849662811502\n",
      "Cut1 200235 0.9502735948897315\n",
      "Cut2 176656 0.8383725731207852\n",
      "Cut3 210106 0.997119304456773\n",
      "Cut4 175386 0.8323454177008538\n",
      "Cut5 156011 0.740395704109381\n",
      "Effective Cut = 0.667\n",
      "Number of Stars = 140519, Fraction(%) = 99.9232, Ratio(obj:star)*100 = 100\n",
      "Number of Galaxies = 55, Fraction(%) = 0.0391, Ratio(obj:star)*100 = 0.0391\n",
      "Number of QSOs = 53, Fraction(%) = 0.0377, Ratio(obj:star)*100 = 0.0377\n"
     ]
    }
   ],
   "source": [
    "wisemodel = joblib.load('models/svm_panstarrs_quasarsep_balanced.joblib')\n",
    "smodel = joblib.load('models/svm_sdss_quasarsep_unbalanced.joblib')\n",
    "\n",
    "cuts_list = [('distmod_median_cut', {'mindm': 8}), ('dm_sigma_cut', {'maxsig': 1.5}), \n",
    "             ('wise_svmnondetectioncombinedcut', {'model': wisemodel}), ('parallax_nan_edr3',),\n",
    "             ('sdss_uvcut', {'model': smodel}), ('bayestar_chisq', {'maxchisq': 3.0})]\n",
    "\n",
    "final_cut = combine_cuts(df_goodspec, cuts_list) #intersection of all cuts\n",
    "df15k = df_goodspec.iloc[final_cut, :]\n",
    "spec_utils.print_obj_distribution(df15k['sdss_dr17_specobj.CLASS'])"
   ]
  },
  {
   "cell_type": "code",
   "execution_count": 12,
   "id": "a917b011",
   "metadata": {},
   "outputs": [
    {
     "name": "stdout",
     "output_type": "stream",
     "text": [
      "StarFracChange = 16.589 (%)\n",
      "GalFracChange = -0.103 (%)\n",
      "QSOFracChange = -16.486 (%)\n",
      "Stars thrown out = -35078\n"
     ]
    }
   ],
   "source": [
    "spec_utils.print_delta_obj_distribution(df_goodspec['sdss_dr17_specobj.CLASS'], df15k['sdss_dr17_specobj.CLASS'])"
   ]
  },
  {
   "cell_type": "code",
   "execution_count": 13,
   "id": "5b62b638",
   "metadata": {},
   "outputs": [
    {
     "data": {
      "text/plain": [
       "'../../notebooks_test/'"
      ]
     },
     "execution_count": 13,
     "metadata": {},
     "output_type": "execute_result"
    }
   ],
   "source": [
    "nbtest_dir"
   ]
  },
  {
   "cell_type": "markdown",
   "id": "5125c7c7",
   "metadata": {},
   "source": [
    "### Ablation Tests: which cut is doing what?"
   ]
  },
  {
   "cell_type": "code",
   "execution_count": 14,
   "id": "f24d3589",
   "metadata": {},
   "outputs": [
    {
     "name": "stdout",
     "output_type": "stream",
     "text": [
      "Cut0 206622 0.9805849662811502\n",
      "Cut1 200235 0.9502735948897315\n",
      "Effective Cut = 0.931\n",
      "Number of Stars = 164022, Fraction(%) = 83.6224, Ratio(obj:star)*100 = 100\n",
      "Number of Galaxies = 282, Fraction(%) = 0.1438, Ratio(obj:star)*100 = 0.1719\n",
      "Number of QSOs = 31842, Fraction(%) = 16.2338, Ratio(obj:star)*100 = 19.4132\n",
      "StarFracChange = 0.288 (%)\n",
      "GalFracChange = 0.002 (%)\n",
      "QSOFracChange = -0.290 (%)\n",
      "Stars thrown out = -11575\n"
     ]
    }
   ],
   "source": [
    "cuts_list = [('distmod_median_cut', {'mindm': 8}), ('dm_sigma_cut', {'maxsig': 1.5})]\n",
    "\n",
    "final_cut = combine_cuts(df_goodspec, cuts_list)\n",
    "dfalt = df_goodspec.iloc[final_cut, :]\n",
    "spec_utils.print_obj_distribution(dfalt['sdss_dr17_specobj.CLASS'])\n",
    "spec_utils.print_delta_obj_distribution(df_goodspec['sdss_dr17_specobj.CLASS'], dfalt['sdss_dr17_specobj.CLASS'])"
   ]
  },
  {
   "cell_type": "code",
   "execution_count": 15,
   "id": "919b7627",
   "metadata": {},
   "outputs": [
    {
     "name": "stdout",
     "output_type": "stream",
     "text": [
      "Cut0 206622 0.9805849662811502\n",
      "Cut1 200235 0.9502735948897315\n",
      "Cut2 176656 0.8383725731207852\n",
      "Effective Cut = 0.783\n",
      "Number of Stars = 162841, Fraction(%) = 98.6527, Ratio(obj:star)*100 = 100\n",
      "Number of Galaxies = 208, Fraction(%) = 0.1260, Ratio(obj:star)*100 = 0.1277\n",
      "Number of QSOs = 2016, Fraction(%) = 1.2213, Ratio(obj:star)*100 = 1.2380\n",
      "StarFracChange = 15.318 (%)\n",
      "GalFracChange = -0.016 (%)\n",
      "QSOFracChange = -15.302 (%)\n",
      "Stars thrown out = -12756\n"
     ]
    }
   ],
   "source": [
    "cuts_list = [('distmod_median_cut', {'mindm': 8}), ('dm_sigma_cut', {'maxsig': 1.5}), ('wise_svmnondetectioncombinedcut', {'model': wisemodel})]\n",
    "\n",
    "final_cut = combine_cuts(df_goodspec, cuts_list)\n",
    "dfalt = df_goodspec.iloc[final_cut, :]\n",
    "spec_utils.print_obj_distribution(dfalt['sdss_dr17_specobj.CLASS'])\n",
    "spec_utils.print_delta_obj_distribution(df_goodspec['sdss_dr17_specobj.CLASS'], dfalt['sdss_dr17_specobj.CLASS'])"
   ]
  },
  {
   "cell_type": "code",
   "execution_count": 16,
   "id": "db322ad8",
   "metadata": {},
   "outputs": [
    {
     "name": "stdout",
     "output_type": "stream",
     "text": [
      "Cut0 206622 0.9805849662811502\n",
      "Cut1 200235 0.9502735948897315\n",
      "Cut2 176656 0.8383725731207852\n",
      "Cut3 210106 0.997119304456773\n",
      "Effective Cut = 0.781\n",
      "Number of Stars = 162500, Fraction(%) = 98.6822, Ratio(obj:star)*100 = 100\n",
      "Number of Galaxies = 154, Fraction(%) = 0.0935, Ratio(obj:star)*100 = 0.0948\n",
      "Number of QSOs = 2016, Fraction(%) = 1.2243, Ratio(obj:star)*100 = 1.2406\n",
      "StarFracChange = 15.348 (%)\n",
      "GalFracChange = -0.048 (%)\n",
      "QSOFracChange = -15.299 (%)\n",
      "Stars thrown out = -13097\n"
     ]
    }
   ],
   "source": [
    "cuts_list = [('distmod_median_cut', {'mindm': 8}), ('dm_sigma_cut', {'maxsig': 1.5}), ('wise_svmnondetectioncombinedcut', {'model': wisemodel}), ('parallax_nan_edr3',)]\n",
    "\n",
    "final_cut = combine_cuts(df_goodspec, cuts_list)\n",
    "dfalt = df_goodspec.iloc[final_cut, :]\n",
    "spec_utils.print_obj_distribution(dfalt['sdss_dr17_specobj.CLASS'])\n",
    "spec_utils.print_delta_obj_distribution(df_goodspec['sdss_dr17_specobj.CLASS'], dfalt['sdss_dr17_specobj.CLASS'])"
   ]
  },
  {
   "cell_type": "code",
   "execution_count": 17,
   "id": "a03e114a",
   "metadata": {},
   "outputs": [
    {
     "name": "stdout",
     "output_type": "stream",
     "text": [
      "Cut0 206622 0.9805849662811502\n",
      "Cut1 200235 0.9502735948897315\n",
      "Cut2 176656 0.8383725731207852\n",
      "Cut3 210106 0.997119304456773\n",
      "Cut4 175386 0.8323454177008538\n",
      "Effective Cut = 0.765\n",
      "Number of Stars = 160589, Fraction(%) = 99.6661, Ratio(obj:star)*100 = 100\n",
      "Number of Galaxies = 119, Fraction(%) = 0.0739, Ratio(obj:star)*100 = 0.0741\n",
      "Number of QSOs = 419, Fraction(%) = 0.2600, Ratio(obj:star)*100 = 0.2609\n",
      "StarFracChange = 16.331 (%)\n",
      "GalFracChange = -0.068 (%)\n",
      "QSOFracChange = -16.263 (%)\n",
      "Stars thrown out = -15008\n"
     ]
    }
   ],
   "source": [
    "cuts_list = [('distmod_median_cut', {'mindm': 8}), ('dm_sigma_cut', {'maxsig': 1.5}), \n",
    "             ('wise_svmnondetectioncombinedcut', {'model': wisemodel}), ('parallax_nan_edr3',),\n",
    "             ('sdss_uvcut', {'model': smodel})]\n",
    "\n",
    "final_cut = combine_cuts(df_goodspec, cuts_list)\n",
    "dfalt = df_goodspec.iloc[final_cut, :]\n",
    "spec_utils.print_obj_distribution(dfalt['sdss_dr17_specobj.CLASS'])\n",
    "spec_utils.print_delta_obj_distribution(df_goodspec['sdss_dr17_specobj.CLASS'], dfalt['sdss_dr17_specobj.CLASS'])"
   ]
  },
  {
   "cell_type": "code",
   "execution_count": 18,
   "id": "39aff980",
   "metadata": {},
   "outputs": [
    {
     "name": "stdout",
     "output_type": "stream",
     "text": [
      "Cut0 206622 0.9805849662811502\n",
      "Cut1 200235 0.9502735948897315\n",
      "Cut2 176656 0.8383725731207852\n",
      "Cut3 210106 0.997119304456773\n",
      "Cut4 175386 0.8323454177008538\n",
      "Cut5 156011 0.740395704109381\n",
      "Effective Cut = 0.667\n",
      "Number of Stars = 140519, Fraction(%) = 99.9232, Ratio(obj:star)*100 = 100\n",
      "Number of Galaxies = 55, Fraction(%) = 0.0391, Ratio(obj:star)*100 = 0.0391\n",
      "Number of QSOs = 53, Fraction(%) = 0.0377, Ratio(obj:star)*100 = 0.0377\n",
      "StarFracChange = 16.589 (%)\n",
      "GalFracChange = -0.103 (%)\n",
      "QSOFracChange = -16.486 (%)\n",
      "Stars thrown out = -35078\n"
     ]
    }
   ],
   "source": [
    "cuts_list = [('distmod_median_cut', {'mindm': 8}), ('dm_sigma_cut', {'maxsig': 1.5}), \n",
    "             ('wise_svmnondetectioncombinedcut', {'model': wisemodel}), ('parallax_nan_edr3',),\n",
    "             ('sdss_uvcut', {'model': smodel}), ('bayestar_chisq', {'maxchisq': 3.0})]\n",
    "\n",
    "final_cut = combine_cuts(df_goodspec, cuts_list)\n",
    "dfalt = df_goodspec.iloc[final_cut, :]\n",
    "spec_utils.print_obj_distribution(dfalt['sdss_dr17_specobj.CLASS'])\n",
    "spec_utils.print_delta_obj_distribution(df_goodspec['sdss_dr17_specobj.CLASS'], dfalt['sdss_dr17_specobj.CLASS'])"
   ]
  },
  {
   "cell_type": "markdown",
   "id": "b31dcb3f",
   "metadata": {},
   "source": [
    "### All cuts except"
   ]
  },
  {
   "cell_type": "markdown",
   "id": "95d61aa1",
   "metadata": {},
   "source": [
    "#### the SDSS ugr cut"
   ]
  },
  {
   "cell_type": "code",
   "execution_count": 12,
   "id": "fa6523f6",
   "metadata": {},
   "outputs": [],
   "source": [
    "wisemodel = joblib.load('models/svm_panstarrs_quasarsep_balanced.joblib')"
   ]
  },
  {
   "cell_type": "code",
   "execution_count": 13,
   "id": "bb40683c",
   "metadata": {},
   "outputs": [
    {
     "name": "stdout",
     "output_type": "stream",
     "text": [
      "Cut0 206622 0.9805849662811502\n",
      "Cut1 200235 0.9502735948897315\n",
      "Cut2 176656 0.8383725731207852\n",
      "Cut3 210106 0.997119304456773\n",
      "Cut4 156011 0.740395704109381\n",
      "Effective Cut = 0.672\n",
      "Number of Stars = 141206, Fraction(%) = 99.7683, Ratio(obj:star)*100 = 100\n",
      "Number of Galaxies = 64, Fraction(%) = 0.0452, Ratio(obj:star)*100 = 0.0453\n",
      "Number of QSOs = 264, Fraction(%) = 0.1865, Ratio(obj:star)*100 = 0.1870\n",
      "StarFracChange = 16.434 (%)\n",
      "GalFracChange = -0.097 (%)\n",
      "QSOFracChange = -16.337 (%)\n",
      "Stars thrown out = -34391\n"
     ]
    }
   ],
   "source": [
    "cuts_list = [('distmod_median_cut', {'mindm': 8}), ('dm_sigma_cut', {'maxsig': 1.5}), \n",
    "             ('wise_svmnondetectioncombinedcut', {'model': wisemodel}), ('parallax_nan_edr3',),\n",
    "             ('bayestar_chisq', {'maxchisq': 3.0})]\n",
    "\n",
    "final_cut = combine_cuts(df_goodspec, cuts_list)\n",
    "dfalt = df_goodspec.iloc[final_cut, :]\n",
    "spec_utils.print_obj_distribution(dfalt['sdss_dr17_specobj.CLASS'])\n",
    "spec_utils.print_delta_obj_distribution(df_goodspec['sdss_dr17_specobj.CLASS'], dfalt['sdss_dr17_specobj.CLASS'])"
   ]
  },
  {
   "cell_type": "code",
   "execution_count": 14,
   "id": "9cc9d358",
   "metadata": {},
   "outputs": [],
   "source": [
    "smodel = joblib.load('models/svm_sdss_quasarsep_unbalanced.joblib')"
   ]
  },
  {
   "cell_type": "markdown",
   "id": "e6e9a5b4",
   "metadata": {},
   "source": [
    "#### Redchisq cut"
   ]
  },
  {
   "cell_type": "code",
   "execution_count": 16,
   "id": "22981af5",
   "metadata": {},
   "outputs": [
    {
     "name": "stdout",
     "output_type": "stream",
     "text": [
      "Cut0 206622 0.9805849662811502\n",
      "Cut1 200235 0.9502735948897315\n",
      "Cut2 176656 0.8383725731207852\n",
      "Cut3 210106 0.997119304456773\n",
      "Cut4 175386 0.8323454177008538\n",
      "Effective Cut = 0.765\n",
      "Number of Stars = 160589, Fraction(%) = 99.6661, Ratio(obj:star)*100 = 100\n",
      "Number of Galaxies = 119, Fraction(%) = 0.0739, Ratio(obj:star)*100 = 0.0741\n",
      "Number of QSOs = 419, Fraction(%) = 0.2600, Ratio(obj:star)*100 = 0.2609\n",
      "StarFracChange = 16.331 (%)\n",
      "GalFracChange = -0.068 (%)\n",
      "QSOFracChange = -16.263 (%)\n",
      "Stars thrown out = -15008\n"
     ]
    }
   ],
   "source": [
    "cuts_list = [('distmod_median_cut', {'mindm': 8}), ('dm_sigma_cut', {'maxsig': 1.5}), \n",
    "             ('wise_svmnondetectioncombinedcut', {'model': wisemodel}), ('parallax_nan_edr3',),\n",
    "             ('sdss_uvcut', {'model': smodel})]\n",
    "\n",
    "\n",
    "final_cut = combine_cuts(df_goodspec, cuts_list)\n",
    "dfalt = df_goodspec.iloc[final_cut, :]\n",
    "spec_utils.print_obj_distribution(dfalt['sdss_dr17_specobj.CLASS'])\n",
    "spec_utils.print_delta_obj_distribution(df_goodspec['sdss_dr17_specobj.CLASS'], dfalt['sdss_dr17_specobj.CLASS'])"
   ]
  },
  {
   "cell_type": "markdown",
   "id": "1fdb5276",
   "metadata": {},
   "source": [
    "#### WISE cut"
   ]
  },
  {
   "cell_type": "code",
   "execution_count": 19,
   "id": "dc28984c",
   "metadata": {},
   "outputs": [
    {
     "name": "stdout",
     "output_type": "stream",
     "text": [
      "Cut0 206622 0.9805849662811502\n",
      "Cut1 200235 0.9502735948897315\n",
      "Cut2 210106 0.997119304456773\n",
      "Cut3 175386 0.8323454177008538\n",
      "Cut4 156011 0.740395704109381\n",
      "Effective Cut = 0.671\n",
      "Number of Stars = 141184, Fraction(%) = 99.8550, Ratio(obj:star)*100 = 100\n",
      "Number of Galaxies = 61, Fraction(%) = 0.0431, Ratio(obj:star)*100 = 0.0432\n",
      "Number of QSOs = 144, Fraction(%) = 0.1018, Ratio(obj:star)*100 = 0.1020\n",
      "StarFracChange = 16.520 (%)\n",
      "GalFracChange = -0.099 (%)\n",
      "QSOFracChange = -16.422 (%)\n",
      "Stars thrown out = -34413\n"
     ]
    }
   ],
   "source": [
    "cuts_list = [('distmod_median_cut', {'mindm': 8}), ('dm_sigma_cut', {'maxsig': 1.5}), \n",
    "             ('parallax_nan_edr3',),\n",
    "             ('sdss_uvcut', {'model': smodel}), ('bayestar_chisq', {'maxchisq': 3.0})]\n",
    "\n",
    "\n",
    "final_cut = combine_cuts(df_goodspec, cuts_list)\n",
    "dfalt = df_goodspec.iloc[final_cut, :]\n",
    "spec_utils.print_obj_distribution(dfalt['sdss_dr17_specobj.CLASS'])\n",
    "spec_utils.print_delta_obj_distribution(df_goodspec['sdss_dr17_specobj.CLASS'], dfalt['sdss_dr17_specobj.CLASS'])"
   ]
  },
  {
   "cell_type": "markdown",
   "id": "41c7607d",
   "metadata": {},
   "source": [
    "#### Parallax_nan_edr3"
   ]
  },
  {
   "cell_type": "code",
   "execution_count": 20,
   "id": "b5880b81",
   "metadata": {},
   "outputs": [
    {
     "name": "stdout",
     "output_type": "stream",
     "text": [
      "Cut0 206622 0.9805849662811502\n",
      "Cut1 200235 0.9502735948897315\n",
      "Cut2 176656 0.8383725731207852\n",
      "Cut3 175386 0.8323454177008538\n",
      "Cut4 156011 0.740395704109381\n",
      "Effective Cut = 0.669\n",
      "Number of Stars = 140802, Fraction(%) = 99.9156, Ratio(obj:star)*100 = 100\n",
      "Number of Galaxies = 66, Fraction(%) = 0.0468, Ratio(obj:star)*100 = 0.0469\n",
      "Number of QSOs = 53, Fraction(%) = 0.0376, Ratio(obj:star)*100 = 0.0376\n",
      "StarFracChange = 16.581 (%)\n",
      "GalFracChange = -0.095 (%)\n",
      "QSOFracChange = -16.486 (%)\n",
      "Stars thrown out = -34795\n"
     ]
    }
   ],
   "source": [
    "cuts_list = [('distmod_median_cut', {'mindm': 8}), ('dm_sigma_cut', {'maxsig': 1.5}), \n",
    "             ('wise_svmnondetectioncombinedcut', {'model': wisemodel}),\n",
    "             ('sdss_uvcut', {'model': smodel}), ('bayestar_chisq', {'maxchisq': 3.0})]\n",
    "\n",
    "\n",
    "final_cut = combine_cuts(df_goodspec, cuts_list)\n",
    "dfalt = df_goodspec.iloc[final_cut, :]\n",
    "spec_utils.print_obj_distribution(dfalt['sdss_dr17_specobj.CLASS'])\n",
    "spec_utils.print_delta_obj_distribution(df_goodspec['sdss_dr17_specobj.CLASS'], dfalt['sdss_dr17_specobj.CLASS'])"
   ]
  },
  {
   "cell_type": "markdown",
   "id": "ac4ebe61",
   "metadata": {},
   "source": [
    "#### Aside: what eDR3 parallax do the QSOs have?"
   ]
  },
  {
   "cell_type": "code",
   "execution_count": 22,
   "id": "55a79139",
   "metadata": {},
   "outputs": [
    {
     "data": {
      "text/plain": [
       "<Figure size 640x480 with 0 Axes>"
      ]
     },
     "metadata": {},
     "output_type": "display_data"
    },
    {
     "data": {
      "image/png": "[encoded data removed]",
      "text/plain": [
       "<Figure size 640x480 with 1 Axes>"
      ]
     },
     "metadata": {},
     "output_type": "display_data"
    }
   ],
   "source": [
    "qsomask = (dfalt['sdss_dr17_specobj.CLASS']==b'QSO').to_numpy()\n",
    "plt.figure()\n",
    "plt.hist(dfalt.iloc[qsomask]['gaia_edr3.parallax'].to_numpy())\n",
    "plt.show()"
   ]
  },
  {
   "cell_type": "markdown",
   "id": "01fcc97f",
   "metadata": {},
   "source": [
    "### Color Cuts: z Dbn of objects ONLY removed by the WISE cut and not the sdss cut"
   ]
  },
  {
   "cell_type": "code",
   "execution_count": 10,
   "id": "2b914fae",
   "metadata": {},
   "outputs": [],
   "source": [
    "wisemodel = joblib.load('models/svm_panstarrs_quasarsep_balanced.joblib')\n",
    "smodel = joblib.load('models/svm_sdss_quasarsep_unbalanced.joblib')"
   ]
  },
  {
   "cell_type": "code",
   "execution_count": 13,
   "id": "82b11dba",
   "metadata": {},
   "outputs": [],
   "source": [
    "df_qsos = df_goodspec.iloc[(df_goodspec['sdss_dr17_specobj.CLASS']==b'QSO').to_numpy()]"
   ]
  },
  {
   "cell_type": "code",
   "execution_count": 14,
   "id": "d6c5e718",
   "metadata": {},
   "outputs": [
    {
     "data": {
      "text/plain": [
       "34817"
      ]
     },
     "execution_count": 14,
     "metadata": {},
     "output_type": "execute_result"
    }
   ],
   "source": [
    "len(df_qsos)"
   ]
  },
  {
   "cell_type": "code",
   "execution_count": 15,
   "id": "9226bada",
   "metadata": {},
   "outputs": [],
   "source": [
    "wisecut = astro_cuts.wise_svmnondetectioncombinedcut(df_qsos, wisemodel)\n",
    "sdsscut = astro_cuts.sdss_uvcut(df_qsos, smodel)"
   ]
  },
  {
   "cell_type": "code",
   "execution_count": 16,
   "id": "b88417c8",
   "metadata": {},
   "outputs": [],
   "source": [
    "wisenotsdss = wisecut * (~sdsscut) #passes WISE cut but not SDSS\n",
    "sdssnotwise = sdsscut * (~wisecut) #passes SDSS cut but not WISE"
   ]
  },
  {
   "cell_type": "code",
   "execution_count": 23,
   "id": "a0adf9b4",
   "metadata": {},
   "outputs": [
    {
     "data": {
      "text/plain": [
       "(1714, 1229, 429)"
      ]
     },
     "execution_count": 23,
     "metadata": {},
     "output_type": "execute_result"
    }
   ],
   "source": [
    "np.sum(wisenotsdss), np.sum(sdssnotwise), np.sum(wisecut*sdsscut)"
   ]
  },
  {
   "cell_type": "code",
   "execution_count": 20,
   "id": "eeda64ed",
   "metadata": {},
   "outputs": [
    {
     "data": {
      "text/plain": [
       "1672"
      ]
     },
     "execution_count": 20,
     "metadata": {},
     "output_type": "execute_result"
    }
   ],
   "source": [
    "(df_qsos.iloc[wisenotsdss]['allwise.w1mpro']==0).sum()"
   ]
  },
  {
   "cell_type": "code",
   "execution_count": 24,
   "id": "a184c2f4",
   "metadata": {},
   "outputs": [
    {
     "data": {
      "image/png": "[encoded data removed]",
      "text/plain": [
       "<Figure size 640x480 with 1 Axes>"
      ]
     },
     "metadata": {},
     "output_type": "display_data"
    }
   ],
   "source": [
    "plt.figure()\n",
    "plt.hist(df_qsos['sdss_dr17_specobj.Z'].to_numpy())\n",
    "plt.show()"
   ]
  },
  {
   "cell_type": "code",
   "execution_count": 37,
   "id": "99132242",
   "metadata": {},
   "outputs": [
    {
     "data": {
      "image/png": "[encoded data removed]",
      "text/plain": [
       "<Figure size 640x480 with 1 Axes>"
      ]
     },
     "metadata": {},
     "output_type": "display_data"
    }
   ],
   "source": [
    "plt.figure()\n",
    "plt.hist(df_qsos.iloc[wisenotsdss]['sdss_dr17_specobj.Z'].to_numpy(), bins=20) #where the ugr cut is actually needed\n",
    "plt.show()"
   ]
  },
  {
   "cell_type": "code",
   "execution_count": 38,
   "id": "cd9c5f02",
   "metadata": {},
   "outputs": [
    {
     "data": {
      "image/png": "[encoded data removed]",
      "text/plain": [
       "<Figure size 640x480 with 1 Axes>"
      ]
     },
     "metadata": {},
     "output_type": "display_data"
    }
   ],
   "source": [
    "plt.figure()\n",
    "plt.hist(df_qsos.iloc[sdssnotwise]['sdss_dr17_specobj.Z'].to_numpy(), bins=20) #where the WISE cut is actually needed\n",
    "plt.show()"
   ]
  },
  {
   "cell_type": "code",
   "execution_count": null,
   "id": "dde9e79a",
   "metadata": {},
   "outputs": [],
   "source": [
    "#wise is needed (good) at the lower redshifts <1, and around 2ish"
   ]
  },
  {
   "cell_type": "markdown",
   "id": "a6a40715",
   "metadata": {},
   "source": [
    "zbinned qsos\n",
    "* PASS=>Not excluded"
   ]
  },
  {
   "cell_type": "code",
   "execution_count": 30,
   "id": "662fd4ce",
   "metadata": {},
   "outputs": [],
   "source": [
    "zqso = df_qsos['sdss_dr17_specobj.Z'].to_numpy()\n",
    "zbins = [(zqso<1), ((zqso>=1) * (zqso<1.5)), ((zqso>=1.5) * (zqso<2)), ((zqso>=2) * (zqso<3)), (zqso>=3)]"
   ]
  },
  {
   "cell_type": "code",
   "execution_count": 31,
   "id": "6783f287",
   "metadata": {},
   "outputs": [
    {
     "name": "stdout",
     "output_type": "stream",
     "text": [
      "Num QSOs =  10662\n",
      "Num QSOs =  11937\n",
      "Num QSOs =  8560\n",
      "Num QSOs =  3498\n",
      "Num QSOs =  160\n"
     ]
    }
   ],
   "source": [
    "passboth = []\n",
    "passwisenotsdss = []\n",
    "passsdssnotwise = []\n",
    "passneither = []\n",
    "\n",
    "for iz, zbin in enumerate(zbins):\n",
    "    print('Num QSOs = ', np.sum(zbin))\n",
    "    wiseforbin = wisecut[zbin]\n",
    "    sdssforbin = sdsscut[zbin]\n",
    "    passboth.append(np.sum(wiseforbin*sdssforbin))\n",
    "    passwisenotsdss.append(np.sum(wiseforbin* (~sdssforbin)))\n",
    "    passsdssnotwise.append(np.sum(sdssforbin * (~wiseforbin)))\n",
    "    passneither.append(np.sum((~wiseforbin) * (~sdssforbin)))\n",
    "    assert (passboth[iz] + passwisenotsdss[iz] + passsdssnotwise[iz] + passneither[iz])==np.sum(zbin)"
   ]
  },
  {
   "cell_type": "code",
   "execution_count": 32,
   "id": "f11115d7",
   "metadata": {},
   "outputs": [],
   "source": [
    "zlabels =['z<1', '1<=z<1.5', '1.5<z<=2', '2<=z<3', '3<=z']"
   ]
  },
  {
   "cell_type": "code",
   "execution_count": 46,
   "id": "6e894f42",
   "metadata": {},
   "outputs": [],
   "source": [
    "numz = np.array([np.sum(zbin) for zbin in zbins])"
   ]
  },
  {
   "cell_type": "code",
   "execution_count": 56,
   "id": "b646d67c",
   "metadata": {},
   "outputs": [
    {
     "data": {
      "image/png": "[encoded data removed]",
      "text/plain": [
       "<Figure size 640x480 with 1 Axes>"
      ]
     },
     "metadata": {},
     "output_type": "display_data"
    }
   ],
   "source": [
    "fig, ax = plt.subplots()\n",
    "ax.bar(zlabels, np.array(passboth)/numz, label='Pass Both Cuts')\n",
    "ax.bar(zlabels, np.array(passwisenotsdss)/numz, label='Pass WISE not SDSS', bottom=np.array(passboth)/numz)\n",
    "ax.bar(zlabels, np.array(passsdssnotwise)/numz, label='Pass SDSS not WISE', bottom= (np.array(passboth)/numz + np.array(passwisenotsdss)/numz))\n",
    "ax.bar(zlabels, np.array(passneither)/numz, label='Pass Neither Cut', bottom=np.array(passboth)/numz + np.array(passwisenotsdss)/numz+np.array(passsdssnotwise)/numz)\n",
    "ax.set_ylabel('%age of QSOs')\n",
    "ax.set_title('Cuts in different redshift bins')\n",
    "ax.legend()\n",
    "\n",
    "plt.show()"
   ]
  },
  {
   "cell_type": "code",
   "execution_count": null,
   "id": "70e0cdee",
   "metadata": {},
   "outputs": [],
   "source": []
  },
  {
   "cell_type": "code",
   "execution_count": 63,
   "id": "0958279e",
   "metadata": {},
   "outputs": [
    {
     "data": {
      "image/png": "[encoded data removed]",
      "text/plain": [
       "<Figure size 640x480 with 1 Axes>"
      ]
     },
     "metadata": {},
     "output_type": "display_data"
    }
   ],
   "source": [
    "fig, ax = plt.subplots()\n",
    "ax.bar(zlabels, np.array(passboth)/numz, label='Excluded by neither color cut')\n",
    "ax.bar(zlabels, np.array(passwisenotsdss)/numz, label='Excluded by SDSS only', bottom=np.array(passboth)/numz)\n",
    "ax.bar(zlabels, np.array(passsdssnotwise)/numz, label='Excluded by WISE only', bottom= (np.array(passboth)/numz + np.array(passwisenotsdss)/numz))\n",
    "ax.bar(zlabels, np.array(passneither)/numz, label='Excluded by both cuts', bottom=np.array(passboth)/numz + np.array(passwisenotsdss)/numz+np.array(passsdssnotwise)/numz)\n",
    "ax.set_ylabel('%age of QSOs')\n",
    "ax.set_title('Cuts in different redshift bins')\n",
    "ax.legend()\n",
    "\n",
    "plt.show()"
   ]
  },
  {
   "cell_type": "code",
   "execution_count": 52,
   "id": "d7a90efc",
   "metadata": {},
   "outputs": [
    {
     "data": {
      "text/plain": [
       "array([1., 1., 1., 1., 1.])"
      ]
     },
     "execution_count": 52,
     "metadata": {},
     "output_type": "execute_result"
    }
   ],
   "source": [
    "np.array(passboth)/numz + np.array(passwisenotsdss)/numz + np.array(passsdssnotwise)/numz + np.array(passneither)/numz"
   ]
  },
  {
   "cell_type": "code",
   "execution_count": 62,
   "id": "b2cd4c2b",
   "metadata": {},
   "outputs": [],
   "source": [
    "noW1qsos = (df_qsos['allwise.w1mpro']==0).to_numpy()"
   ]
  },
  {
   "cell_type": "code",
   "execution_count": 64,
   "id": "cead86ce",
   "metadata": {},
   "outputs": [
    {
     "name": "stdout",
     "output_type": "stream",
     "text": [
      "z<1\n",
      "Num QSOs = 10662. Num W1=0 : 224. %age noW1: 0.021009191521290566\n",
      "1<=z<1.5\n",
      "Num QSOs = 11937. Num W1=0 : 582. %age noW1: 0.04875596883639105\n",
      "1.5<z<=2\n",
      "Num QSOs = 8560. Num W1=0 : 624. %age noW1: 0.07289719626168224\n",
      "2<=z<3\n",
      "Num QSOs = 3498. Num W1=0 : 558. %age noW1: 0.1595197255574614\n",
      "3<=z\n",
      "Num QSOs = 160. Num W1=0 : 95. %age noW1: 0.59375\n"
     ]
    }
   ],
   "source": [
    "for iz, zbin in enumerate(zbins):\n",
    "    now1 = noW1qsos[zbin]\n",
    "    print(zlabels[iz])\n",
    "    print('Num QSOs = {}. Num W1=0 : {}. %age noW1: {}'.format(np.sum(zbin), now1.sum(), now1.sum()/np.sum(zbin)))"
   ]
  },
  {
   "cell_type": "code",
   "execution_count": 65,
   "id": "8a480870",
   "metadata": {},
   "outputs": [],
   "source": [
    "detected_all =  ~(np.isnan(df_qsos['sdss.pmag_u'].to_numpy()) + np.isnan(df_qsos['sdss.pmag_g'].to_numpy()) + np.isnan(\n",
    "        df_qsos['sdss.pmag_r'].to_numpy()))\n",
    "sdssmagcols = ['sdss.pmag_u', 'sdss.pmag_g', 'sdss.pmag_r']\n",
    "\n",
    "# ugr errs < 0.2\n",
    "sdss_errcols = df_qsos.columns[[c.startswith('sdss.pmag_err_') for c in df_qsos.columns]]\n",
    "sdss_pmag_err = df_qsos[sdss_errcols].to_numpy()\n",
    "detected_all *= np.all(sdss_pmag_err[:, :3] < 0.2, axis=1)\n",
    "\n",
    "# no negative errors\n",
    "detected_all *= ~np.any(sdss_pmag_err[:, :3] < 0, axis=1)\n",
    "\n",
    "# saturated on the faint end\n",
    "detected_all *= ~np.any(df_qsos[sdssmagcols].to_numpy() == 22.5, axis=1)  # nothing should have exactly 22.5"
   ]
  },
  {
   "cell_type": "code",
   "execution_count": 66,
   "id": "64406324",
   "metadata": {},
   "outputs": [],
   "source": [
    "badsdssdetection = ~detected_all"
   ]
  },
  {
   "cell_type": "code",
   "execution_count": 68,
   "id": "5104489f",
   "metadata": {},
   "outputs": [
    {
     "data": {
      "text/plain": [
       "0.009018582876181175"
      ]
     },
     "execution_count": 68,
     "metadata": {},
     "output_type": "execute_result"
    }
   ],
   "source": [
    "np.sum(badsdssdetection)/len(badsdssdetection)"
   ]
  },
  {
   "cell_type": "code",
   "execution_count": 80,
   "id": "94b20479",
   "metadata": {},
   "outputs": [
    {
     "data": {
      "text/plain": [
       "19"
      ]
     },
     "execution_count": 80,
     "metadata": {},
     "output_type": "execute_result"
    }
   ],
   "source": [
    "np.any(sdss_pmag_err<0, axis=1).sum()"
   ]
  },
  {
   "cell_type": "code",
   "execution_count": 83,
   "id": "9fde1d5c",
   "metadata": {},
   "outputs": [
    {
     "data": {
      "text/plain": [
       "0.9964385214119539"
      ]
     },
     "execution_count": 83,
     "metadata": {},
     "output_type": "execute_result"
    }
   ],
   "source": [
    "np.any((sdss_pmag_err[:, :3]>0) * (sdss_pmag_err[:, :3]<0.2), axis=1).sum()/len(df_qsos)"
   ]
  },
  {
   "cell_type": "code",
   "execution_count": 75,
   "id": "f7f2a0d3",
   "metadata": {},
   "outputs": [
    {
     "data": {
      "image/png": "[encoded data removed]",
      "text/plain": [
       "<Figure size 640x480 with 1 Axes>"
      ]
     },
     "metadata": {},
     "output_type": "display_data"
    }
   ],
   "source": [
    "plt.figure()\n",
    "plt.hist(df_qsos['sdss.pmag_err_u'].to_numpy(), range=[0, 0.5], bins=20)\n",
    "plt.show()"
   ]
  },
  {
   "cell_type": "code",
   "execution_count": 84,
   "id": "65d9144d",
   "metadata": {},
   "outputs": [
    {
     "name": "stdout",
     "output_type": "stream",
     "text": [
      "z<1\n",
      "Num QSOs = 10662. BadSDSS: 96. %age BadSDSS: 0.009003939223410242\n",
      "1<=z<1.5\n",
      "Num QSOs = 11937. BadSDSS: 99. %age BadSDSS: 0.008293541090726313\n",
      "1.5<z<=2\n",
      "Num QSOs = 8560. BadSDSS: 67. %age BadSDSS: 0.007827102803738318\n",
      "2<=z<3\n",
      "Num QSOs = 3498. BadSDSS: 39. %age BadSDSS: 0.011149228130360206\n",
      "3<=z\n",
      "Num QSOs = 160. BadSDSS: 13. %age BadSDSS: 0.08125\n"
     ]
    }
   ],
   "source": [
    "for iz, zbin in enumerate(zbins):\n",
    "    nosdss = badsdssdetection[zbin]\n",
    "    print(zlabels[iz])\n",
    "    print('Num QSOs = {}. BadSDSS: {}. %age BadSDSS: {}'.format(np.sum(zbin), nosdss.sum(), nosdss.sum()/np.sum(zbin)))"
   ]
  },
  {
   "cell_type": "markdown",
   "id": "cc4ffac4",
   "metadata": {},
   "source": [
    "* Color cuts alone are most effective at the lower z<3 redshift bins\n",
    "* How many QSOs do not have w1? Overall: 6%, at z> 3 60% and 2<z<3: 16%\n",
    "* How many have 'poor' ugr? Overall: 9/1000, at z>3 8% and 2<z<3: 1%"
   ]
  },
  {
   "cell_type": "code",
   "execution_count": null,
   "id": "5e9e4a65",
   "metadata": {},
   "outputs": [],
   "source": []
  }
 ],
 "metadata": {
  "kernelspec": {
   "display_name": "Python 3",
   "language": "python",
   "name": "python3"
  },
  "language_info": {
   "codemirror_mode": {
    "name": "ipython",
    "version": 3
   },
   "file_extension": ".py",
   "mimetype": "text/x-python",
   "name": "python",
   "nbconvert_exporter": "python",
   "pygments_lexer": "ipython3",
   "version": "3.8.12"
  }
 },
 "nbformat": 4,
 "nbformat_minor": 5
}
