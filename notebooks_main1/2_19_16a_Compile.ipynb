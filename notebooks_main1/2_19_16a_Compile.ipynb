{
 "cells": [
  {
   "cell_type": "code",
   "execution_count": 3,
   "id": "50f1f392",
   "metadata": {},
   "outputs": [
    {
     "data": {
      "text/plain": [
       "<module 'astro_cuts' from '/n/holylfs05/LABS/finkbeiner_lab/Everyone/highlat/notebooks_main1/../methods_code_Nresol/astro_cuts.py'>"
      ]
     },
     "execution_count": 3,
     "metadata": {},
     "output_type": "execute_result"
    }
   ],
   "source": [
    "import subprocess\n",
    "import numpy as np\n",
    "import healpy as hp\n",
    "import pickle\n",
    "from random import randint\n",
    "import joblib\n",
    "import sklearn\n",
    "import sys\n",
    "import importlib\n",
    "\n",
    "sys.path.append('../methods_code_Nresol/')\n",
    "sys.path.append('../utils/')\n",
    "from utils_circpatch import *\n",
    "from methods2 import *\n",
    "import vis_utils\n",
    "import astro_cuts\n",
    "importlib.reload(astro_cuts)"
   ]
  },
  {
   "cell_type": "code",
   "execution_count": 4,
   "id": "b6d7ae2c",
   "metadata": {},
   "outputs": [
    {
     "name": "stdout",
     "output_type": "stream",
     "text": [
      "6244\n"
     ]
    }
   ],
   "source": [
    "#are all b>21 tiles there?\n",
    "fullsky = vis_utils.get_testbed_dict('FullSky_Bayestar')\n",
    "numtiles = np.unique(get_largepix_for_smallpix(fullsky['coords'], 2048, 32))\n",
    "lat = hp.pix2ang(32, numtiles, lonlat=True)[1]\n",
    "bgt20mask = np.abs(lat)>21\n",
    "t32bgt20 = numtiles[bgt20mask]\n",
    "print(len(t32bgt20))"
   ]
  },
  {
   "cell_type": "code",
   "execution_count": 6,
   "id": "3241381e",
   "metadata": {},
   "outputs": [
    {
     "data": {
      "text/plain": [
       "6243"
      ]
     },
     "execution_count": 6,
     "metadata": {},
     "output_type": "execute_result"
    }
   ],
   "source": [
    "runname = 'fullsky_runs/16a_fwhm-6-1_'\n",
    "recontiles = []\n",
    "for tile in t32bgt20:\n",
    "    if os.path.exists(runname+'_tmpdir/recon_{}.hdf5'.format(tile)):\n",
    "        recontiles.append(tile)\n",
    "len(recontiles)"
   ]
  },
  {
   "cell_type": "code",
   "execution_count": 7,
   "id": "31ba7785",
   "metadata": {},
   "outputs": [],
   "source": [
    "wisemodel = joblib.load('spectra_matched/models/svm_panstarrs_quasarsep_balanced.joblib')\n",
    "smodel = joblib.load('spectra_matched/models/svm_sdss_quasarsep_unbalanced.joblib')\n",
    "\n",
    "cuts_list = [('distmod_median_cut', {'mindm': 8}), ('dm_sigma_cut', {'maxsig': 1.5}), \n",
    "             ('wise_svmnondetectioncombinedcut', {'model': wisemodel}), ('parallax_nan_edr3',),\n",
    "             ('sdss_uvcut', {'model': smodel}), ('bayestar_chisq', {'maxchisq': 3.0})]\n",
    "outer_kwargs = {'Nsidetile': 32, 'radius_deg_extra': 25/60, 'Nsideresol': 2048,\n",
    "               'stars_presaved': '/n/holylfs05/LABS/finkbeiner_lab/Everyone/highlat/data/lsdraw/stars_edr3/{}.fits'}\n",
    "recon_kwargs = {'length': np.deg2rad(6.1/(2.355*60)), 'scale': 1.0, 'no_invvar': False}\n",
    "kwargs_dict = {'outer_kwargs': outer_kwargs, 'recon_kwargs': recon_kwargs}\n",
    "recon_func_name = 'gaussiankernel_reconstruction_effective_spherical3_blocks'"
   ]
  },
  {
   "cell_type": "code",
   "execution_count": 8,
   "id": "c23f5feb",
   "metadata": {},
   "outputs": [
    {
     "name": "stdout",
     "output_type": "stream",
     "text": [
      "Ckp\n"
     ]
    }
   ],
   "source": [
    "reconmap, varmap, reconpix = get_Nsideresol_healpix_map_from_gnuparpatches_safe(runname+'_tmpdir/', Nsideresol=kwargs_dict['outer_kwargs']['Nsideresol'], tiles=recontiles)\n",
    "result_dict = {'dustmap': reconmap, 'variancemap': varmap, 'reconpix': reconpix,\n",
    "               'func': 'gnupartilewise_new',\n",
    "               'cuts_list': cuts_list, 'recon_func_name': recon_func_name,\n",
    "               'kwargs_dict': kwargs_dict}\n",
    "pickle.dump(result_dict, open(runname + '_bgt21.pkl', 'wb'))      "
   ]
  },
  {
   "cell_type": "code",
   "execution_count": null,
   "id": "5031632a",
   "metadata": {},
   "outputs": [],
   "source": []
  }
 ],
 "metadata": {
  "kernelspec": {
   "display_name": "Python 3",
   "language": "python",
   "name": "python3"
  },
  "language_info": {
   "codemirror_mode": {
    "name": "ipython",
    "version": 3
   },
   "file_extension": ".py",
   "mimetype": "text/x-python",
   "name": "python",
   "nbconvert_exporter": "python",
   "pygments_lexer": "ipython3",
   "version": "3.8.12"
  }
 },
 "nbformat": 4,
 "nbformat_minor": 5
}
