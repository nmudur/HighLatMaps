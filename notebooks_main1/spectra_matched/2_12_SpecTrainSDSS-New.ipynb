{
 "cells": [
  {
   "cell_type": "code",
   "execution_count": 1,
   "id": "2d4518c4",
   "metadata": {},
   "outputs": [],
   "source": [
    "import numpy as np\n",
    "import pandas as pd\n",
    "import sys\n",
    "import os\n",
    "import matplotlib.pyplot as plt\n",
    "import joblib\n",
    "\n",
    "from astropy.io import fits\n",
    "from functools import reduce\n",
    "from astropy.table import Table\n",
    "\n",
    "sys.path.append('../../methods_code_Nresol/')\n",
    "sys.path.append('../../utils/')\n",
    "import astro_cuts\n",
    "import importlib\n",
    "import spec_utils"
   ]
  },
  {
   "cell_type": "code",
   "execution_count": 2,
   "id": "6e16c20f",
   "metadata": {},
   "outputs": [],
   "source": [
    "from sklearn.preprocessing import StandardScaler\n",
    "from sklearn.svm import SVC"
   ]
  },
  {
   "cell_type": "code",
   "execution_count": 3,
   "id": "568553b6",
   "metadata": {},
   "outputs": [
    {
     "name": "stderr",
     "output_type": "stream",
     "text": [
      "/n/holylfs05/LABS/finkbeiner_lab/Everyone/highlat/notebooks_main1/spectra_matched/spec_utils.py:36: RuntimeWarning: divide by zero encountered in true_divide\n",
      "  df['reduced_chisq'] = df['chisq'].to_numpy() * n_passbands / (n_passbands - 4)\n",
      "/n/holylfs05/LABS/finkbeiner_lab/Everyone/highlat/notebooks_main1/spectra_matched/spec_utils.py:40: RuntimeWarning: divide by zero encountered in power\n",
      "  sdss_flux_sig = np.power(np.array(dat['sdss_dr14_starsweep.psfflux_ivar']), -0.5)\n",
      "/n/holylfs05/LABS/finkbeiner_lab/Everyone/highlat/notebooks_main1/spectra_matched/spec_utils.py:42: RuntimeWarning: divide by zero encountered in log10\n",
      "  df['sdss.pmag_'+b] = 22.5 - 2.5*np.clip(np.log10(np.array(dat['sdss_dr14_starsweep.psfflux'])[:, ib]), 0.0, np.inf)\n",
      "/n/holylfs05/LABS/finkbeiner_lab/Everyone/highlat/notebooks_main1/spectra_matched/spec_utils.py:42: RuntimeWarning: invalid value encountered in log10\n",
      "  df['sdss.pmag_'+b] = 22.5 - 2.5*np.clip(np.log10(np.array(dat['sdss_dr14_starsweep.psfflux'])[:, ib]), 0.0, np.inf)\n"
     ]
    },
    {
     "name": "stdout",
     "output_type": "stream",
     "text": [
      "Number of objects before / after 596315 210713\n",
      "c1 = 0.873, c2 = 0.995, c3 = 0.445\n",
      "Fraction left = 0.353\n"
     ]
    }
   ],
   "source": [
    "fname = 'lsd_scripts/spectrain_2_11_r50.fits'\n",
    "df_allspec = spec_utils.convert_to_dataframe_specmatched(fname)\n",
    "df_goodspec = spec_utils.return_goodspec(df_allspec)"
   ]
  },
  {
   "cell_type": "code",
   "execution_count": 4,
   "id": "badc6240",
   "metadata": {},
   "outputs": [
    {
     "data": {
      "text/plain": [
       "210713"
      ]
     },
     "execution_count": 4,
     "metadata": {},
     "output_type": "execute_result"
    }
   ],
   "source": [
    "len(df_goodspec)"
   ]
  },
  {
   "cell_type": "markdown",
   "id": "e6bd2c50",
   "metadata": {},
   "source": [
    "#### Cuts on SDSS"
   ]
  },
  {
   "cell_type": "code",
   "execution_count": 5,
   "id": "acbde29c",
   "metadata": {},
   "outputs": [
    {
     "data": {
      "text/plain": [
       "Index(['sdss.pmag_err_u', 'sdss.pmag_err_g', 'sdss.pmag_err_r',\n",
       "       'sdss.pmag_err_i', 'sdss.pmag_err_z'],\n",
       "      dtype='object')"
      ]
     },
     "execution_count": 5,
     "metadata": {},
     "output_type": "execute_result"
    }
   ],
   "source": [
    "df_goodspec.columns[[c.startswith('sdss.pmag_err_') for c in df_goodspec.columns]]"
   ]
  },
  {
   "cell_type": "code",
   "execution_count": 6,
   "id": "7b11aa85",
   "metadata": {},
   "outputs": [
    {
     "data": {
      "text/html": [
       "<div>\n",
       "<style scoped>\n",
       "    .dataframe tbody tr th:only-of-type {\n",
       "        vertical-align: middle;\n",
       "    }\n",
       "\n",
       "    .dataframe tbody tr th {\n",
       "        vertical-align: top;\n",
       "    }\n",
       "\n",
       "    .dataframe thead th {\n",
       "        text-align: right;\n",
       "    }\n",
       "</style>\n",
       "<table border=\"1\" class=\"dataframe\">\n",
       "  <thead>\n",
       "    <tr style=\"text-align: right;\">\n",
       "      <th></th>\n",
       "      <th>sdss.pmag_err_u</th>\n",
       "      <th>sdss.pmag_err_g</th>\n",
       "      <th>sdss.pmag_err_r</th>\n",
       "    </tr>\n",
       "  </thead>\n",
       "  <tbody>\n",
       "    <tr>\n",
       "      <th>2</th>\n",
       "      <td>0.031511</td>\n",
       "      <td>0.026992</td>\n",
       "      <td>0.031721</td>\n",
       "    </tr>\n",
       "    <tr>\n",
       "      <th>3</th>\n",
       "      <td>0.022445</td>\n",
       "      <td>0.033421</td>\n",
       "      <td>0.017240</td>\n",
       "    </tr>\n",
       "    <tr>\n",
       "      <th>7</th>\n",
       "      <td>0.022401</td>\n",
       "      <td>0.018154</td>\n",
       "      <td>0.018323</td>\n",
       "    </tr>\n",
       "    <tr>\n",
       "      <th>9</th>\n",
       "      <td>0.018438</td>\n",
       "      <td>0.020665</td>\n",
       "      <td>0.020655</td>\n",
       "    </tr>\n",
       "    <tr>\n",
       "      <th>10</th>\n",
       "      <td>0.059673</td>\n",
       "      <td>0.023163</td>\n",
       "      <td>0.022950</td>\n",
       "    </tr>\n",
       "    <tr>\n",
       "      <th>...</th>\n",
       "      <td>...</td>\n",
       "      <td>...</td>\n",
       "      <td>...</td>\n",
       "    </tr>\n",
       "    <tr>\n",
       "      <th>596290</th>\n",
       "      <td>0.023549</td>\n",
       "      <td>0.015549</td>\n",
       "      <td>0.014748</td>\n",
       "    </tr>\n",
       "    <tr>\n",
       "      <th>596291</th>\n",
       "      <td>0.033583</td>\n",
       "      <td>0.033470</td>\n",
       "      <td>0.018102</td>\n",
       "    </tr>\n",
       "    <tr>\n",
       "      <th>596296</th>\n",
       "      <td>0.025078</td>\n",
       "      <td>0.013106</td>\n",
       "      <td>0.014309</td>\n",
       "    </tr>\n",
       "    <tr>\n",
       "      <th>596298</th>\n",
       "      <td>0.017442</td>\n",
       "      <td>0.019180</td>\n",
       "      <td>0.015096</td>\n",
       "    </tr>\n",
       "    <tr>\n",
       "      <th>596305</th>\n",
       "      <td>0.033026</td>\n",
       "      <td>0.015782</td>\n",
       "      <td>0.009700</td>\n",
       "    </tr>\n",
       "  </tbody>\n",
       "</table>\n",
       "<p>210713 rows × 3 columns</p>\n",
       "</div>"
      ],
      "text/plain": [
       "        sdss.pmag_err_u  sdss.pmag_err_g  sdss.pmag_err_r\n",
       "2              0.031511         0.026992         0.031721\n",
       "3              0.022445         0.033421         0.017240\n",
       "7              0.022401         0.018154         0.018323\n",
       "9              0.018438         0.020665         0.020655\n",
       "10             0.059673         0.023163         0.022950\n",
       "...                 ...              ...              ...\n",
       "596290         0.023549         0.015549         0.014748\n",
       "596291         0.033583         0.033470         0.018102\n",
       "596296         0.025078         0.013106         0.014309\n",
       "596298         0.017442         0.019180         0.015096\n",
       "596305         0.033026         0.015782         0.009700\n",
       "\n",
       "[210713 rows x 3 columns]"
      ]
     },
     "execution_count": 6,
     "metadata": {},
     "output_type": "execute_result"
    }
   ],
   "source": [
    "df_goodspec[['sdss.pmag_err_u', 'sdss.pmag_err_g', 'sdss.pmag_err_r']]"
   ]
  },
  {
   "cell_type": "code",
   "execution_count": 7,
   "id": "32f548e2",
   "metadata": {},
   "outputs": [],
   "source": [
    "def sdss_cuts(df_input):\n",
    "    #ugr < 0.2\n",
    "    sdss_magcols = ['sdss.pmag_u', 'sdss.pmag_g', 'sdss.pmag_r']\n",
    "    sdss_magerrs = ['sdss.pmag_err_u', 'sdss.pmag_err_g', 'sdss.pmag_err_r']\n",
    "    sdss_pmag_err = df_input[sdss_magerrs].to_numpy()\n",
    "    cut1 = np.all(sdss_pmag_err <0.2, axis=1)\n",
    "    \n",
    "    #ugr arent nan\n",
    "    cut2 = ~(np.isnan(df_input['sdss.pmag_u'].to_numpy()) + np.isnan(df_input['sdss.pmag_g'].to_numpy()) + np.isnan(df_input['sdss.pmag_r'].to_numpy()))\n",
    "    \n",
    "    #negative errs\n",
    "    cut3 = ~np.any(df_input[sdss_magerrs].iloc[:, :3].to_numpy() < 0, axis=1)\n",
    "    \n",
    "    #saturated on faint end\n",
    "    cut4 = ~np.any(df_input[sdss_magcols].iloc[:, :3].to_numpy() == 22.5, axis=1)\n",
    "    print('C1: {:.2f} C2: {:.2f} C3: {:.2f} C4: {:.2f}'.format(np.sum(cut1)/len(cut1), np.sum(cut2)/len(cut2), np.sum(cut3)/len(cut3), np.sum(cut4)/len(cut4)))\n",
    "    \n",
    "    effcut = cut1 * cut2 * cut3 * cut4\n",
    "    \n",
    "    return effcut"
   ]
  },
  {
   "cell_type": "code",
   "execution_count": 8,
   "id": "58bc3745",
   "metadata": {},
   "outputs": [
    {
     "name": "stdout",
     "output_type": "stream",
     "text": [
      "C1: 0.97 C2: 1.00 C3: 1.00 C4: 0.98\n"
     ]
    },
    {
     "data": {
      "text/plain": [
       "0.9657306383564375"
      ]
     },
     "execution_count": 8,
     "metadata": {},
     "output_type": "execute_result"
    }
   ],
   "source": [
    "cleanphot = sdss_cuts(df_goodspec)\n",
    "df_sdss = df_goodspec.iloc[cleanphot, :]\n",
    "np.sum(cleanphot)/len(cleanphot)"
   ]
  },
  {
   "cell_type": "code",
   "execution_count": 9,
   "id": "9c6c88c3",
   "metadata": {},
   "outputs": [
    {
     "data": {
      "text/plain": [
       "203492"
      ]
     },
     "execution_count": 9,
     "metadata": {},
     "output_type": "execute_result"
    }
   ],
   "source": [
    "len(df_sdss)"
   ]
  },
  {
   "cell_type": "code",
   "execution_count": 10,
   "id": "12f5753e",
   "metadata": {},
   "outputs": [
    {
     "name": "stdout",
     "output_type": "stream",
     "text": [
      "NumTrain, NumTest =  48572 14571\n",
      "Train Class Fraction: Q = 0.5\n",
      "Test Class Fraction: Q = 0.17026971381511222\n"
     ]
    }
   ],
   "source": [
    "train_x, train_y, test_x, test_y = spec_utils.return_train_test_subset(df_sdss, ['u-g_sdss', 'g-r_sdss'], balance_train=True)"
   ]
  },
  {
   "cell_type": "code",
   "execution_count": 11,
   "id": "d3b62287",
   "metadata": {},
   "outputs": [
    {
     "data": {
      "text/plain": [
       "(0.9785678992011859, 0.9799601949076934)"
      ]
     },
     "execution_count": 11,
     "metadata": {},
     "output_type": "execute_result"
    }
   ],
   "source": [
    "from sklearn.svm import SVC\n",
    "model = SVC(kernel='rbf', C=0.3)\n",
    "model.fit(train_x, train_y)\n",
    "model.score(train_x, train_y), model.score(test_x, test_y)"
   ]
  },
  {
   "cell_type": "code",
   "execution_count": 12,
   "id": "402ad0f2",
   "metadata": {},
   "outputs": [
    {
     "data": {
      "text/plain": [
       "\"import joblib\\njoblib.dump(model, 'models/svm_sdss_quasarsep_unbalanced.joblib')\""
      ]
     },
     "execution_count": 12,
     "metadata": {},
     "output_type": "execute_result"
    }
   ],
   "source": [
    "'''import joblib\n",
    "joblib.dump(model, 'models/svm_sdss_quasarsep_unbalanced.joblib')'''"
   ]
  },
  {
   "cell_type": "code",
   "execution_count": 13,
   "id": "643e57e4",
   "metadata": {},
   "outputs": [],
   "source": [
    "plt.rcParams.update({'font.family':'serif'})"
   ]
  },
  {
   "cell_type": "code",
   "execution_count": 14,
   "id": "72b1d3ac",
   "metadata": {},
   "outputs": [
    {
     "data": {
      "image/png": "[encoded data removed]",
      "text/plain": [
       "<Figure size 640x480 with 1 Axes>"
      ]
     },
     "metadata": {},
     "output_type": "display_data"
    }
   ],
   "source": [
    "plt.figure()\n",
    "h=0.05\n",
    "x_min, x_max = train_x[:, 0].min() - 1, train_x[:, 0].max() + 1\n",
    "y_min, y_max = train_x[:, 1].min() - 1, train_x[:, 1].max() + 1\n",
    "xx, yy = np.meshgrid(np.arange(x_min, x_max, h),\n",
    "                     np.arange(y_min, y_max, h))\n",
    "Z = model.predict(np.vstack([xx.ravel(), yy.ravel()]).T)\n",
    "Z = Z.reshape(xx.shape)\n",
    "\n",
    "plt.scatter(train_x[train_y==1, 0], train_x[train_y==1, 1], label='Star', s=1, c='b')\n",
    "plt.scatter(train_x[train_y==0, 0], train_x[train_y==0, 1], label='Gal / QSO', s=1, c='r')\n",
    "plt.contourf(xx, yy, Z, cmap=plt.cm.RdBu, alpha=0.3)\n",
    "\n",
    "\n",
    "plt.xlabel('u-g')\n",
    "plt.ylabel('g-r')\n",
    "plt.xlim(-2, 4)\n",
    "plt.ylim(-3, 4)\n",
    "plt.legend()\n",
    "plt.show()"
   ]
  },
  {
   "cell_type": "code",
   "execution_count": 15,
   "id": "33634889",
   "metadata": {},
   "outputs": [
    {
     "data": {
      "text/plain": [
       "['models/svm_sdss_quasarsep_balanced_new.joblib']"
      ]
     },
     "execution_count": 15,
     "metadata": {},
     "output_type": "execute_result"
    }
   ],
   "source": [
    "joblib.dump(model, 'models/svm_sdss_quasarsep_balanced_new.joblib')"
   ]
  },
  {
   "cell_type": "markdown",
   "id": "e9cf80d0",
   "metadata": {},
   "source": [
    "### Weird outliers are removed by the wise cut but some (2/200k) have decent chisqs"
   ]
  },
  {
   "cell_type": "code",
   "execution_count": 40,
   "id": "1db463b7",
   "metadata": {},
   "outputs": [],
   "source": [
    "outmask = (df_goodspec['sdss.pmag_g'] - df_goodspec['sdss.pmag_r'] <-1.5).to_numpy()"
   ]
  },
  {
   "cell_type": "code",
   "execution_count": 52,
   "id": "bc6e0685",
   "metadata": {},
   "outputs": [],
   "source": [
    "outliers = df_goodspec.iloc[outmask]"
   ]
  },
  {
   "cell_type": "code",
   "execution_count": 53,
   "id": "9257e2e0",
   "metadata": {},
   "outputs": [],
   "source": [
    "df_goodspec.columns.to_list()"
   ]
  },
  {
   "cell_type": "code",
   "execution_count": 54,
   "id": "8ceb75df",
   "metadata": {},
   "outputs": [],
   "source": [
    "wisemodel = joblib.load('models/svm_panstarrs_quasarsep_balanced.joblib')"
   ]
  },
  {
   "cell_type": "code",
   "execution_count": 55,
   "id": "64b1c02b",
   "metadata": {},
   "outputs": [],
   "source": [
    "wisecut = astro_cuts.wise_svmnondetectioncombinedcut_limiting(outliers, model = wisemodel)"
   ]
  },
  {
   "cell_type": "code",
   "execution_count": 62,
   "id": "d5911f1a",
   "metadata": {},
   "outputs": [
    {
     "data": {
      "text/html": [
       "<div>\n",
       "<style scoped>\n",
       "    .dataframe tbody tr th:only-of-type {\n",
       "        vertical-align: middle;\n",
       "    }\n",
       "\n",
       "    .dataframe tbody tr th {\n",
       "        vertical-align: top;\n",
       "    }\n",
       "\n",
       "    .dataframe thead th {\n",
       "        text-align: right;\n",
       "    }\n",
       "</style>\n",
       "<table border=\"1\" class=\"dataframe\">\n",
       "  <thead>\n",
       "    <tr style=\"text-align: right;\">\n",
       "      <th></th>\n",
       "      <th>chisq</th>\n",
       "      <th>sdss_dr17_specobj.CLASS</th>\n",
       "    </tr>\n",
       "  </thead>\n",
       "  <tbody>\n",
       "    <tr>\n",
       "      <th>36840</th>\n",
       "      <td>inf</td>\n",
       "      <td>b'STAR'</td>\n",
       "    </tr>\n",
       "    <tr>\n",
       "      <th>70067</th>\n",
       "      <td>0.154882</td>\n",
       "      <td>b'STAR'</td>\n",
       "    </tr>\n",
       "    <tr>\n",
       "      <th>70637</th>\n",
       "      <td>0.020429</td>\n",
       "      <td>b'STAR'</td>\n",
       "    </tr>\n",
       "    <tr>\n",
       "      <th>77282</th>\n",
       "      <td>3.142345</td>\n",
       "      <td>b'QSO'</td>\n",
       "    </tr>\n",
       "    <tr>\n",
       "      <th>98498</th>\n",
       "      <td>0.007948</td>\n",
       "      <td>b'STAR'</td>\n",
       "    </tr>\n",
       "    <tr>\n",
       "      <th>129342</th>\n",
       "      <td>0.026708</td>\n",
       "      <td>b'STAR'</td>\n",
       "    </tr>\n",
       "    <tr>\n",
       "      <th>130958</th>\n",
       "      <td>3.750604</td>\n",
       "      <td>b'STAR'</td>\n",
       "    </tr>\n",
       "    <tr>\n",
       "      <th>139298</th>\n",
       "      <td>0.040690</td>\n",
       "      <td>b'STAR'</td>\n",
       "    </tr>\n",
       "    <tr>\n",
       "      <th>174211</th>\n",
       "      <td>1.613110</td>\n",
       "      <td>b'STAR'</td>\n",
       "    </tr>\n",
       "    <tr>\n",
       "      <th>174854</th>\n",
       "      <td>0.223338</td>\n",
       "      <td>b'STAR'</td>\n",
       "    </tr>\n",
       "    <tr>\n",
       "      <th>189666</th>\n",
       "      <td>4.708101</td>\n",
       "      <td>b'QSO'</td>\n",
       "    </tr>\n",
       "    <tr>\n",
       "      <th>231531</th>\n",
       "      <td>0.140619</td>\n",
       "      <td>b'STAR'</td>\n",
       "    </tr>\n",
       "    <tr>\n",
       "      <th>236080</th>\n",
       "      <td>1.595879</td>\n",
       "      <td>b'STAR'</td>\n",
       "    </tr>\n",
       "    <tr>\n",
       "      <th>240735</th>\n",
       "      <td>0.059817</td>\n",
       "      <td>b'STAR'</td>\n",
       "    </tr>\n",
       "    <tr>\n",
       "      <th>248927</th>\n",
       "      <td>0.176451</td>\n",
       "      <td>b'STAR'</td>\n",
       "    </tr>\n",
       "    <tr>\n",
       "      <th>264874</th>\n",
       "      <td>1.131591</td>\n",
       "      <td>b'STAR'</td>\n",
       "    </tr>\n",
       "    <tr>\n",
       "      <th>267190</th>\n",
       "      <td>0.092168</td>\n",
       "      <td>b'STAR'</td>\n",
       "    </tr>\n",
       "    <tr>\n",
       "      <th>272097</th>\n",
       "      <td>0.178121</td>\n",
       "      <td>b'STAR'</td>\n",
       "    </tr>\n",
       "    <tr>\n",
       "      <th>276974</th>\n",
       "      <td>0.118127</td>\n",
       "      <td>b'STAR'</td>\n",
       "    </tr>\n",
       "    <tr>\n",
       "      <th>297500</th>\n",
       "      <td>0.102615</td>\n",
       "      <td>b'STAR'</td>\n",
       "    </tr>\n",
       "    <tr>\n",
       "      <th>327046</th>\n",
       "      <td>0.045252</td>\n",
       "      <td>b'STAR'</td>\n",
       "    </tr>\n",
       "    <tr>\n",
       "      <th>330121</th>\n",
       "      <td>0.104712</td>\n",
       "      <td>b'STAR'</td>\n",
       "    </tr>\n",
       "    <tr>\n",
       "      <th>345928</th>\n",
       "      <td>0.466811</td>\n",
       "      <td>b'STAR'</td>\n",
       "    </tr>\n",
       "    <tr>\n",
       "      <th>386850</th>\n",
       "      <td>0.329357</td>\n",
       "      <td>b'STAR'</td>\n",
       "    </tr>\n",
       "    <tr>\n",
       "      <th>422175</th>\n",
       "      <td>1.741095</td>\n",
       "      <td>b'STAR'</td>\n",
       "    </tr>\n",
       "    <tr>\n",
       "      <th>422231</th>\n",
       "      <td>0.102468</td>\n",
       "      <td>b'STAR'</td>\n",
       "    </tr>\n",
       "    <tr>\n",
       "      <th>422234</th>\n",
       "      <td>0.230938</td>\n",
       "      <td>b'STAR'</td>\n",
       "    </tr>\n",
       "    <tr>\n",
       "      <th>454055</th>\n",
       "      <td>3.443939</td>\n",
       "      <td>b'QSO'</td>\n",
       "    </tr>\n",
       "    <tr>\n",
       "      <th>457949</th>\n",
       "      <td>1.999557</td>\n",
       "      <td>b'STAR'</td>\n",
       "    </tr>\n",
       "    <tr>\n",
       "      <th>483546</th>\n",
       "      <td>0.019792</td>\n",
       "      <td>b'STAR'</td>\n",
       "    </tr>\n",
       "    <tr>\n",
       "      <th>490741</th>\n",
       "      <td>0.055708</td>\n",
       "      <td>b'STAR'</td>\n",
       "    </tr>\n",
       "    <tr>\n",
       "      <th>505750</th>\n",
       "      <td>0.163716</td>\n",
       "      <td>b'STAR'</td>\n",
       "    </tr>\n",
       "    <tr>\n",
       "      <th>511568</th>\n",
       "      <td>0.077374</td>\n",
       "      <td>b'STAR'</td>\n",
       "    </tr>\n",
       "    <tr>\n",
       "      <th>524810</th>\n",
       "      <td>0.069322</td>\n",
       "      <td>b'STAR'</td>\n",
       "    </tr>\n",
       "    <tr>\n",
       "      <th>542458</th>\n",
       "      <td>1.685466</td>\n",
       "      <td>b'STAR'</td>\n",
       "    </tr>\n",
       "    <tr>\n",
       "      <th>543872</th>\n",
       "      <td>0.167940</td>\n",
       "      <td>b'STAR'</td>\n",
       "    </tr>\n",
       "    <tr>\n",
       "      <th>550887</th>\n",
       "      <td>0.179306</td>\n",
       "      <td>b'STAR'</td>\n",
       "    </tr>\n",
       "    <tr>\n",
       "      <th>554155</th>\n",
       "      <td>0.008984</td>\n",
       "      <td>b'STAR'</td>\n",
       "    </tr>\n",
       "    <tr>\n",
       "      <th>555506</th>\n",
       "      <td>0.142318</td>\n",
       "      <td>b'STAR'</td>\n",
       "    </tr>\n",
       "    <tr>\n",
       "      <th>557989</th>\n",
       "      <td>0.017049</td>\n",
       "      <td>b'STAR'</td>\n",
       "    </tr>\n",
       "    <tr>\n",
       "      <th>558510</th>\n",
       "      <td>0.001021</td>\n",
       "      <td>b'STAR'</td>\n",
       "    </tr>\n",
       "    <tr>\n",
       "      <th>572204</th>\n",
       "      <td>0.149327</td>\n",
       "      <td>b'STAR'</td>\n",
       "    </tr>\n",
       "    <tr>\n",
       "      <th>573112</th>\n",
       "      <td>0.067623</td>\n",
       "      <td>b'STAR'</td>\n",
       "    </tr>\n",
       "    <tr>\n",
       "      <th>591460</th>\n",
       "      <td>0.642007</td>\n",
       "      <td>b'STAR'</td>\n",
       "    </tr>\n",
       "  </tbody>\n",
       "</table>\n",
       "</div>"
      ],
      "text/plain": [
       "           chisq sdss_dr17_specobj.CLASS\n",
       "36840        inf                 b'STAR'\n",
       "70067   0.154882                 b'STAR'\n",
       "70637   0.020429                 b'STAR'\n",
       "77282   3.142345                  b'QSO'\n",
       "98498   0.007948                 b'STAR'\n",
       "129342  0.026708                 b'STAR'\n",
       "130958  3.750604                 b'STAR'\n",
       "139298  0.040690                 b'STAR'\n",
       "174211  1.613110                 b'STAR'\n",
       "174854  0.223338                 b'STAR'\n",
       "189666  4.708101                  b'QSO'\n",
       "231531  0.140619                 b'STAR'\n",
       "236080  1.595879                 b'STAR'\n",
       "240735  0.059817                 b'STAR'\n",
       "248927  0.176451                 b'STAR'\n",
       "264874  1.131591                 b'STAR'\n",
       "267190  0.092168                 b'STAR'\n",
       "272097  0.178121                 b'STAR'\n",
       "276974  0.118127                 b'STAR'\n",
       "297500  0.102615                 b'STAR'\n",
       "327046  0.045252                 b'STAR'\n",
       "330121  0.104712                 b'STAR'\n",
       "345928  0.466811                 b'STAR'\n",
       "386850  0.329357                 b'STAR'\n",
       "422175  1.741095                 b'STAR'\n",
       "422231  0.102468                 b'STAR'\n",
       "422234  0.230938                 b'STAR'\n",
       "454055  3.443939                  b'QSO'\n",
       "457949  1.999557                 b'STAR'\n",
       "483546  0.019792                 b'STAR'\n",
       "490741  0.055708                 b'STAR'\n",
       "505750  0.163716                 b'STAR'\n",
       "511568  0.077374                 b'STAR'\n",
       "524810  0.069322                 b'STAR'\n",
       "542458  1.685466                 b'STAR'\n",
       "543872  0.167940                 b'STAR'\n",
       "550887  0.179306                 b'STAR'\n",
       "554155  0.008984                 b'STAR'\n",
       "555506  0.142318                 b'STAR'\n",
       "557989  0.017049                 b'STAR'\n",
       "558510  0.001021                 b'STAR'\n",
       "572204  0.149327                 b'STAR'\n",
       "573112  0.067623                 b'STAR'\n",
       "591460  0.642007                 b'STAR'"
      ]
     },
     "execution_count": 62,
     "metadata": {},
     "output_type": "execute_result"
    }
   ],
   "source": [
    "outliers.iloc[wisecut][['chisq', 'sdss_dr17_specobj.CLASS']]"
   ]
  },
  {
   "cell_type": "code",
   "execution_count": 61,
   "id": "e6868803",
   "metadata": {},
   "outputs": [
    {
     "data": {
      "text/plain": [
       "['_id',\n",
       " 'ra',\n",
       " 'dec',\n",
       " 'gaia_id',\n",
       " 'l',\n",
       " 'b',\n",
       " 'plx',\n",
       " 'plx_err',\n",
       " 'chisq',\n",
       " 'gaia_edr3.source_id',\n",
       " 'gaia_edr3.l',\n",
       " 'gaia_edr3.b',\n",
       " 'gaia_edr3.pm',\n",
       " 'gaia_edr3.pmra',\n",
       " 'gaia_edr3.pmra_error',\n",
       " 'gaia_edr3.pmdec',\n",
       " 'gaia_edr3.pmdec_error',\n",
       " 'gaia_edr3.parallax',\n",
       " 'gaia_edr3.parallax_error',\n",
       " 'gaia_edr3.parallax_over_error',\n",
       " 'gaia_edr3.astrometric_n_good_obs_al',\n",
       " 'gaia_edr3.astrometric_chi2_al',\n",
       " 'gaia_edr3.astrometric_excess_noise',\n",
       " 'gaia_edr3.visibility_periods_used',\n",
       " 'gaia_edr3.phot_g_mean_mag',\n",
       " 'gaia_edr3.bp_rp',\n",
       " 'gaia_edr3.ruwe',\n",
       " 'gaia_dr2_source.l',\n",
       " 'gaia_dr2_source.b',\n",
       " 'gaia_dr2_source.ra',\n",
       " 'gaia_dr2_source.dec',\n",
       " 'gaia_dr2_source.ra_error',\n",
       " 'gaia_dr2_source.dec_error',\n",
       " 'gaia_dr2_source.solution_id',\n",
       " 'gaia_dr2_source.parallax',\n",
       " 'gaia_dr2_source.parallax_error',\n",
       " 'gaia_dr2_source.visibility_periods_used',\n",
       " 'gaia_dr2_source.astrometric_chi2_al',\n",
       " 'gaia_dr2_source.astrometric_n_good_obs_al',\n",
       " 'gaia_dr2_source.astrometric_excess_noise',\n",
       " 'gaia_dr2_source.phot_g_mean_mag',\n",
       " 'allwise.rchi2',\n",
       " 'allwise.w1rchi2',\n",
       " 'allwise.w1rchi2_pm',\n",
       " 'allwise.w1mpro',\n",
       " 'allwise.w1sigmpro',\n",
       " 'allwise.w2rchi2',\n",
       " 'allwise.w2mpro',\n",
       " 'allwise.w2sigmpro',\n",
       " 'allwise.w3rchi2',\n",
       " 'allwise.w3mpro',\n",
       " 'allwise.w3sigmpro',\n",
       " 'allwise.w4mpro',\n",
       " 'allwise.w4sigmpro',\n",
       " 'sdss_dr17_specobj.lsd_id',\n",
       " 'sdss_dr17_specobj.PLUG_RA',\n",
       " 'sdss_dr17_specobj.PLUG_DEC',\n",
       " 'sdss_dr17_specobj.CLASS',\n",
       " 'sdss_dr17_specobj.SUBCLASS',\n",
       " 'sdss_dr17_specobj.Z',\n",
       " 'sdss_dr17_specobj.Z_ERR',\n",
       " 'sdss_dr17_specobj.ZWARNING',\n",
       " 'sdss_dr17_specobj.CHI68P',\n",
       " 'sdss_dr17_specobj.SN_MEDIAN_ALL',\n",
       " 'sdss_dr17_specobj.RCHI2',\n",
       " 'dm_median',\n",
       " 'E_median',\n",
       " 'dm_sigma',\n",
       " 'E_sigma',\n",
       " 'DiscPlx',\n",
       " 'mag_g',\n",
       " 'mag_err_g',\n",
       " 'mag_r',\n",
       " 'mag_err_r',\n",
       " 'mag_i',\n",
       " 'mag_err_i',\n",
       " 'mag_z',\n",
       " 'mag_err_z',\n",
       " 'mag_y',\n",
       " 'mag_err_y',\n",
       " 'mag_J',\n",
       " 'mag_err_J',\n",
       " 'mag_H',\n",
       " 'mag_err_H',\n",
       " 'mag_K',\n",
       " 'mag_err_K',\n",
       " 'g-r',\n",
       " 'r-i',\n",
       " 'z-W1',\n",
       " 'W1-W2',\n",
       " 'W2-W3',\n",
       " 'reduced_chisq',\n",
       " 'sdss.pmag_u',\n",
       " 'sdss.pmag_err_u',\n",
       " 'sdss.pmag_g',\n",
       " 'sdss.pmag_err_g',\n",
       " 'sdss.pmag_r',\n",
       " 'sdss.pmag_err_r',\n",
       " 'sdss.pmag_i',\n",
       " 'sdss.pmag_err_i',\n",
       " 'sdss.pmag_z',\n",
       " 'sdss.pmag_err_z',\n",
       " 'u-g_sdss',\n",
       " 'g-r_sdss',\n",
       " 'sn_median_u',\n",
       " 'sn_median_g',\n",
       " 'sn_median_r',\n",
       " 'sn_median_i',\n",
       " 'sn_median_z',\n",
       " 'label']"
      ]
     },
     "execution_count": 61,
     "metadata": {},
     "output_type": "execute_result"
    }
   ],
   "source": [
    "outliers.columns.to_list()"
   ]
  },
  {
   "cell_type": "code",
   "execution_count": null,
   "id": "3c21c7a8",
   "metadata": {},
   "outputs": [],
   "source": []
  }
 ],
 "metadata": {
  "kernelspec": {
   "display_name": "Python 3",
   "language": "python",
   "name": "python3"
  },
  "language_info": {
   "codemirror_mode": {
    "name": "ipython",
    "version": 3
   },
   "file_extension": ".py",
   "mimetype": "text/x-python",
   "name": "python",
   "nbconvert_exporter": "python",
   "pygments_lexer": "ipython3",
   "version": "3.8.12"
  }
 },
 "nbformat": 4,
 "nbformat_minor": 5
}
